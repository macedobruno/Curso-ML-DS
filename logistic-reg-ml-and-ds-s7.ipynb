{
 "cells": [
  {
   "cell_type": "code",
   "execution_count": 1,
   "id": "a9301e9d",
   "metadata": {
    "_cell_guid": "b1076dfc-b9ad-4769-8c92-a6c4dae69d19",
    "_uuid": "8f2839f25d086af736a60e9eeb907d3b93b6e0e5",
    "execution": {
     "iopub.execute_input": "2024-10-07T00:27:18.269205Z",
     "iopub.status.busy": "2024-10-07T00:27:18.268342Z",
     "iopub.status.idle": "2024-10-07T00:27:19.012036Z",
     "shell.execute_reply": "2024-10-07T00:27:19.011070Z"
    },
    "papermill": {
     "duration": 0.763581,
     "end_time": "2024-10-07T00:27:19.014424",
     "exception": false,
     "start_time": "2024-10-07T00:27:18.250843",
     "status": "completed"
    },
    "tags": []
   },
   "outputs": [],
   "source": [
    "# This Python 3 environment comes with many helpful analytics libraries installed\n",
    "# It is defined by the kaggle/python Docker image: https://github.com/kaggle/docker-python\n",
    "# For example, here's several helpful packages to load\n",
    "\n",
    "import numpy as np # linear algebra\n",
    "import pandas as pd # data processing, CSV file I/O (e.g. pd.read_csv)\n",
    "\n",
    "# Input data files are available in the read-only \"../input/\" directory\n",
    "# For example, running this (by clicking run or pressing Shift+Enter) will list all files under the input directory\n",
    "\n",
    "import os\n",
    "for dirname, _, filenames in os.walk('/kaggle/input'):\n",
    "    for filename in filenames:\n",
    "        print(os.path.join(dirname, filename))\n",
    "\n",
    "# You can write up to 20GB to the current directory (/kaggle/working/) that gets preserved as output when you create a version using \"Save & Run All\" \n",
    "# You can also write temporary files to /kaggle/temp/, but they won't be saved outside of the current session"
   ]
  },
  {
   "cell_type": "markdown",
   "id": "3945c22d",
   "metadata": {
    "papermill": {
     "duration": 0.015087,
     "end_time": "2024-10-07T00:27:19.045304",
     "exception": false,
     "start_time": "2024-10-07T00:27:19.030217",
     "status": "completed"
    },
    "tags": []
   },
   "source": [
    "# **Importing the Libraries**"
   ]
  },
  {
   "cell_type": "code",
   "execution_count": 2,
   "id": "3272c17a",
   "metadata": {
    "execution": {
     "iopub.execute_input": "2024-10-07T00:27:19.078633Z",
     "iopub.status.busy": "2024-10-07T00:27:19.077860Z",
     "iopub.status.idle": "2024-10-07T00:27:20.201487Z",
     "shell.execute_reply": "2024-10-07T00:27:20.200707Z"
    },
    "papermill": {
     "duration": 1.143428,
     "end_time": "2024-10-07T00:27:20.203815",
     "exception": false,
     "start_time": "2024-10-07T00:27:19.060387",
     "status": "completed"
    },
    "tags": []
   },
   "outputs": [],
   "source": [
    "import pandas as pd\n",
    "import numpy as np\n",
    "import matplotlib.pyplot as plt\n",
    "import seaborn as sns\n",
    "import warnings\n",
    "warnings.filterwarnings('ignore')"
   ]
  },
  {
   "cell_type": "markdown",
   "id": "db2f2814",
   "metadata": {
    "papermill": {
     "duration": 0.014976,
     "end_time": "2024-10-07T00:27:20.234541",
     "exception": false,
     "start_time": "2024-10-07T00:27:20.219565",
     "status": "completed"
    },
    "tags": []
   },
   "source": [
    "# **Loading the Dataset**"
   ]
  },
  {
   "cell_type": "code",
   "execution_count": 3,
   "id": "f0574d7a",
   "metadata": {
    "execution": {
     "iopub.execute_input": "2024-10-07T00:27:20.266912Z",
     "iopub.status.busy": "2024-10-07T00:27:20.266218Z",
     "iopub.status.idle": "2024-10-07T00:27:21.265631Z",
     "shell.execute_reply": "2024-10-07T00:27:21.264824Z"
    },
    "papermill": {
     "duration": 1.018503,
     "end_time": "2024-10-07T00:27:21.268317",
     "exception": false,
     "start_time": "2024-10-07T00:27:20.249814",
     "status": "completed"
    },
    "tags": []
   },
   "outputs": [],
   "source": [
    "df = sns.load_dataset(\"titanic\")"
   ]
  },
  {
   "cell_type": "code",
   "execution_count": 4,
   "id": "3aeeb811",
   "metadata": {
    "execution": {
     "iopub.execute_input": "2024-10-07T00:27:21.301567Z",
     "iopub.status.busy": "2024-10-07T00:27:21.300949Z",
     "iopub.status.idle": "2024-10-07T00:27:21.325680Z",
     "shell.execute_reply": "2024-10-07T00:27:21.324775Z"
    },
    "papermill": {
     "duration": 0.043456,
     "end_time": "2024-10-07T00:27:21.327885",
     "exception": false,
     "start_time": "2024-10-07T00:27:21.284429",
     "status": "completed"
    },
    "tags": []
   },
   "outputs": [
    {
     "data": {
      "text/html": [
       "<div>\n",
       "<style scoped>\n",
       "    .dataframe tbody tr th:only-of-type {\n",
       "        vertical-align: middle;\n",
       "    }\n",
       "\n",
       "    .dataframe tbody tr th {\n",
       "        vertical-align: top;\n",
       "    }\n",
       "\n",
       "    .dataframe thead th {\n",
       "        text-align: right;\n",
       "    }\n",
       "</style>\n",
       "<table border=\"1\" class=\"dataframe\">\n",
       "  <thead>\n",
       "    <tr style=\"text-align: right;\">\n",
       "      <th></th>\n",
       "      <th>survived</th>\n",
       "      <th>pclass</th>\n",
       "      <th>sex</th>\n",
       "      <th>age</th>\n",
       "      <th>sibsp</th>\n",
       "      <th>parch</th>\n",
       "      <th>fare</th>\n",
       "      <th>embarked</th>\n",
       "      <th>class</th>\n",
       "      <th>who</th>\n",
       "      <th>adult_male</th>\n",
       "      <th>deck</th>\n",
       "      <th>embark_town</th>\n",
       "      <th>alive</th>\n",
       "      <th>alone</th>\n",
       "    </tr>\n",
       "  </thead>\n",
       "  <tbody>\n",
       "    <tr>\n",
       "      <th>0</th>\n",
       "      <td>0</td>\n",
       "      <td>3</td>\n",
       "      <td>male</td>\n",
       "      <td>22.0</td>\n",
       "      <td>1</td>\n",
       "      <td>0</td>\n",
       "      <td>7.2500</td>\n",
       "      <td>S</td>\n",
       "      <td>Third</td>\n",
       "      <td>man</td>\n",
       "      <td>True</td>\n",
       "      <td>NaN</td>\n",
       "      <td>Southampton</td>\n",
       "      <td>no</td>\n",
       "      <td>False</td>\n",
       "    </tr>\n",
       "    <tr>\n",
       "      <th>1</th>\n",
       "      <td>1</td>\n",
       "      <td>1</td>\n",
       "      <td>female</td>\n",
       "      <td>38.0</td>\n",
       "      <td>1</td>\n",
       "      <td>0</td>\n",
       "      <td>71.2833</td>\n",
       "      <td>C</td>\n",
       "      <td>First</td>\n",
       "      <td>woman</td>\n",
       "      <td>False</td>\n",
       "      <td>C</td>\n",
       "      <td>Cherbourg</td>\n",
       "      <td>yes</td>\n",
       "      <td>False</td>\n",
       "    </tr>\n",
       "    <tr>\n",
       "      <th>2</th>\n",
       "      <td>1</td>\n",
       "      <td>3</td>\n",
       "      <td>female</td>\n",
       "      <td>26.0</td>\n",
       "      <td>0</td>\n",
       "      <td>0</td>\n",
       "      <td>7.9250</td>\n",
       "      <td>S</td>\n",
       "      <td>Third</td>\n",
       "      <td>woman</td>\n",
       "      <td>False</td>\n",
       "      <td>NaN</td>\n",
       "      <td>Southampton</td>\n",
       "      <td>yes</td>\n",
       "      <td>True</td>\n",
       "    </tr>\n",
       "    <tr>\n",
       "      <th>3</th>\n",
       "      <td>1</td>\n",
       "      <td>1</td>\n",
       "      <td>female</td>\n",
       "      <td>35.0</td>\n",
       "      <td>1</td>\n",
       "      <td>0</td>\n",
       "      <td>53.1000</td>\n",
       "      <td>S</td>\n",
       "      <td>First</td>\n",
       "      <td>woman</td>\n",
       "      <td>False</td>\n",
       "      <td>C</td>\n",
       "      <td>Southampton</td>\n",
       "      <td>yes</td>\n",
       "      <td>False</td>\n",
       "    </tr>\n",
       "    <tr>\n",
       "      <th>4</th>\n",
       "      <td>0</td>\n",
       "      <td>3</td>\n",
       "      <td>male</td>\n",
       "      <td>35.0</td>\n",
       "      <td>0</td>\n",
       "      <td>0</td>\n",
       "      <td>8.0500</td>\n",
       "      <td>S</td>\n",
       "      <td>Third</td>\n",
       "      <td>man</td>\n",
       "      <td>True</td>\n",
       "      <td>NaN</td>\n",
       "      <td>Southampton</td>\n",
       "      <td>no</td>\n",
       "      <td>True</td>\n",
       "    </tr>\n",
       "  </tbody>\n",
       "</table>\n",
       "</div>"
      ],
      "text/plain": [
       "   survived  pclass     sex   age  sibsp  parch     fare embarked  class  \\\n",
       "0         0       3    male  22.0      1      0   7.2500        S  Third   \n",
       "1         1       1  female  38.0      1      0  71.2833        C  First   \n",
       "2         1       3  female  26.0      0      0   7.9250        S  Third   \n",
       "3         1       1  female  35.0      1      0  53.1000        S  First   \n",
       "4         0       3    male  35.0      0      0   8.0500        S  Third   \n",
       "\n",
       "     who  adult_male deck  embark_town alive  alone  \n",
       "0    man        True  NaN  Southampton    no  False  \n",
       "1  woman       False    C    Cherbourg   yes  False  \n",
       "2  woman       False  NaN  Southampton   yes   True  \n",
       "3  woman       False    C  Southampton   yes  False  \n",
       "4    man        True  NaN  Southampton    no   True  "
      ]
     },
     "execution_count": 4,
     "metadata": {},
     "output_type": "execute_result"
    }
   ],
   "source": [
    "df.head()"
   ]
  },
  {
   "cell_type": "markdown",
   "id": "9bad96b2",
   "metadata": {
    "papermill": {
     "duration": 0.015478,
     "end_time": "2024-10-07T00:27:21.359371",
     "exception": false,
     "start_time": "2024-10-07T00:27:21.343893",
     "status": "completed"
    },
    "tags": []
   },
   "source": [
    "### https://github.com/mwaskom/seaborn-data?tab=readme-ov-file\n",
    "\n",
    "https://www.kaggle.com/c/titanic/data\n",
    "\n",
    "- survived = se o passageiro sobreviveu\n",
    "- pclass = tipo de classe do ticket do passageiro (1ª classe, 2ª classe, etc)\n",
    "- sex = sexo do passageiro\n",
    "- age = idade\n",
    "- sibsp = número de conjuges no navio\n",
    "- parch = número de parentes no navio\n",
    "- fare = valor do ticket\n",
    "- embarked = por qual porto embarcou no navio\n",
    "- class = classe dos passageiros\n",
    "- who = se é homem, mulher ou criança (male, female, child)\n",
    "- adult_male = indica se é um homem adulto ou não\n",
    "- deck = qual deck o passageiro estava no navio (A a G)\n",
    "- embark_town = Cidade onde embarbou\n",
    "- alive = se ainda está vivo ou não\n",
    "- alone = se o passageiro estava sozinho no navio"
   ]
  },
  {
   "cell_type": "markdown",
   "id": "bafd5754",
   "metadata": {
    "papermill": {
     "duration": 0.015196,
     "end_time": "2024-10-07T00:27:21.390048",
     "exception": false,
     "start_time": "2024-10-07T00:27:21.374852",
     "status": "completed"
    },
    "tags": []
   },
   "source": [
    "# **Análise inicial do Dataset**"
   ]
  },
  {
   "cell_type": "code",
   "execution_count": 5,
   "id": "25c20709",
   "metadata": {
    "execution": {
     "iopub.execute_input": "2024-10-07T00:27:21.422361Z",
     "iopub.status.busy": "2024-10-07T00:27:21.421981Z",
     "iopub.status.idle": "2024-10-07T00:27:21.442518Z",
     "shell.execute_reply": "2024-10-07T00:27:21.441568Z"
    },
    "papermill": {
     "duration": 0.039186,
     "end_time": "2024-10-07T00:27:21.444628",
     "exception": false,
     "start_time": "2024-10-07T00:27:21.405442",
     "status": "completed"
    },
    "tags": []
   },
   "outputs": [
    {
     "name": "stdout",
     "output_type": "stream",
     "text": [
      "<class 'pandas.core.frame.DataFrame'>\n",
      "RangeIndex: 891 entries, 0 to 890\n",
      "Data columns (total 15 columns):\n",
      " #   Column       Non-Null Count  Dtype   \n",
      "---  ------       --------------  -----   \n",
      " 0   survived     891 non-null    int64   \n",
      " 1   pclass       891 non-null    int64   \n",
      " 2   sex          891 non-null    object  \n",
      " 3   age          714 non-null    float64 \n",
      " 4   sibsp        891 non-null    int64   \n",
      " 5   parch        891 non-null    int64   \n",
      " 6   fare         891 non-null    float64 \n",
      " 7   embarked     889 non-null    object  \n",
      " 8   class        891 non-null    category\n",
      " 9   who          891 non-null    object  \n",
      " 10  adult_male   891 non-null    bool    \n",
      " 11  deck         203 non-null    category\n",
      " 12  embark_town  889 non-null    object  \n",
      " 13  alive        891 non-null    object  \n",
      " 14  alone        891 non-null    bool    \n",
      "dtypes: bool(2), category(2), float64(2), int64(4), object(5)\n",
      "memory usage: 80.7+ KB\n"
     ]
    }
   ],
   "source": [
    "df.info()"
   ]
  },
  {
   "cell_type": "code",
   "execution_count": 6,
   "id": "bc0126ae",
   "metadata": {
    "execution": {
     "iopub.execute_input": "2024-10-07T00:27:21.479388Z",
     "iopub.status.busy": "2024-10-07T00:27:21.479048Z",
     "iopub.status.idle": "2024-10-07T00:27:21.486853Z",
     "shell.execute_reply": "2024-10-07T00:27:21.485915Z"
    },
    "papermill": {
     "duration": 0.02695,
     "end_time": "2024-10-07T00:27:21.488836",
     "exception": false,
     "start_time": "2024-10-07T00:27:21.461886",
     "status": "completed"
    },
    "tags": []
   },
   "outputs": [],
   "source": [
    "df.drop([\"embarked\",\"class\", \"alive\"], axis = 1, inplace = True)"
   ]
  },
  {
   "cell_type": "code",
   "execution_count": 7,
   "id": "707d1dc2",
   "metadata": {
    "execution": {
     "iopub.execute_input": "2024-10-07T00:27:21.524507Z",
     "iopub.status.busy": "2024-10-07T00:27:21.523819Z",
     "iopub.status.idle": "2024-10-07T00:27:21.538875Z",
     "shell.execute_reply": "2024-10-07T00:27:21.537962Z"
    },
    "papermill": {
     "duration": 0.035447,
     "end_time": "2024-10-07T00:27:21.541101",
     "exception": false,
     "start_time": "2024-10-07T00:27:21.505654",
     "status": "completed"
    },
    "tags": []
   },
   "outputs": [
    {
     "data": {
      "text/html": [
       "<div>\n",
       "<style scoped>\n",
       "    .dataframe tbody tr th:only-of-type {\n",
       "        vertical-align: middle;\n",
       "    }\n",
       "\n",
       "    .dataframe tbody tr th {\n",
       "        vertical-align: top;\n",
       "    }\n",
       "\n",
       "    .dataframe thead th {\n",
       "        text-align: right;\n",
       "    }\n",
       "</style>\n",
       "<table border=\"1\" class=\"dataframe\">\n",
       "  <thead>\n",
       "    <tr style=\"text-align: right;\">\n",
       "      <th></th>\n",
       "      <th>survived</th>\n",
       "      <th>pclass</th>\n",
       "      <th>sex</th>\n",
       "      <th>age</th>\n",
       "      <th>sibsp</th>\n",
       "      <th>parch</th>\n",
       "      <th>fare</th>\n",
       "      <th>who</th>\n",
       "      <th>adult_male</th>\n",
       "      <th>deck</th>\n",
       "      <th>embark_town</th>\n",
       "      <th>alone</th>\n",
       "    </tr>\n",
       "  </thead>\n",
       "  <tbody>\n",
       "    <tr>\n",
       "      <th>0</th>\n",
       "      <td>0</td>\n",
       "      <td>3</td>\n",
       "      <td>male</td>\n",
       "      <td>22.0</td>\n",
       "      <td>1</td>\n",
       "      <td>0</td>\n",
       "      <td>7.2500</td>\n",
       "      <td>man</td>\n",
       "      <td>True</td>\n",
       "      <td>NaN</td>\n",
       "      <td>Southampton</td>\n",
       "      <td>False</td>\n",
       "    </tr>\n",
       "    <tr>\n",
       "      <th>1</th>\n",
       "      <td>1</td>\n",
       "      <td>1</td>\n",
       "      <td>female</td>\n",
       "      <td>38.0</td>\n",
       "      <td>1</td>\n",
       "      <td>0</td>\n",
       "      <td>71.2833</td>\n",
       "      <td>woman</td>\n",
       "      <td>False</td>\n",
       "      <td>C</td>\n",
       "      <td>Cherbourg</td>\n",
       "      <td>False</td>\n",
       "    </tr>\n",
       "    <tr>\n",
       "      <th>2</th>\n",
       "      <td>1</td>\n",
       "      <td>3</td>\n",
       "      <td>female</td>\n",
       "      <td>26.0</td>\n",
       "      <td>0</td>\n",
       "      <td>0</td>\n",
       "      <td>7.9250</td>\n",
       "      <td>woman</td>\n",
       "      <td>False</td>\n",
       "      <td>NaN</td>\n",
       "      <td>Southampton</td>\n",
       "      <td>True</td>\n",
       "    </tr>\n",
       "    <tr>\n",
       "      <th>3</th>\n",
       "      <td>1</td>\n",
       "      <td>1</td>\n",
       "      <td>female</td>\n",
       "      <td>35.0</td>\n",
       "      <td>1</td>\n",
       "      <td>0</td>\n",
       "      <td>53.1000</td>\n",
       "      <td>woman</td>\n",
       "      <td>False</td>\n",
       "      <td>C</td>\n",
       "      <td>Southampton</td>\n",
       "      <td>False</td>\n",
       "    </tr>\n",
       "    <tr>\n",
       "      <th>4</th>\n",
       "      <td>0</td>\n",
       "      <td>3</td>\n",
       "      <td>male</td>\n",
       "      <td>35.0</td>\n",
       "      <td>0</td>\n",
       "      <td>0</td>\n",
       "      <td>8.0500</td>\n",
       "      <td>man</td>\n",
       "      <td>True</td>\n",
       "      <td>NaN</td>\n",
       "      <td>Southampton</td>\n",
       "      <td>True</td>\n",
       "    </tr>\n",
       "  </tbody>\n",
       "</table>\n",
       "</div>"
      ],
      "text/plain": [
       "   survived  pclass     sex   age  sibsp  parch     fare    who  adult_male  \\\n",
       "0         0       3    male  22.0      1      0   7.2500    man        True   \n",
       "1         1       1  female  38.0      1      0  71.2833  woman       False   \n",
       "2         1       3  female  26.0      0      0   7.9250  woman       False   \n",
       "3         1       1  female  35.0      1      0  53.1000  woman       False   \n",
       "4         0       3    male  35.0      0      0   8.0500    man        True   \n",
       "\n",
       "  deck  embark_town  alone  \n",
       "0  NaN  Southampton  False  \n",
       "1    C    Cherbourg  False  \n",
       "2  NaN  Southampton   True  \n",
       "3    C  Southampton  False  \n",
       "4  NaN  Southampton   True  "
      ]
     },
     "execution_count": 7,
     "metadata": {},
     "output_type": "execute_result"
    }
   ],
   "source": [
    "df.head()"
   ]
  },
  {
   "cell_type": "markdown",
   "id": "851ff016",
   "metadata": {
    "papermill": {
     "duration": 0.017457,
     "end_time": "2024-10-07T00:27:21.576653",
     "exception": false,
     "start_time": "2024-10-07T00:27:21.559196",
     "status": "completed"
    },
    "tags": []
   },
   "source": [
    "# **Exploratory Data Analysis (EDA)**"
   ]
  },
  {
   "cell_type": "code",
   "execution_count": 8,
   "id": "ec015e4e",
   "metadata": {
    "execution": {
     "iopub.execute_input": "2024-10-07T00:27:21.614301Z",
     "iopub.status.busy": "2024-10-07T00:27:21.613921Z",
     "iopub.status.idle": "2024-10-07T00:27:21.622230Z",
     "shell.execute_reply": "2024-10-07T00:27:21.621360Z"
    },
    "papermill": {
     "duration": 0.029293,
     "end_time": "2024-10-07T00:27:21.624155",
     "exception": false,
     "start_time": "2024-10-07T00:27:21.594862",
     "status": "completed"
    },
    "tags": []
   },
   "outputs": [],
   "source": [
    "null_num = []\n",
    "for i in df.columns:\n",
    "    x = df[i].isnull().sum()\n",
    "    null_num.append(x)"
   ]
  },
  {
   "cell_type": "code",
   "execution_count": 9,
   "id": "c8fcdf3b",
   "metadata": {
    "execution": {
     "iopub.execute_input": "2024-10-07T00:27:21.658237Z",
     "iopub.status.busy": "2024-10-07T00:27:21.657817Z",
     "iopub.status.idle": "2024-10-07T00:27:21.663724Z",
     "shell.execute_reply": "2024-10-07T00:27:21.662908Z"
    },
    "papermill": {
     "duration": 0.025374,
     "end_time": "2024-10-07T00:27:21.665688",
     "exception": false,
     "start_time": "2024-10-07T00:27:21.640314",
     "status": "completed"
    },
    "tags": []
   },
   "outputs": [
    {
     "data": {
      "text/plain": [
       "[0, 0, 0, 177, 0, 0, 0, 0, 0, 688, 2, 0]"
      ]
     },
     "execution_count": 9,
     "metadata": {},
     "output_type": "execute_result"
    }
   ],
   "source": [
    "null_num"
   ]
  },
  {
   "cell_type": "code",
   "execution_count": 10,
   "id": "1287d47a",
   "metadata": {
    "execution": {
     "iopub.execute_input": "2024-10-07T00:27:21.699557Z",
     "iopub.status.busy": "2024-10-07T00:27:21.698735Z",
     "iopub.status.idle": "2024-10-07T00:27:21.708555Z",
     "shell.execute_reply": "2024-10-07T00:27:21.707647Z"
    },
    "papermill": {
     "duration": 0.029038,
     "end_time": "2024-10-07T00:27:21.710700",
     "exception": false,
     "start_time": "2024-10-07T00:27:21.681662",
     "status": "completed"
    },
    "tags": []
   },
   "outputs": [
    {
     "data": {
      "text/html": [
       "<div>\n",
       "<style scoped>\n",
       "    .dataframe tbody tr th:only-of-type {\n",
       "        vertical-align: middle;\n",
       "    }\n",
       "\n",
       "    .dataframe tbody tr th {\n",
       "        vertical-align: top;\n",
       "    }\n",
       "\n",
       "    .dataframe thead th {\n",
       "        text-align: right;\n",
       "    }\n",
       "</style>\n",
       "<table border=\"1\" class=\"dataframe\">\n",
       "  <thead>\n",
       "    <tr style=\"text-align: right;\">\n",
       "      <th></th>\n",
       "      <th>Total Missing Values</th>\n",
       "    </tr>\n",
       "  </thead>\n",
       "  <tbody>\n",
       "    <tr>\n",
       "      <th>survived</th>\n",
       "      <td>0</td>\n",
       "    </tr>\n",
       "    <tr>\n",
       "      <th>pclass</th>\n",
       "      <td>0</td>\n",
       "    </tr>\n",
       "    <tr>\n",
       "      <th>sex</th>\n",
       "      <td>0</td>\n",
       "    </tr>\n",
       "    <tr>\n",
       "      <th>age</th>\n",
       "      <td>177</td>\n",
       "    </tr>\n",
       "    <tr>\n",
       "      <th>sibsp</th>\n",
       "      <td>0</td>\n",
       "    </tr>\n",
       "    <tr>\n",
       "      <th>parch</th>\n",
       "      <td>0</td>\n",
       "    </tr>\n",
       "    <tr>\n",
       "      <th>fare</th>\n",
       "      <td>0</td>\n",
       "    </tr>\n",
       "    <tr>\n",
       "      <th>who</th>\n",
       "      <td>0</td>\n",
       "    </tr>\n",
       "    <tr>\n",
       "      <th>adult_male</th>\n",
       "      <td>0</td>\n",
       "    </tr>\n",
       "    <tr>\n",
       "      <th>deck</th>\n",
       "      <td>688</td>\n",
       "    </tr>\n",
       "    <tr>\n",
       "      <th>embark_town</th>\n",
       "      <td>2</td>\n",
       "    </tr>\n",
       "    <tr>\n",
       "      <th>alone</th>\n",
       "      <td>0</td>\n",
       "    </tr>\n",
       "  </tbody>\n",
       "</table>\n",
       "</div>"
      ],
      "text/plain": [
       "             Total Missing Values\n",
       "survived                        0\n",
       "pclass                          0\n",
       "sex                             0\n",
       "age                           177\n",
       "sibsp                           0\n",
       "parch                           0\n",
       "fare                            0\n",
       "who                             0\n",
       "adult_male                      0\n",
       "deck                          688\n",
       "embark_town                     2\n",
       "alone                           0"
      ]
     },
     "execution_count": 10,
     "metadata": {},
     "output_type": "execute_result"
    }
   ],
   "source": [
    "pd.DataFrame(null_num, index = df.columns, columns = [\"Total Missing Values\"])"
   ]
  },
  {
   "cell_type": "code",
   "execution_count": 11,
   "id": "441028b4",
   "metadata": {
    "execution": {
     "iopub.execute_input": "2024-10-07T00:27:21.744615Z",
     "iopub.status.busy": "2024-10-07T00:27:21.744356Z",
     "iopub.status.idle": "2024-10-07T00:27:22.139101Z",
     "shell.execute_reply": "2024-10-07T00:27:22.138145Z"
    },
    "papermill": {
     "duration": 0.413924,
     "end_time": "2024-10-07T00:27:22.141353",
     "exception": false,
     "start_time": "2024-10-07T00:27:21.727429",
     "status": "completed"
    },
    "tags": []
   },
   "outputs": [
    {
     "data": {
      "text/plain": [
       "<Axes: xlabel='deck', ylabel='count'>"
      ]
     },
     "execution_count": 11,
     "metadata": {},
     "output_type": "execute_result"
    },
    {
     "data": {
      "image/png": "[encoded data removed]",
      "text/plain": [
       "<Figure size 640x480 with 1 Axes>"
      ]
     },
     "metadata": {},
     "output_type": "display_data"
    }
   ],
   "source": [
    "sns.set_style(\"darkgrid\")\n",
    "sns.countplot(x = \"deck\", data = df, palette = \"viridis\")"
   ]
  },
  {
   "cell_type": "code",
   "execution_count": 12,
   "id": "aa12985b",
   "metadata": {
    "execution": {
     "iopub.execute_input": "2024-10-07T00:27:22.177093Z",
     "iopub.status.busy": "2024-10-07T00:27:22.176243Z",
     "iopub.status.idle": "2024-10-07T00:27:22.548178Z",
     "shell.execute_reply": "2024-10-07T00:27:22.547201Z"
    },
    "papermill": {
     "duration": 0.391891,
     "end_time": "2024-10-07T00:27:22.550348",
     "exception": false,
     "start_time": "2024-10-07T00:27:22.158457",
     "status": "completed"
    },
    "tags": []
   },
   "outputs": [
    {
     "data": {
      "text/plain": [
       "<Axes: xlabel='deck', ylabel='count'>"
      ]
     },
     "execution_count": 12,
     "metadata": {},
     "output_type": "execute_result"
    },
    {
     "data": {
      "image/png": "[encoded data removed]",
      "text/plain": [
       "<Figure size 640x480 with 1 Axes>"
      ]
     },
     "metadata": {},
     "output_type": "display_data"
    }
   ],
   "source": [
    "sns.set_style(\"darkgrid\")\n",
    "sns.countplot(x = \"deck\", hue = \"survived\", data = df, palette = \"viridis\")"
   ]
  },
  {
   "cell_type": "code",
   "execution_count": 13,
   "id": "7673a637",
   "metadata": {
    "execution": {
     "iopub.execute_input": "2024-10-07T00:27:22.586811Z",
     "iopub.status.busy": "2024-10-07T00:27:22.586472Z",
     "iopub.status.idle": "2024-10-07T00:27:22.592219Z",
     "shell.execute_reply": "2024-10-07T00:27:22.591409Z"
    },
    "papermill": {
     "duration": 0.026306,
     "end_time": "2024-10-07T00:27:22.594102",
     "exception": false,
     "start_time": "2024-10-07T00:27:22.567796",
     "status": "completed"
    },
    "tags": []
   },
   "outputs": [],
   "source": [
    "df.drop([\"deck\"], axis = 1, inplace = True)"
   ]
  },
  {
   "cell_type": "code",
   "execution_count": 14,
   "id": "102bff74",
   "metadata": {
    "execution": {
     "iopub.execute_input": "2024-10-07T00:27:22.629692Z",
     "iopub.status.busy": "2024-10-07T00:27:22.629351Z",
     "iopub.status.idle": "2024-10-07T00:27:22.644154Z",
     "shell.execute_reply": "2024-10-07T00:27:22.643202Z"
    },
    "papermill": {
     "duration": 0.035274,
     "end_time": "2024-10-07T00:27:22.646476",
     "exception": false,
     "start_time": "2024-10-07T00:27:22.611202",
     "status": "completed"
    },
    "tags": []
   },
   "outputs": [
    {
     "data": {
      "text/html": [
       "<div>\n",
       "<style scoped>\n",
       "    .dataframe tbody tr th:only-of-type {\n",
       "        vertical-align: middle;\n",
       "    }\n",
       "\n",
       "    .dataframe tbody tr th {\n",
       "        vertical-align: top;\n",
       "    }\n",
       "\n",
       "    .dataframe thead th {\n",
       "        text-align: right;\n",
       "    }\n",
       "</style>\n",
       "<table border=\"1\" class=\"dataframe\">\n",
       "  <thead>\n",
       "    <tr style=\"text-align: right;\">\n",
       "      <th></th>\n",
       "      <th>survived</th>\n",
       "      <th>pclass</th>\n",
       "      <th>sex</th>\n",
       "      <th>age</th>\n",
       "      <th>sibsp</th>\n",
       "      <th>parch</th>\n",
       "      <th>fare</th>\n",
       "      <th>who</th>\n",
       "      <th>adult_male</th>\n",
       "      <th>embark_town</th>\n",
       "      <th>alone</th>\n",
       "    </tr>\n",
       "  </thead>\n",
       "  <tbody>\n",
       "    <tr>\n",
       "      <th>0</th>\n",
       "      <td>0</td>\n",
       "      <td>3</td>\n",
       "      <td>male</td>\n",
       "      <td>22.0</td>\n",
       "      <td>1</td>\n",
       "      <td>0</td>\n",
       "      <td>7.2500</td>\n",
       "      <td>man</td>\n",
       "      <td>True</td>\n",
       "      <td>Southampton</td>\n",
       "      <td>False</td>\n",
       "    </tr>\n",
       "    <tr>\n",
       "      <th>1</th>\n",
       "      <td>1</td>\n",
       "      <td>1</td>\n",
       "      <td>female</td>\n",
       "      <td>38.0</td>\n",
       "      <td>1</td>\n",
       "      <td>0</td>\n",
       "      <td>71.2833</td>\n",
       "      <td>woman</td>\n",
       "      <td>False</td>\n",
       "      <td>Cherbourg</td>\n",
       "      <td>False</td>\n",
       "    </tr>\n",
       "    <tr>\n",
       "      <th>2</th>\n",
       "      <td>1</td>\n",
       "      <td>3</td>\n",
       "      <td>female</td>\n",
       "      <td>26.0</td>\n",
       "      <td>0</td>\n",
       "      <td>0</td>\n",
       "      <td>7.9250</td>\n",
       "      <td>woman</td>\n",
       "      <td>False</td>\n",
       "      <td>Southampton</td>\n",
       "      <td>True</td>\n",
       "    </tr>\n",
       "    <tr>\n",
       "      <th>3</th>\n",
       "      <td>1</td>\n",
       "      <td>1</td>\n",
       "      <td>female</td>\n",
       "      <td>35.0</td>\n",
       "      <td>1</td>\n",
       "      <td>0</td>\n",
       "      <td>53.1000</td>\n",
       "      <td>woman</td>\n",
       "      <td>False</td>\n",
       "      <td>Southampton</td>\n",
       "      <td>False</td>\n",
       "    </tr>\n",
       "    <tr>\n",
       "      <th>4</th>\n",
       "      <td>0</td>\n",
       "      <td>3</td>\n",
       "      <td>male</td>\n",
       "      <td>35.0</td>\n",
       "      <td>0</td>\n",
       "      <td>0</td>\n",
       "      <td>8.0500</td>\n",
       "      <td>man</td>\n",
       "      <td>True</td>\n",
       "      <td>Southampton</td>\n",
       "      <td>True</td>\n",
       "    </tr>\n",
       "  </tbody>\n",
       "</table>\n",
       "</div>"
      ],
      "text/plain": [
       "   survived  pclass     sex   age  sibsp  parch     fare    who  adult_male  \\\n",
       "0         0       3    male  22.0      1      0   7.2500    man        True   \n",
       "1         1       1  female  38.0      1      0  71.2833  woman       False   \n",
       "2         1       3  female  26.0      0      0   7.9250  woman       False   \n",
       "3         1       1  female  35.0      1      0  53.1000  woman       False   \n",
       "4         0       3    male  35.0      0      0   8.0500    man        True   \n",
       "\n",
       "   embark_town  alone  \n",
       "0  Southampton  False  \n",
       "1    Cherbourg  False  \n",
       "2  Southampton   True  \n",
       "3  Southampton  False  \n",
       "4  Southampton   True  "
      ]
     },
     "execution_count": 14,
     "metadata": {},
     "output_type": "execute_result"
    }
   ],
   "source": [
    "df.head()"
   ]
  },
  {
   "cell_type": "code",
   "execution_count": 15,
   "id": "e029031e",
   "metadata": {
    "execution": {
     "iopub.execute_input": "2024-10-07T00:27:22.685770Z",
     "iopub.status.busy": "2024-10-07T00:27:22.685174Z",
     "iopub.status.idle": "2024-10-07T00:27:22.996458Z",
     "shell.execute_reply": "2024-10-07T00:27:22.995489Z"
    },
    "papermill": {
     "duration": 0.332753,
     "end_time": "2024-10-07T00:27:22.998528",
     "exception": false,
     "start_time": "2024-10-07T00:27:22.665775",
     "status": "completed"
    },
    "tags": []
   },
   "outputs": [
    {
     "data": {
      "text/plain": [
       "<Axes: xlabel='pclass', ylabel='age'>"
      ]
     },
     "execution_count": 15,
     "metadata": {},
     "output_type": "execute_result"
    },
    {
     "data": {
      "image/png": "[encoded data removed]",
      "text/plain": [
       "<Figure size 1000x600 with 1 Axes>"
      ]
     },
     "metadata": {},
     "output_type": "display_data"
    }
   ],
   "source": [
    "plt.figure(figsize = (10,6))\n",
    "sns.boxplot(x = \"pclass\", y = \"age\", data = df)"
   ]
  },
  {
   "cell_type": "code",
   "execution_count": 16,
   "id": "36c5163f",
   "metadata": {
    "execution": {
     "iopub.execute_input": "2024-10-07T00:27:23.036377Z",
     "iopub.status.busy": "2024-10-07T00:27:23.035992Z",
     "iopub.status.idle": "2024-10-07T00:27:23.041485Z",
     "shell.execute_reply": "2024-10-07T00:27:23.040649Z"
    },
    "papermill": {
     "duration": 0.027017,
     "end_time": "2024-10-07T00:27:23.043491",
     "exception": false,
     "start_time": "2024-10-07T00:27:23.016474",
     "status": "completed"
    },
    "tags": []
   },
   "outputs": [],
   "source": [
    "def fillna_age(columns):\n",
    "    age = columns[0]\n",
    "    pclass = columns[1]\n",
    "    \n",
    "    if pd.isnull(age):\n",
    "        if pclass == 1:\n",
    "            return 38\n",
    "        elif pclass == 2:\n",
    "            return 29\n",
    "        else:\n",
    "            return 23\n",
    "    else:\n",
    "        return age"
   ]
  },
  {
   "cell_type": "code",
   "execution_count": 17,
   "id": "87fc89e5",
   "metadata": {
    "execution": {
     "iopub.execute_input": "2024-10-07T00:27:23.131728Z",
     "iopub.status.busy": "2024-10-07T00:27:23.130834Z",
     "iopub.status.idle": "2024-10-07T00:27:23.176157Z",
     "shell.execute_reply": "2024-10-07T00:27:23.175154Z"
    },
    "papermill": {
     "duration": 0.067135,
     "end_time": "2024-10-07T00:27:23.178195",
     "exception": false,
     "start_time": "2024-10-07T00:27:23.111060",
     "status": "completed"
    },
    "tags": []
   },
   "outputs": [],
   "source": [
    "df.age = df[[\"age\", \"pclass\"]].apply(fillna_age, axis = 1)"
   ]
  },
  {
   "cell_type": "code",
   "execution_count": 18,
   "id": "911e46ea",
   "metadata": {
    "execution": {
     "iopub.execute_input": "2024-10-07T00:27:23.216000Z",
     "iopub.status.busy": "2024-10-07T00:27:23.215423Z",
     "iopub.status.idle": "2024-10-07T00:27:23.227886Z",
     "shell.execute_reply": "2024-10-07T00:27:23.226940Z"
    },
    "papermill": {
     "duration": 0.033533,
     "end_time": "2024-10-07T00:27:23.229931",
     "exception": false,
     "start_time": "2024-10-07T00:27:23.196398",
     "status": "completed"
    },
    "tags": []
   },
   "outputs": [
    {
     "data": {
      "text/html": [
       "<div>\n",
       "<style scoped>\n",
       "    .dataframe tbody tr th:only-of-type {\n",
       "        vertical-align: middle;\n",
       "    }\n",
       "\n",
       "    .dataframe tbody tr th {\n",
       "        vertical-align: top;\n",
       "    }\n",
       "\n",
       "    .dataframe thead th {\n",
       "        text-align: right;\n",
       "    }\n",
       "</style>\n",
       "<table border=\"1\" class=\"dataframe\">\n",
       "  <thead>\n",
       "    <tr style=\"text-align: right;\">\n",
       "      <th></th>\n",
       "      <th>Total Missing Values</th>\n",
       "    </tr>\n",
       "  </thead>\n",
       "  <tbody>\n",
       "    <tr>\n",
       "      <th>survived</th>\n",
       "      <td>0</td>\n",
       "    </tr>\n",
       "    <tr>\n",
       "      <th>pclass</th>\n",
       "      <td>0</td>\n",
       "    </tr>\n",
       "    <tr>\n",
       "      <th>sex</th>\n",
       "      <td>0</td>\n",
       "    </tr>\n",
       "    <tr>\n",
       "      <th>age</th>\n",
       "      <td>0</td>\n",
       "    </tr>\n",
       "    <tr>\n",
       "      <th>sibsp</th>\n",
       "      <td>0</td>\n",
       "    </tr>\n",
       "    <tr>\n",
       "      <th>parch</th>\n",
       "      <td>0</td>\n",
       "    </tr>\n",
       "    <tr>\n",
       "      <th>fare</th>\n",
       "      <td>0</td>\n",
       "    </tr>\n",
       "    <tr>\n",
       "      <th>who</th>\n",
       "      <td>0</td>\n",
       "    </tr>\n",
       "    <tr>\n",
       "      <th>adult_male</th>\n",
       "      <td>0</td>\n",
       "    </tr>\n",
       "    <tr>\n",
       "      <th>embark_town</th>\n",
       "      <td>2</td>\n",
       "    </tr>\n",
       "    <tr>\n",
       "      <th>alone</th>\n",
       "      <td>0</td>\n",
       "    </tr>\n",
       "  </tbody>\n",
       "</table>\n",
       "</div>"
      ],
      "text/plain": [
       "             Total Missing Values\n",
       "survived                        0\n",
       "pclass                          0\n",
       "sex                             0\n",
       "age                             0\n",
       "sibsp                           0\n",
       "parch                           0\n",
       "fare                            0\n",
       "who                             0\n",
       "adult_male                      0\n",
       "embark_town                     2\n",
       "alone                           0"
      ]
     },
     "execution_count": 18,
     "metadata": {},
     "output_type": "execute_result"
    }
   ],
   "source": [
    "null_num = []\n",
    "for i in df.columns:\n",
    "    x = df[i].isnull().sum()\n",
    "    null_num.append(x)\n",
    "\n",
    "pd.DataFrame(null_num, index = df.columns, columns = [\"Total Missing Values\"])"
   ]
  },
  {
   "cell_type": "code",
   "execution_count": 19,
   "id": "c90a83e4",
   "metadata": {
    "execution": {
     "iopub.execute_input": "2024-10-07T00:27:23.268821Z",
     "iopub.status.busy": "2024-10-07T00:27:23.268062Z",
     "iopub.status.idle": "2024-10-07T00:27:23.276055Z",
     "shell.execute_reply": "2024-10-07T00:27:23.274896Z"
    },
    "papermill": {
     "duration": 0.029447,
     "end_time": "2024-10-07T00:27:23.278196",
     "exception": false,
     "start_time": "2024-10-07T00:27:23.248749",
     "status": "completed"
    },
    "tags": []
   },
   "outputs": [],
   "source": [
    "df.dropna(inplace = True)"
   ]
  },
  {
   "cell_type": "code",
   "execution_count": 20,
   "id": "0d8f07c5",
   "metadata": {
    "execution": {
     "iopub.execute_input": "2024-10-07T00:27:23.315760Z",
     "iopub.status.busy": "2024-10-07T00:27:23.315099Z",
     "iopub.status.idle": "2024-10-07T00:27:23.327326Z",
     "shell.execute_reply": "2024-10-07T00:27:23.326464Z"
    },
    "papermill": {
     "duration": 0.033071,
     "end_time": "2024-10-07T00:27:23.329287",
     "exception": false,
     "start_time": "2024-10-07T00:27:23.296216",
     "status": "completed"
    },
    "tags": []
   },
   "outputs": [
    {
     "data": {
      "text/html": [
       "<div>\n",
       "<style scoped>\n",
       "    .dataframe tbody tr th:only-of-type {\n",
       "        vertical-align: middle;\n",
       "    }\n",
       "\n",
       "    .dataframe tbody tr th {\n",
       "        vertical-align: top;\n",
       "    }\n",
       "\n",
       "    .dataframe thead th {\n",
       "        text-align: right;\n",
       "    }\n",
       "</style>\n",
       "<table border=\"1\" class=\"dataframe\">\n",
       "  <thead>\n",
       "    <tr style=\"text-align: right;\">\n",
       "      <th></th>\n",
       "      <th>Total Missing Values</th>\n",
       "    </tr>\n",
       "  </thead>\n",
       "  <tbody>\n",
       "    <tr>\n",
       "      <th>survived</th>\n",
       "      <td>0</td>\n",
       "    </tr>\n",
       "    <tr>\n",
       "      <th>pclass</th>\n",
       "      <td>0</td>\n",
       "    </tr>\n",
       "    <tr>\n",
       "      <th>sex</th>\n",
       "      <td>0</td>\n",
       "    </tr>\n",
       "    <tr>\n",
       "      <th>age</th>\n",
       "      <td>0</td>\n",
       "    </tr>\n",
       "    <tr>\n",
       "      <th>sibsp</th>\n",
       "      <td>0</td>\n",
       "    </tr>\n",
       "    <tr>\n",
       "      <th>parch</th>\n",
       "      <td>0</td>\n",
       "    </tr>\n",
       "    <tr>\n",
       "      <th>fare</th>\n",
       "      <td>0</td>\n",
       "    </tr>\n",
       "    <tr>\n",
       "      <th>who</th>\n",
       "      <td>0</td>\n",
       "    </tr>\n",
       "    <tr>\n",
       "      <th>adult_male</th>\n",
       "      <td>0</td>\n",
       "    </tr>\n",
       "    <tr>\n",
       "      <th>embark_town</th>\n",
       "      <td>0</td>\n",
       "    </tr>\n",
       "    <tr>\n",
       "      <th>alone</th>\n",
       "      <td>0</td>\n",
       "    </tr>\n",
       "  </tbody>\n",
       "</table>\n",
       "</div>"
      ],
      "text/plain": [
       "             Total Missing Values\n",
       "survived                        0\n",
       "pclass                          0\n",
       "sex                             0\n",
       "age                             0\n",
       "sibsp                           0\n",
       "parch                           0\n",
       "fare                            0\n",
       "who                             0\n",
       "adult_male                      0\n",
       "embark_town                     0\n",
       "alone                           0"
      ]
     },
     "execution_count": 20,
     "metadata": {},
     "output_type": "execute_result"
    }
   ],
   "source": [
    "null_num = []\n",
    "for i in df.columns:\n",
    "    x = df[i].isnull().sum()\n",
    "    null_num.append(x)\n",
    "\n",
    "pd.DataFrame(null_num, index = df.columns, columns = [\"Total Missing Values\"])"
   ]
  },
  {
   "cell_type": "code",
   "execution_count": 21,
   "id": "b2dad856",
   "metadata": {
    "execution": {
     "iopub.execute_input": "2024-10-07T00:27:23.367396Z",
     "iopub.status.busy": "2024-10-07T00:27:23.367050Z",
     "iopub.status.idle": "2024-10-07T00:27:23.615462Z",
     "shell.execute_reply": "2024-10-07T00:27:23.614526Z"
    },
    "papermill": {
     "duration": 0.269962,
     "end_time": "2024-10-07T00:27:23.617599",
     "exception": false,
     "start_time": "2024-10-07T00:27:23.347637",
     "status": "completed"
    },
    "tags": []
   },
   "outputs": [
    {
     "data": {
      "text/plain": [
       "<Axes: xlabel='survived', ylabel='count'>"
      ]
     },
     "execution_count": 21,
     "metadata": {},
     "output_type": "execute_result"
    },
    {
     "data": {
      "image/png": "[encoded data removed]",
      "text/plain": [
       "<Figure size 640x480 with 1 Axes>"
      ]
     },
     "metadata": {},
     "output_type": "display_data"
    }
   ],
   "source": [
    "sns.set_style(\"darkgrid\")\n",
    "sns.countplot(x = \"survived\", data = df, palette = \"viridis\")"
   ]
  },
  {
   "cell_type": "code",
   "execution_count": 22,
   "id": "1f63ff5c",
   "metadata": {
    "execution": {
     "iopub.execute_input": "2024-10-07T00:27:23.656795Z",
     "iopub.status.busy": "2024-10-07T00:27:23.656438Z",
     "iopub.status.idle": "2024-10-07T00:27:23.664845Z",
     "shell.execute_reply": "2024-10-07T00:27:23.663989Z"
    },
    "papermill": {
     "duration": 0.030459,
     "end_time": "2024-10-07T00:27:23.666961",
     "exception": false,
     "start_time": "2024-10-07T00:27:23.636502",
     "status": "completed"
    },
    "tags": []
   },
   "outputs": [
    {
     "data": {
      "text/plain": [
       "survived\n",
       "0    549\n",
       "1    340\n",
       "Name: count, dtype: int64"
      ]
     },
     "execution_count": 22,
     "metadata": {},
     "output_type": "execute_result"
    }
   ],
   "source": [
    "df.survived.value_counts()"
   ]
  },
  {
   "cell_type": "code",
   "execution_count": 23,
   "id": "0ea49dd4",
   "metadata": {
    "execution": {
     "iopub.execute_input": "2024-10-07T00:27:23.705625Z",
     "iopub.status.busy": "2024-10-07T00:27:23.705353Z",
     "iopub.status.idle": "2024-10-07T00:27:23.959875Z",
     "shell.execute_reply": "2024-10-07T00:27:23.959030Z"
    },
    "papermill": {
     "duration": 0.276167,
     "end_time": "2024-10-07T00:27:23.961915",
     "exception": false,
     "start_time": "2024-10-07T00:27:23.685748",
     "status": "completed"
    },
    "tags": []
   },
   "outputs": [
    {
     "data": {
      "text/plain": [
       "<Axes: xlabel='survived', ylabel='count'>"
      ]
     },
     "execution_count": 23,
     "metadata": {},
     "output_type": "execute_result"
    },
    {
     "data": {
      "image/png": "[encoded data removed]",
      "text/plain": [
       "<Figure size 640x480 with 1 Axes>"
      ]
     },
     "metadata": {},
     "output_type": "display_data"
    }
   ],
   "source": [
    "sns.set_style(\"darkgrid\")\n",
    "sns.countplot(x = \"survived\", hue = \"alone\",data = df, palette = \"viridis\")"
   ]
  },
  {
   "cell_type": "code",
   "execution_count": 24,
   "id": "66824ad5",
   "metadata": {
    "execution": {
     "iopub.execute_input": "2024-10-07T00:27:24.001679Z",
     "iopub.status.busy": "2024-10-07T00:27:24.001129Z",
     "iopub.status.idle": "2024-10-07T00:27:24.272323Z",
     "shell.execute_reply": "2024-10-07T00:27:24.271382Z"
    },
    "papermill": {
     "duration": 0.293267,
     "end_time": "2024-10-07T00:27:24.274432",
     "exception": false,
     "start_time": "2024-10-07T00:27:23.981165",
     "status": "completed"
    },
    "tags": []
   },
   "outputs": [
    {
     "data": {
      "text/plain": [
       "<Axes: xlabel='survived', ylabel='count'>"
      ]
     },
     "execution_count": 24,
     "metadata": {},
     "output_type": "execute_result"
    },
    {
     "data": {
      "image/png": "[encoded data removed]",
      "text/plain": [
       "<Figure size 640x480 with 1 Axes>"
      ]
     },
     "metadata": {},
     "output_type": "display_data"
    }
   ],
   "source": [
    "sns.set_style(\"darkgrid\")\n",
    "sns.countplot(x = \"survived\", hue = \"adult_male\",data = df)"
   ]
  },
  {
   "cell_type": "code",
   "execution_count": 25,
   "id": "263f2a2c",
   "metadata": {
    "execution": {
     "iopub.execute_input": "2024-10-07T00:27:24.314721Z",
     "iopub.status.busy": "2024-10-07T00:27:24.314376Z",
     "iopub.status.idle": "2024-10-07T00:27:24.572921Z",
     "shell.execute_reply": "2024-10-07T00:27:24.571571Z"
    },
    "papermill": {
     "duration": 0.282045,
     "end_time": "2024-10-07T00:27:24.576211",
     "exception": false,
     "start_time": "2024-10-07T00:27:24.294166",
     "status": "completed"
    },
    "tags": []
   },
   "outputs": [
    {
     "data": {
      "text/plain": [
       "<Axes: xlabel='survived', ylabel='count'>"
      ]
     },
     "execution_count": 25,
     "metadata": {},
     "output_type": "execute_result"
    },
    {
     "data": {
      "image/png": "[encoded data removed]",
      "text/plain": [
       "<Figure size 640x480 with 1 Axes>"
      ]
     },
     "metadata": {},
     "output_type": "display_data"
    }
   ],
   "source": [
    "sns.set_style(\"darkgrid\")\n",
    "sns.countplot(x = \"survived\", hue = \"sex\",data = df)"
   ]
  },
  {
   "cell_type": "code",
   "execution_count": 26,
   "id": "2436c5ec",
   "metadata": {
    "execution": {
     "iopub.execute_input": "2024-10-07T00:27:24.628732Z",
     "iopub.status.busy": "2024-10-07T00:27:24.628356Z",
     "iopub.status.idle": "2024-10-07T00:27:24.927953Z",
     "shell.execute_reply": "2024-10-07T00:27:24.927137Z"
    },
    "papermill": {
     "duration": 0.327182,
     "end_time": "2024-10-07T00:27:24.929917",
     "exception": false,
     "start_time": "2024-10-07T00:27:24.602735",
     "status": "completed"
    },
    "tags": []
   },
   "outputs": [
    {
     "data": {
      "text/plain": [
       "<Axes: xlabel='survived', ylabel='count'>"
      ]
     },
     "execution_count": 26,
     "metadata": {},
     "output_type": "execute_result"
    },
    {
     "data": {
      "image/png": "[encoded data removed]",
      "text/plain": [
       "<Figure size 640x480 with 1 Axes>"
      ]
     },
     "metadata": {},
     "output_type": "display_data"
    }
   ],
   "source": [
    "sns.set_style(\"darkgrid\")\n",
    "sns.countplot(x = \"survived\", hue = \"embark_town\",data = df)"
   ]
  },
  {
   "cell_type": "code",
   "execution_count": 27,
   "id": "bee625d3",
   "metadata": {
    "execution": {
     "iopub.execute_input": "2024-10-07T00:27:24.971851Z",
     "iopub.status.busy": "2024-10-07T00:27:24.971592Z",
     "iopub.status.idle": "2024-10-07T00:27:24.978395Z",
     "shell.execute_reply": "2024-10-07T00:27:24.977552Z"
    },
    "papermill": {
     "duration": 0.02993,
     "end_time": "2024-10-07T00:27:24.980419",
     "exception": false,
     "start_time": "2024-10-07T00:27:24.950489",
     "status": "completed"
    },
    "tags": []
   },
   "outputs": [
    {
     "data": {
      "text/plain": [
       "embark_town\n",
       "Southampton    644\n",
       "Cherbourg      168\n",
       "Queenstown      77\n",
       "Name: count, dtype: int64"
      ]
     },
     "execution_count": 27,
     "metadata": {},
     "output_type": "execute_result"
    }
   ],
   "source": [
    "df.embark_town.value_counts()"
   ]
  },
  {
   "cell_type": "code",
   "execution_count": 28,
   "id": "8745c797",
   "metadata": {
    "execution": {
     "iopub.execute_input": "2024-10-07T00:27:25.021926Z",
     "iopub.status.busy": "2024-10-07T00:27:25.021684Z",
     "iopub.status.idle": "2024-10-07T00:27:25.433645Z",
     "shell.execute_reply": "2024-10-07T00:27:25.432782Z"
    },
    "papermill": {
     "duration": 0.435284,
     "end_time": "2024-10-07T00:27:25.435820",
     "exception": false,
     "start_time": "2024-10-07T00:27:25.000536",
     "status": "completed"
    },
    "tags": []
   },
   "outputs": [
    {
     "data": {
      "text/plain": [
       "<Axes: xlabel='age', ylabel='Density'>"
      ]
     },
     "execution_count": 28,
     "metadata": {},
     "output_type": "execute_result"
    },
    {
     "data": {
      "image/png": "[encoded data removed]",
      "text/plain": [
       "<Figure size 1000x600 with 1 Axes>"
      ]
     },
     "metadata": {},
     "output_type": "display_data"
    }
   ],
   "source": [
    "plt.figure(figsize = (10,6))\n",
    "sns.distplot(df[\"age\"], color = \"darkred\")"
   ]
  },
  {
   "cell_type": "code",
   "execution_count": 29,
   "id": "7b07f4c3",
   "metadata": {
    "execution": {
     "iopub.execute_input": "2024-10-07T00:27:25.480809Z",
     "iopub.status.busy": "2024-10-07T00:27:25.480542Z",
     "iopub.status.idle": "2024-10-07T00:27:25.926953Z",
     "shell.execute_reply": "2024-10-07T00:27:25.926087Z"
    },
    "papermill": {
     "duration": 0.47206,
     "end_time": "2024-10-07T00:27:25.929310",
     "exception": false,
     "start_time": "2024-10-07T00:27:25.457250",
     "status": "completed"
    },
    "tags": []
   },
   "outputs": [
    {
     "data": {
      "text/plain": [
       "<Axes: xlabel='fare', ylabel='Density'>"
      ]
     },
     "execution_count": 29,
     "metadata": {},
     "output_type": "execute_result"
    },
    {
     "data": {
      "image/png": "[encoded data removed]",
      "text/plain": [
       "<Figure size 1000x600 with 1 Axes>"
      ]
     },
     "metadata": {},
     "output_type": "display_data"
    }
   ],
   "source": [
    "plt.figure(figsize = (10,6))\n",
    "sns.distplot(df[\"fare\"], color = \"darkred\")"
   ]
  },
  {
   "cell_type": "code",
   "execution_count": 30,
   "id": "da5771bf",
   "metadata": {
    "execution": {
     "iopub.execute_input": "2024-10-07T00:27:25.974693Z",
     "iopub.status.busy": "2024-10-07T00:27:25.974386Z",
     "iopub.status.idle": "2024-10-07T00:27:26.585793Z",
     "shell.execute_reply": "2024-10-07T00:27:26.584863Z"
    },
    "papermill": {
     "duration": 0.63658,
     "end_time": "2024-10-07T00:27:26.587983",
     "exception": false,
     "start_time": "2024-10-07T00:27:25.951403",
     "status": "completed"
    },
    "tags": []
   },
   "outputs": [
    {
     "data": {
      "text/plain": [
       "<Axes: >"
      ]
     },
     "execution_count": 30,
     "metadata": {},
     "output_type": "execute_result"
    },
    {
     "data": {
      "image/png": "[encoded data removed]",
      "text/plain": [
       "<Figure size 1000x600 with 2 Axes>"
      ]
     },
     "metadata": {},
     "output_type": "display_data"
    }
   ],
   "source": [
    "plt.figure(figsize = (10,6))\n",
    "#sns.heatmap(df.corr(), annot = True)\n",
    "sns.heatmap(df.corr(numeric_only = True), annot = True)"
   ]
  },
  {
   "cell_type": "code",
   "execution_count": 31,
   "id": "34430ddb",
   "metadata": {
    "execution": {
     "iopub.execute_input": "2024-10-07T00:27:26.635794Z",
     "iopub.status.busy": "2024-10-07T00:27:26.635045Z",
     "iopub.status.idle": "2024-10-07T00:27:26.640489Z",
     "shell.execute_reply": "2024-10-07T00:27:26.639730Z"
    },
    "papermill": {
     "duration": 0.031243,
     "end_time": "2024-10-07T00:27:26.642344",
     "exception": false,
     "start_time": "2024-10-07T00:27:26.611101",
     "status": "completed"
    },
    "tags": []
   },
   "outputs": [],
   "source": [
    "df.drop([\"age\", \"sibsp\", \"parch\"], axis = 1, inplace = True)"
   ]
  },
  {
   "cell_type": "code",
   "execution_count": 32,
   "id": "a228b100",
   "metadata": {
    "execution": {
     "iopub.execute_input": "2024-10-07T00:27:26.690139Z",
     "iopub.status.busy": "2024-10-07T00:27:26.689813Z",
     "iopub.status.idle": "2024-10-07T00:27:26.702436Z",
     "shell.execute_reply": "2024-10-07T00:27:26.701512Z"
    },
    "papermill": {
     "duration": 0.039184,
     "end_time": "2024-10-07T00:27:26.704429",
     "exception": false,
     "start_time": "2024-10-07T00:27:26.665245",
     "status": "completed"
    },
    "tags": []
   },
   "outputs": [
    {
     "data": {
      "text/html": [
       "<div>\n",
       "<style scoped>\n",
       "    .dataframe tbody tr th:only-of-type {\n",
       "        vertical-align: middle;\n",
       "    }\n",
       "\n",
       "    .dataframe tbody tr th {\n",
       "        vertical-align: top;\n",
       "    }\n",
       "\n",
       "    .dataframe thead th {\n",
       "        text-align: right;\n",
       "    }\n",
       "</style>\n",
       "<table border=\"1\" class=\"dataframe\">\n",
       "  <thead>\n",
       "    <tr style=\"text-align: right;\">\n",
       "      <th></th>\n",
       "      <th>survived</th>\n",
       "      <th>pclass</th>\n",
       "      <th>sex</th>\n",
       "      <th>fare</th>\n",
       "      <th>who</th>\n",
       "      <th>adult_male</th>\n",
       "      <th>embark_town</th>\n",
       "      <th>alone</th>\n",
       "    </tr>\n",
       "  </thead>\n",
       "  <tbody>\n",
       "    <tr>\n",
       "      <th>0</th>\n",
       "      <td>0</td>\n",
       "      <td>3</td>\n",
       "      <td>male</td>\n",
       "      <td>7.2500</td>\n",
       "      <td>man</td>\n",
       "      <td>True</td>\n",
       "      <td>Southampton</td>\n",
       "      <td>False</td>\n",
       "    </tr>\n",
       "    <tr>\n",
       "      <th>1</th>\n",
       "      <td>1</td>\n",
       "      <td>1</td>\n",
       "      <td>female</td>\n",
       "      <td>71.2833</td>\n",
       "      <td>woman</td>\n",
       "      <td>False</td>\n",
       "      <td>Cherbourg</td>\n",
       "      <td>False</td>\n",
       "    </tr>\n",
       "    <tr>\n",
       "      <th>2</th>\n",
       "      <td>1</td>\n",
       "      <td>3</td>\n",
       "      <td>female</td>\n",
       "      <td>7.9250</td>\n",
       "      <td>woman</td>\n",
       "      <td>False</td>\n",
       "      <td>Southampton</td>\n",
       "      <td>True</td>\n",
       "    </tr>\n",
       "    <tr>\n",
       "      <th>3</th>\n",
       "      <td>1</td>\n",
       "      <td>1</td>\n",
       "      <td>female</td>\n",
       "      <td>53.1000</td>\n",
       "      <td>woman</td>\n",
       "      <td>False</td>\n",
       "      <td>Southampton</td>\n",
       "      <td>False</td>\n",
       "    </tr>\n",
       "    <tr>\n",
       "      <th>4</th>\n",
       "      <td>0</td>\n",
       "      <td>3</td>\n",
       "      <td>male</td>\n",
       "      <td>8.0500</td>\n",
       "      <td>man</td>\n",
       "      <td>True</td>\n",
       "      <td>Southampton</td>\n",
       "      <td>True</td>\n",
       "    </tr>\n",
       "  </tbody>\n",
       "</table>\n",
       "</div>"
      ],
      "text/plain": [
       "   survived  pclass     sex     fare    who  adult_male  embark_town  alone\n",
       "0         0       3    male   7.2500    man        True  Southampton  False\n",
       "1         1       1  female  71.2833  woman       False    Cherbourg  False\n",
       "2         1       3  female   7.9250  woman       False  Southampton   True\n",
       "3         1       1  female  53.1000  woman       False  Southampton  False\n",
       "4         0       3    male   8.0500    man        True  Southampton   True"
      ]
     },
     "execution_count": 32,
     "metadata": {},
     "output_type": "execute_result"
    }
   ],
   "source": [
    "df.head()"
   ]
  },
  {
   "cell_type": "code",
   "execution_count": 33,
   "id": "568bd691",
   "metadata": {
    "execution": {
     "iopub.execute_input": "2024-10-07T00:27:26.751310Z",
     "iopub.status.busy": "2024-10-07T00:27:26.751043Z",
     "iopub.status.idle": "2024-10-07T00:27:26.778523Z",
     "shell.execute_reply": "2024-10-07T00:27:26.777544Z"
    },
    "papermill": {
     "duration": 0.053183,
     "end_time": "2024-10-07T00:27:26.780506",
     "exception": false,
     "start_time": "2024-10-07T00:27:26.727323",
     "status": "completed"
    },
    "tags": []
   },
   "outputs": [
    {
     "name": "stdout",
     "output_type": "stream",
     "text": [
      "SEX: \n",
      "<class 'pandas.core.frame.DataFrame'>\n",
      "Index: 889 entries, 0 to 890\n",
      "Data columns (total 1 columns):\n",
      " #   Column  Non-Null Count  Dtype\n",
      "---  ------  --------------  -----\n",
      " 0   male    889 non-null    bool \n",
      "dtypes: bool(1)\n",
      "memory usage: 7.8 KB\n",
      "WHO: \n",
      "<class 'pandas.core.frame.DataFrame'>\n",
      "Index: 889 entries, 0 to 890\n",
      "Data columns (total 2 columns):\n",
      " #   Column  Non-Null Count  Dtype\n",
      "---  ------  --------------  -----\n",
      " 0   man     889 non-null    bool \n",
      " 1   woman   889 non-null    bool \n",
      "dtypes: bool(2)\n",
      "memory usage: 8.7 KB\n",
      "ADULT MALE: \n",
      "<class 'pandas.core.frame.DataFrame'>\n",
      "Index: 889 entries, 0 to 890\n",
      "Data columns (total 1 columns):\n",
      " #   Column           Non-Null Count  Dtype\n",
      "---  ------           --------------  -----\n",
      " 0   adult_male_True  889 non-null    bool \n",
      "dtypes: bool(1)\n",
      "memory usage: 7.8 KB\n",
      "EMBARK TOWN: \n",
      "<class 'pandas.core.frame.DataFrame'>\n",
      "Index: 889 entries, 0 to 890\n",
      "Data columns (total 2 columns):\n",
      " #   Column       Non-Null Count  Dtype\n",
      "---  ------       --------------  -----\n",
      " 0   Queenstown   889 non-null    bool \n",
      " 1   Southampton  889 non-null    bool \n",
      "dtypes: bool(2)\n",
      "memory usage: 8.7 KB\n",
      "ALONE: \n",
      "<class 'pandas.core.frame.DataFrame'>\n",
      "Index: 889 entries, 0 to 890\n",
      "Data columns (total 1 columns):\n",
      " #   Column      Non-Null Count  Dtype\n",
      "---  ------      --------------  -----\n",
      " 0   alone_True  889 non-null    bool \n",
      "dtypes: bool(1)\n",
      "memory usage: 7.8 KB\n"
     ]
    }
   ],
   "source": [
    "sex = pd.get_dummies(df[\"sex\"], drop_first = True)\n",
    "print(\"SEX: \")\n",
    "sex.info()\n",
    "\n",
    "who = pd.get_dummies(df[\"who\"], drop_first = True)\n",
    "print(\"WHO: \")\n",
    "who.info()\n",
    "\n",
    "#adult_male = pd.get_dummies(df[\"adult_male\"], drop_first = True)\n",
    "adult_male = pd.get_dummies(df[\"adult_male\"], drop_first = True, prefix = \"adult_male\")\n",
    "print(\"ADULT MALE: \")\n",
    "adult_male.info()\n",
    "\n",
    "embark_town = pd.get_dummies(df[\"embark_town\"], drop_first = True)\n",
    "print(\"EMBARK TOWN: \")\n",
    "embark_town.info()\n",
    "\n",
    "#alone = pd.get_dummies(df[\"alone\"], drop_first = True)\n",
    "alone = pd.get_dummies(df[\"alone\"], drop_first = True, prefix = \"alone\")\n",
    "print(\"ALONE: \")\n",
    "alone.info()"
   ]
  },
  {
   "cell_type": "code",
   "execution_count": 34,
   "id": "49312397",
   "metadata": {
    "execution": {
     "iopub.execute_input": "2024-10-07T00:27:26.828840Z",
     "iopub.status.busy": "2024-10-07T00:27:26.828560Z",
     "iopub.status.idle": "2024-10-07T00:27:26.841377Z",
     "shell.execute_reply": "2024-10-07T00:27:26.840530Z"
    },
    "papermill": {
     "duration": 0.038676,
     "end_time": "2024-10-07T00:27:26.843220",
     "exception": false,
     "start_time": "2024-10-07T00:27:26.804544",
     "status": "completed"
    },
    "tags": []
   },
   "outputs": [
    {
     "data": {
      "text/html": [
       "<div>\n",
       "<style scoped>\n",
       "    .dataframe tbody tr th:only-of-type {\n",
       "        vertical-align: middle;\n",
       "    }\n",
       "\n",
       "    .dataframe tbody tr th {\n",
       "        vertical-align: top;\n",
       "    }\n",
       "\n",
       "    .dataframe thead th {\n",
       "        text-align: right;\n",
       "    }\n",
       "</style>\n",
       "<table border=\"1\" class=\"dataframe\">\n",
       "  <thead>\n",
       "    <tr style=\"text-align: right;\">\n",
       "      <th></th>\n",
       "      <th>survived</th>\n",
       "      <th>pclass</th>\n",
       "      <th>sex</th>\n",
       "      <th>fare</th>\n",
       "      <th>who</th>\n",
       "      <th>adult_male</th>\n",
       "      <th>embark_town</th>\n",
       "      <th>alone</th>\n",
       "    </tr>\n",
       "  </thead>\n",
       "  <tbody>\n",
       "    <tr>\n",
       "      <th>0</th>\n",
       "      <td>0</td>\n",
       "      <td>3</td>\n",
       "      <td>male</td>\n",
       "      <td>7.2500</td>\n",
       "      <td>man</td>\n",
       "      <td>True</td>\n",
       "      <td>Southampton</td>\n",
       "      <td>False</td>\n",
       "    </tr>\n",
       "    <tr>\n",
       "      <th>1</th>\n",
       "      <td>1</td>\n",
       "      <td>1</td>\n",
       "      <td>female</td>\n",
       "      <td>71.2833</td>\n",
       "      <td>woman</td>\n",
       "      <td>False</td>\n",
       "      <td>Cherbourg</td>\n",
       "      <td>False</td>\n",
       "    </tr>\n",
       "    <tr>\n",
       "      <th>2</th>\n",
       "      <td>1</td>\n",
       "      <td>3</td>\n",
       "      <td>female</td>\n",
       "      <td>7.9250</td>\n",
       "      <td>woman</td>\n",
       "      <td>False</td>\n",
       "      <td>Southampton</td>\n",
       "      <td>True</td>\n",
       "    </tr>\n",
       "    <tr>\n",
       "      <th>3</th>\n",
       "      <td>1</td>\n",
       "      <td>1</td>\n",
       "      <td>female</td>\n",
       "      <td>53.1000</td>\n",
       "      <td>woman</td>\n",
       "      <td>False</td>\n",
       "      <td>Southampton</td>\n",
       "      <td>False</td>\n",
       "    </tr>\n",
       "    <tr>\n",
       "      <th>4</th>\n",
       "      <td>0</td>\n",
       "      <td>3</td>\n",
       "      <td>male</td>\n",
       "      <td>8.0500</td>\n",
       "      <td>man</td>\n",
       "      <td>True</td>\n",
       "      <td>Southampton</td>\n",
       "      <td>True</td>\n",
       "    </tr>\n",
       "  </tbody>\n",
       "</table>\n",
       "</div>"
      ],
      "text/plain": [
       "   survived  pclass     sex     fare    who  adult_male  embark_town  alone\n",
       "0         0       3    male   7.2500    man        True  Southampton  False\n",
       "1         1       1  female  71.2833  woman       False    Cherbourg  False\n",
       "2         1       3  female   7.9250  woman       False  Southampton   True\n",
       "3         1       1  female  53.1000  woman       False  Southampton  False\n",
       "4         0       3    male   8.0500    man        True  Southampton   True"
      ]
     },
     "execution_count": 34,
     "metadata": {},
     "output_type": "execute_result"
    }
   ],
   "source": [
    "df.head()"
   ]
  },
  {
   "cell_type": "code",
   "execution_count": 35,
   "id": "8834936b",
   "metadata": {
    "execution": {
     "iopub.execute_input": "2024-10-07T00:27:26.891934Z",
     "iopub.status.busy": "2024-10-07T00:27:26.891215Z",
     "iopub.status.idle": "2024-10-07T00:27:26.912638Z",
     "shell.execute_reply": "2024-10-07T00:27:26.911789Z"
    },
    "papermill": {
     "duration": 0.047653,
     "end_time": "2024-10-07T00:27:26.914551",
     "exception": false,
     "start_time": "2024-10-07T00:27:26.866898",
     "status": "completed"
    },
    "tags": []
   },
   "outputs": [
    {
     "name": "stdout",
     "output_type": "stream",
     "text": [
      "<class 'pandas.core.frame.DataFrame'>\n",
      "Index: 889 entries, 0 to 890\n",
      "Data columns (total 10 columns):\n",
      " #   Column           Non-Null Count  Dtype  \n",
      "---  ------           --------------  -----  \n",
      " 0   survived         889 non-null    int64  \n",
      " 1   pclass           889 non-null    int64  \n",
      " 2   fare             889 non-null    float64\n",
      " 3   male             889 non-null    bool   \n",
      " 4   man              889 non-null    bool   \n",
      " 5   woman            889 non-null    bool   \n",
      " 6   adult_male_True  889 non-null    bool   \n",
      " 7   Queenstown       889 non-null    bool   \n",
      " 8   Southampton      889 non-null    bool   \n",
      " 9   alone_True       889 non-null    bool   \n",
      "dtypes: bool(7), float64(1), int64(2)\n",
      "memory usage: 33.9 KB\n"
     ]
    },
    {
     "data": {
      "text/html": [
       "<div>\n",
       "<style scoped>\n",
       "    .dataframe tbody tr th:only-of-type {\n",
       "        vertical-align: middle;\n",
       "    }\n",
       "\n",
       "    .dataframe tbody tr th {\n",
       "        vertical-align: top;\n",
       "    }\n",
       "\n",
       "    .dataframe thead th {\n",
       "        text-align: right;\n",
       "    }\n",
       "</style>\n",
       "<table border=\"1\" class=\"dataframe\">\n",
       "  <thead>\n",
       "    <tr style=\"text-align: right;\">\n",
       "      <th></th>\n",
       "      <th>survived</th>\n",
       "      <th>pclass</th>\n",
       "      <th>fare</th>\n",
       "      <th>male</th>\n",
       "      <th>man</th>\n",
       "      <th>woman</th>\n",
       "      <th>adult_male_True</th>\n",
       "      <th>Queenstown</th>\n",
       "      <th>Southampton</th>\n",
       "      <th>alone_True</th>\n",
       "    </tr>\n",
       "  </thead>\n",
       "  <tbody>\n",
       "    <tr>\n",
       "      <th>0</th>\n",
       "      <td>0</td>\n",
       "      <td>3</td>\n",
       "      <td>7.2500</td>\n",
       "      <td>True</td>\n",
       "      <td>True</td>\n",
       "      <td>False</td>\n",
       "      <td>True</td>\n",
       "      <td>False</td>\n",
       "      <td>True</td>\n",
       "      <td>False</td>\n",
       "    </tr>\n",
       "    <tr>\n",
       "      <th>1</th>\n",
       "      <td>1</td>\n",
       "      <td>1</td>\n",
       "      <td>71.2833</td>\n",
       "      <td>False</td>\n",
       "      <td>False</td>\n",
       "      <td>True</td>\n",
       "      <td>False</td>\n",
       "      <td>False</td>\n",
       "      <td>False</td>\n",
       "      <td>False</td>\n",
       "    </tr>\n",
       "    <tr>\n",
       "      <th>2</th>\n",
       "      <td>1</td>\n",
       "      <td>3</td>\n",
       "      <td>7.9250</td>\n",
       "      <td>False</td>\n",
       "      <td>False</td>\n",
       "      <td>True</td>\n",
       "      <td>False</td>\n",
       "      <td>False</td>\n",
       "      <td>True</td>\n",
       "      <td>True</td>\n",
       "    </tr>\n",
       "    <tr>\n",
       "      <th>3</th>\n",
       "      <td>1</td>\n",
       "      <td>1</td>\n",
       "      <td>53.1000</td>\n",
       "      <td>False</td>\n",
       "      <td>False</td>\n",
       "      <td>True</td>\n",
       "      <td>False</td>\n",
       "      <td>False</td>\n",
       "      <td>True</td>\n",
       "      <td>False</td>\n",
       "    </tr>\n",
       "    <tr>\n",
       "      <th>4</th>\n",
       "      <td>0</td>\n",
       "      <td>3</td>\n",
       "      <td>8.0500</td>\n",
       "      <td>True</td>\n",
       "      <td>True</td>\n",
       "      <td>False</td>\n",
       "      <td>True</td>\n",
       "      <td>False</td>\n",
       "      <td>True</td>\n",
       "      <td>True</td>\n",
       "    </tr>\n",
       "  </tbody>\n",
       "</table>\n",
       "</div>"
      ],
      "text/plain": [
       "   survived  pclass     fare   male    man  woman  adult_male_True  \\\n",
       "0         0       3   7.2500   True   True  False             True   \n",
       "1         1       1  71.2833  False  False   True            False   \n",
       "2         1       3   7.9250  False  False   True            False   \n",
       "3         1       1  53.1000  False  False   True            False   \n",
       "4         0       3   8.0500   True   True  False             True   \n",
       "\n",
       "   Queenstown  Southampton  alone_True  \n",
       "0       False         True       False  \n",
       "1       False        False       False  \n",
       "2       False         True        True  \n",
       "3       False         True       False  \n",
       "4       False         True        True  "
      ]
     },
     "execution_count": 35,
     "metadata": {},
     "output_type": "execute_result"
    }
   ],
   "source": [
    "df = pd.concat ([df.drop([\"sex\", \"who\", \"adult_male\", \"embark_town\", \"alone\"], axis = 1), sex, who, adult_male, embark_town, alone], axis = 1)\n",
    "df.info()\n",
    "df.head()"
   ]
  },
  {
   "cell_type": "code",
   "execution_count": 36,
   "id": "87a17f10",
   "metadata": {
    "execution": {
     "iopub.execute_input": "2024-10-07T00:27:26.963525Z",
     "iopub.status.busy": "2024-10-07T00:27:26.963253Z",
     "iopub.status.idle": "2024-10-07T00:27:26.967098Z",
     "shell.execute_reply": "2024-10-07T00:27:26.966227Z"
    },
    "papermill": {
     "duration": 0.030245,
     "end_time": "2024-10-07T00:27:26.968926",
     "exception": false,
     "start_time": "2024-10-07T00:27:26.938681",
     "status": "completed"
    },
    "tags": []
   },
   "outputs": [],
   "source": [
    "#df.drop([\"sex\", \"who\", \"adult_male\", \"embark_town\", \"alone\"], axis = 1, inplace = True)"
   ]
  },
  {
   "cell_type": "code",
   "execution_count": 37,
   "id": "e3bad134",
   "metadata": {
    "execution": {
     "iopub.execute_input": "2024-10-07T00:27:27.019316Z",
     "iopub.status.busy": "2024-10-07T00:27:27.019046Z",
     "iopub.status.idle": "2024-10-07T00:27:27.032133Z",
     "shell.execute_reply": "2024-10-07T00:27:27.031288Z"
    },
    "papermill": {
     "duration": 0.041613,
     "end_time": "2024-10-07T00:27:27.034059",
     "exception": false,
     "start_time": "2024-10-07T00:27:26.992446",
     "status": "completed"
    },
    "tags": []
   },
   "outputs": [
    {
     "data": {
      "text/html": [
       "<div>\n",
       "<style scoped>\n",
       "    .dataframe tbody tr th:only-of-type {\n",
       "        vertical-align: middle;\n",
       "    }\n",
       "\n",
       "    .dataframe tbody tr th {\n",
       "        vertical-align: top;\n",
       "    }\n",
       "\n",
       "    .dataframe thead th {\n",
       "        text-align: right;\n",
       "    }\n",
       "</style>\n",
       "<table border=\"1\" class=\"dataframe\">\n",
       "  <thead>\n",
       "    <tr style=\"text-align: right;\">\n",
       "      <th></th>\n",
       "      <th>survived</th>\n",
       "      <th>pclass</th>\n",
       "      <th>fare</th>\n",
       "      <th>male</th>\n",
       "      <th>man</th>\n",
       "      <th>woman</th>\n",
       "      <th>adult_male_True</th>\n",
       "      <th>Queenstown</th>\n",
       "      <th>Southampton</th>\n",
       "      <th>alone_True</th>\n",
       "    </tr>\n",
       "  </thead>\n",
       "  <tbody>\n",
       "    <tr>\n",
       "      <th>0</th>\n",
       "      <td>0</td>\n",
       "      <td>3</td>\n",
       "      <td>7.2500</td>\n",
       "      <td>True</td>\n",
       "      <td>True</td>\n",
       "      <td>False</td>\n",
       "      <td>True</td>\n",
       "      <td>False</td>\n",
       "      <td>True</td>\n",
       "      <td>False</td>\n",
       "    </tr>\n",
       "    <tr>\n",
       "      <th>1</th>\n",
       "      <td>1</td>\n",
       "      <td>1</td>\n",
       "      <td>71.2833</td>\n",
       "      <td>False</td>\n",
       "      <td>False</td>\n",
       "      <td>True</td>\n",
       "      <td>False</td>\n",
       "      <td>False</td>\n",
       "      <td>False</td>\n",
       "      <td>False</td>\n",
       "    </tr>\n",
       "    <tr>\n",
       "      <th>2</th>\n",
       "      <td>1</td>\n",
       "      <td>3</td>\n",
       "      <td>7.9250</td>\n",
       "      <td>False</td>\n",
       "      <td>False</td>\n",
       "      <td>True</td>\n",
       "      <td>False</td>\n",
       "      <td>False</td>\n",
       "      <td>True</td>\n",
       "      <td>True</td>\n",
       "    </tr>\n",
       "    <tr>\n",
       "      <th>3</th>\n",
       "      <td>1</td>\n",
       "      <td>1</td>\n",
       "      <td>53.1000</td>\n",
       "      <td>False</td>\n",
       "      <td>False</td>\n",
       "      <td>True</td>\n",
       "      <td>False</td>\n",
       "      <td>False</td>\n",
       "      <td>True</td>\n",
       "      <td>False</td>\n",
       "    </tr>\n",
       "    <tr>\n",
       "      <th>4</th>\n",
       "      <td>0</td>\n",
       "      <td>3</td>\n",
       "      <td>8.0500</td>\n",
       "      <td>True</td>\n",
       "      <td>True</td>\n",
       "      <td>False</td>\n",
       "      <td>True</td>\n",
       "      <td>False</td>\n",
       "      <td>True</td>\n",
       "      <td>True</td>\n",
       "    </tr>\n",
       "  </tbody>\n",
       "</table>\n",
       "</div>"
      ],
      "text/plain": [
       "   survived  pclass     fare   male    man  woman  adult_male_True  \\\n",
       "0         0       3   7.2500   True   True  False             True   \n",
       "1         1       1  71.2833  False  False   True            False   \n",
       "2         1       3   7.9250  False  False   True            False   \n",
       "3         1       1  53.1000  False  False   True            False   \n",
       "4         0       3   8.0500   True   True  False             True   \n",
       "\n",
       "   Queenstown  Southampton  alone_True  \n",
       "0       False         True       False  \n",
       "1       False        False       False  \n",
       "2       False         True        True  \n",
       "3       False         True       False  \n",
       "4       False         True        True  "
      ]
     },
     "execution_count": 37,
     "metadata": {},
     "output_type": "execute_result"
    }
   ],
   "source": [
    "df.head()"
   ]
  },
  {
   "cell_type": "markdown",
   "id": "e5512437",
   "metadata": {
    "papermill": {
     "duration": 0.024001,
     "end_time": "2024-10-07T00:27:27.082682",
     "exception": false,
     "start_time": "2024-10-07T00:27:27.058681",
     "status": "completed"
    },
    "tags": []
   },
   "source": [
    "# **Modelling**"
   ]
  },
  {
   "cell_type": "code",
   "execution_count": 38,
   "id": "aa7e1dbe",
   "metadata": {
    "execution": {
     "iopub.execute_input": "2024-10-07T00:27:27.132196Z",
     "iopub.status.busy": "2024-10-07T00:27:27.131403Z",
     "iopub.status.idle": "2024-10-07T00:27:27.342815Z",
     "shell.execute_reply": "2024-10-07T00:27:27.342023Z"
    },
    "papermill": {
     "duration": 0.238583,
     "end_time": "2024-10-07T00:27:27.345073",
     "exception": false,
     "start_time": "2024-10-07T00:27:27.106490",
     "status": "completed"
    },
    "tags": []
   },
   "outputs": [],
   "source": [
    "from sklearn.model_selection import train_test_split"
   ]
  },
  {
   "cell_type": "code",
   "execution_count": 39,
   "id": "e319e5c4",
   "metadata": {
    "execution": {
     "iopub.execute_input": "2024-10-07T00:27:27.396477Z",
     "iopub.status.busy": "2024-10-07T00:27:27.395814Z",
     "iopub.status.idle": "2024-10-07T00:27:27.411072Z",
     "shell.execute_reply": "2024-10-07T00:27:27.410249Z"
    },
    "papermill": {
     "duration": 0.043589,
     "end_time": "2024-10-07T00:27:27.413762",
     "exception": false,
     "start_time": "2024-10-07T00:27:27.370173",
     "status": "completed"
    },
    "tags": []
   },
   "outputs": [
    {
     "name": "stdout",
     "output_type": "stream",
     "text": [
      "<class 'pandas.core.frame.DataFrame'>\n",
      "Index: 889 entries, 0 to 890\n",
      "Data columns (total 10 columns):\n",
      " #   Column           Non-Null Count  Dtype  \n",
      "---  ------           --------------  -----  \n",
      " 0   survived         889 non-null    int64  \n",
      " 1   pclass           889 non-null    int64  \n",
      " 2   fare             889 non-null    float64\n",
      " 3   male             889 non-null    bool   \n",
      " 4   man              889 non-null    bool   \n",
      " 5   woman            889 non-null    bool   \n",
      " 6   adult_male_True  889 non-null    bool   \n",
      " 7   Queenstown       889 non-null    bool   \n",
      " 8   Southampton      889 non-null    bool   \n",
      " 9   alone_True       889 non-null    bool   \n",
      "dtypes: bool(7), float64(1), int64(2)\n",
      "memory usage: 33.9 KB\n",
      "<class 'pandas.core.frame.DataFrame'>\n",
      "Index: 889 entries, 0 to 890\n",
      "Data columns (total 9 columns):\n",
      " #   Column           Non-Null Count  Dtype  \n",
      "---  ------           --------------  -----  \n",
      " 0   pclass           889 non-null    int64  \n",
      " 1   fare             889 non-null    float64\n",
      " 2   male             889 non-null    bool   \n",
      " 3   man              889 non-null    bool   \n",
      " 4   woman            889 non-null    bool   \n",
      " 5   adult_male_True  889 non-null    bool   \n",
      " 6   Queenstown       889 non-null    bool   \n",
      " 7   Southampton      889 non-null    bool   \n",
      " 8   alone_True       889 non-null    bool   \n",
      "dtypes: bool(7), float64(1), int64(1)\n",
      "memory usage: 26.9 KB\n"
     ]
    }
   ],
   "source": [
    "#df.drop(\"True\", axis = 1, inplace = True)\n",
    "df.info()\n",
    "X = df.drop(\"survived\", axis = 1)\n",
    "y = df[\"survived\"]\n",
    "X.info()"
   ]
  },
  {
   "cell_type": "code",
   "execution_count": 40,
   "id": "482f1c4a",
   "metadata": {
    "execution": {
     "iopub.execute_input": "2024-10-07T00:27:27.465420Z",
     "iopub.status.busy": "2024-10-07T00:27:27.464745Z",
     "iopub.status.idle": "2024-10-07T00:27:27.472825Z",
     "shell.execute_reply": "2024-10-07T00:27:27.472064Z"
    },
    "papermill": {
     "duration": 0.035734,
     "end_time": "2024-10-07T00:27:27.474834",
     "exception": false,
     "start_time": "2024-10-07T00:27:27.439100",
     "status": "completed"
    },
    "tags": []
   },
   "outputs": [],
   "source": [
    "X_train, X_test, y_train, y_test = train_test_split(X, y, test_size = 0.25, random_state = 42)"
   ]
  },
  {
   "cell_type": "code",
   "execution_count": 41,
   "id": "c858847b",
   "metadata": {
    "execution": {
     "iopub.execute_input": "2024-10-07T00:27:27.526242Z",
     "iopub.status.busy": "2024-10-07T00:27:27.525765Z",
     "iopub.status.idle": "2024-10-07T00:27:27.604357Z",
     "shell.execute_reply": "2024-10-07T00:27:27.603411Z"
    },
    "papermill": {
     "duration": 0.10623,
     "end_time": "2024-10-07T00:27:27.606693",
     "exception": false,
     "start_time": "2024-10-07T00:27:27.500463",
     "status": "completed"
    },
    "tags": []
   },
   "outputs": [],
   "source": [
    "from sklearn.linear_model import LogisticRegression"
   ]
  },
  {
   "cell_type": "code",
   "execution_count": 42,
   "id": "a1418bf2",
   "metadata": {
    "execution": {
     "iopub.execute_input": "2024-10-07T00:27:27.657060Z",
     "iopub.status.busy": "2024-10-07T00:27:27.656467Z",
     "iopub.status.idle": "2024-10-07T00:27:27.660643Z",
     "shell.execute_reply": "2024-10-07T00:27:27.659804Z"
    },
    "papermill": {
     "duration": 0.031032,
     "end_time": "2024-10-07T00:27:27.662484",
     "exception": false,
     "start_time": "2024-10-07T00:27:27.631452",
     "status": "completed"
    },
    "tags": []
   },
   "outputs": [],
   "source": [
    "lr_model = LogisticRegression()"
   ]
  },
  {
   "cell_type": "code",
   "execution_count": 43,
   "id": "3d56ae1b",
   "metadata": {
    "execution": {
     "iopub.execute_input": "2024-10-07T00:27:27.713228Z",
     "iopub.status.busy": "2024-10-07T00:27:27.712592Z",
     "iopub.status.idle": "2024-10-07T00:27:27.743620Z",
     "shell.execute_reply": "2024-10-07T00:27:27.742734Z"
    },
    "papermill": {
     "duration": 0.058607,
     "end_time": "2024-10-07T00:27:27.745715",
     "exception": false,
     "start_time": "2024-10-07T00:27:27.687108",
     "status": "completed"
    },
    "tags": []
   },
   "outputs": [
    {
     "data": {
      "text/html": [
       "<style>#sk-container-id-1 {color: black;background-color: white;}#sk-container-id-1 pre{padding: 0;}#sk-container-id-1 div.sk-toggleable {background-color: white;}#sk-container-id-1 label.sk-toggleable__label {cursor: pointer;display: block;width: 100%;margin-bottom: 0;padding: 0.3em;box-sizing: border-box;text-align: center;}#sk-container-id-1 label.sk-toggleable__label-arrow:before {content: \"▸\";float: left;margin-right: 0.25em;color: #696969;}#sk-container-id-1 label.sk-toggleable__label-arrow:hover:before {color: black;}#sk-container-id-1 div.sk-estimator:hover label.sk-toggleable__label-arrow:before {color: black;}#sk-container-id-1 div.sk-toggleable__content {max-height: 0;max-width: 0;overflow: hidden;text-align: left;background-color: #f0f8ff;}#sk-container-id-1 div.sk-toggleable__content pre {margin: 0.2em;color: black;border-radius: 0.25em;background-color: #f0f8ff;}#sk-container-id-1 input.sk-toggleable__control:checked~div.sk-toggleable__content {max-height: 200px;max-width: 100%;overflow: auto;}#sk-container-id-1 input.sk-toggleable__control:checked~label.sk-toggleable__label-arrow:before {content: \"▾\";}#sk-container-id-1 div.sk-estimator input.sk-toggleable__control:checked~label.sk-toggleable__label {background-color: #d4ebff;}#sk-container-id-1 div.sk-label input.sk-toggleable__control:checked~label.sk-toggleable__label {background-color: #d4ebff;}#sk-container-id-1 input.sk-hidden--visually {border: 0;clip: rect(1px 1px 1px 1px);clip: rect(1px, 1px, 1px, 1px);height: 1px;margin: -1px;overflow: hidden;padding: 0;position: absolute;width: 1px;}#sk-container-id-1 div.sk-estimator {font-family: monospace;background-color: #f0f8ff;border: 1px dotted black;border-radius: 0.25em;box-sizing: border-box;margin-bottom: 0.5em;}#sk-container-id-1 div.sk-estimator:hover {background-color: #d4ebff;}#sk-container-id-1 div.sk-parallel-item::after {content: \"\";width: 100%;border-bottom: 1px solid gray;flex-grow: 1;}#sk-container-id-1 div.sk-label:hover label.sk-toggleable__label {background-color: #d4ebff;}#sk-container-id-1 div.sk-serial::before {content: \"\";position: absolute;border-left: 1px solid gray;box-sizing: border-box;top: 0;bottom: 0;left: 50%;z-index: 0;}#sk-container-id-1 div.sk-serial {display: flex;flex-direction: column;align-items: center;background-color: white;padding-right: 0.2em;padding-left: 0.2em;position: relative;}#sk-container-id-1 div.sk-item {position: relative;z-index: 1;}#sk-container-id-1 div.sk-parallel {display: flex;align-items: stretch;justify-content: center;background-color: white;position: relative;}#sk-container-id-1 div.sk-item::before, #sk-container-id-1 div.sk-parallel-item::before {content: \"\";position: absolute;border-left: 1px solid gray;box-sizing: border-box;top: 0;bottom: 0;left: 50%;z-index: -1;}#sk-container-id-1 div.sk-parallel-item {display: flex;flex-direction: column;z-index: 1;position: relative;background-color: white;}#sk-container-id-1 div.sk-parallel-item:first-child::after {align-self: flex-end;width: 50%;}#sk-container-id-1 div.sk-parallel-item:last-child::after {align-self: flex-start;width: 50%;}#sk-container-id-1 div.sk-parallel-item:only-child::after {width: 0;}#sk-container-id-1 div.sk-dashed-wrapped {border: 1px dashed gray;margin: 0 0.4em 0.5em 0.4em;box-sizing: border-box;padding-bottom: 0.4em;background-color: white;}#sk-container-id-1 div.sk-label label {font-family: monospace;font-weight: bold;display: inline-block;line-height: 1.2em;}#sk-container-id-1 div.sk-label-container {text-align: center;}#sk-container-id-1 div.sk-container {/* jupyter's `normalize.less` sets `[hidden] { display: none; }` but bootstrap.min.css set `[hidden] { display: none !important; }` so we also need the `!important` here to be able to override the default hidden behavior on the sphinx rendered scikit-learn.org. See: https://github.com/scikit-learn/scikit-learn/issues/21755 */display: inline-block !important;position: relative;}#sk-container-id-1 div.sk-text-repr-fallback {display: none;}</style><div id=\"sk-container-id-1\" class=\"sk-top-container\"><div class=\"sk-text-repr-fallback\"><pre>LogisticRegression()</pre><b>In a Jupyter environment, please rerun this cell to show the HTML representation or trust the notebook. <br />On GitHub, the HTML representation is unable to render, please try loading this page with nbviewer.org.</b></div><div class=\"sk-container\" hidden><div class=\"sk-item\"><div class=\"sk-estimator sk-toggleable\"><input class=\"sk-toggleable__control sk-hidden--visually\" id=\"sk-estimator-id-1\" type=\"checkbox\" checked><label for=\"sk-estimator-id-1\" class=\"sk-toggleable__label sk-toggleable__label-arrow\">LogisticRegression</label><div class=\"sk-toggleable__content\"><pre>LogisticRegression()</pre></div></div></div></div></div>"
      ],
      "text/plain": [
       "LogisticRegression()"
      ]
     },
     "execution_count": 43,
     "metadata": {},
     "output_type": "execute_result"
    }
   ],
   "source": [
    "lr_model.fit(X_train, y_train)"
   ]
  },
  {
   "cell_type": "code",
   "execution_count": 44,
   "id": "2748d4a0",
   "metadata": {
    "execution": {
     "iopub.execute_input": "2024-10-07T00:27:27.796693Z",
     "iopub.status.busy": "2024-10-07T00:27:27.796081Z",
     "iopub.status.idle": "2024-10-07T00:27:27.802544Z",
     "shell.execute_reply": "2024-10-07T00:27:27.801691Z"
    },
    "papermill": {
     "duration": 0.033645,
     "end_time": "2024-10-07T00:27:27.804485",
     "exception": false,
     "start_time": "2024-10-07T00:27:27.770840",
     "status": "completed"
    },
    "tags": []
   },
   "outputs": [],
   "source": [
    "y_pred = lr_model.predict(X_test)"
   ]
  },
  {
   "cell_type": "code",
   "execution_count": 45,
   "id": "89a91cad",
   "metadata": {
    "execution": {
     "iopub.execute_input": "2024-10-07T00:27:27.853905Z",
     "iopub.status.busy": "2024-10-07T00:27:27.853628Z",
     "iopub.status.idle": "2024-10-07T00:27:27.857507Z",
     "shell.execute_reply": "2024-10-07T00:27:27.856697Z"
    },
    "papermill": {
     "duration": 0.030759,
     "end_time": "2024-10-07T00:27:27.859353",
     "exception": false,
     "start_time": "2024-10-07T00:27:27.828594",
     "status": "completed"
    },
    "tags": []
   },
   "outputs": [],
   "source": [
    "from sklearn.metrics import classification_report\n",
    "from sklearn.metrics import confusion_matrix"
   ]
  },
  {
   "cell_type": "code",
   "execution_count": 46,
   "id": "54a091e1",
   "metadata": {
    "execution": {
     "iopub.execute_input": "2024-10-07T00:27:27.908955Z",
     "iopub.status.busy": "2024-10-07T00:27:27.908662Z",
     "iopub.status.idle": "2024-10-07T00:27:27.921583Z",
     "shell.execute_reply": "2024-10-07T00:27:27.920484Z"
    },
    "papermill": {
     "duration": 0.03979,
     "end_time": "2024-10-07T00:27:27.923422",
     "exception": false,
     "start_time": "2024-10-07T00:27:27.883632",
     "status": "completed"
    },
    "tags": []
   },
   "outputs": [
    {
     "name": "stdout",
     "output_type": "stream",
     "text": [
      "              precision    recall  f1-score   support\n",
      "\n",
      "           0       0.87      0.79      0.83       141\n",
      "           1       0.68      0.79      0.73        82\n",
      "\n",
      "    accuracy                           0.79       223\n",
      "   macro avg       0.78      0.79      0.78       223\n",
      "weighted avg       0.80      0.79      0.79       223\n",
      "\n"
     ]
    }
   ],
   "source": [
    "print(classification_report(y_test, y_pred))"
   ]
  },
  {
   "cell_type": "code",
   "execution_count": 47,
   "id": "d909506a",
   "metadata": {
    "execution": {
     "iopub.execute_input": "2024-10-07T00:27:27.974307Z",
     "iopub.status.busy": "2024-10-07T00:27:27.973796Z",
     "iopub.status.idle": "2024-10-07T00:27:27.979594Z",
     "shell.execute_reply": "2024-10-07T00:27:27.978890Z"
    },
    "papermill": {
     "duration": 0.033075,
     "end_time": "2024-10-07T00:27:27.981383",
     "exception": false,
     "start_time": "2024-10-07T00:27:27.948308",
     "status": "completed"
    },
    "tags": []
   },
   "outputs": [],
   "source": [
    "cnf_matrix = confusion_matrix(y_test, y_pred)"
   ]
  },
  {
   "cell_type": "code",
   "execution_count": 48,
   "id": "97179e80",
   "metadata": {
    "execution": {
     "iopub.execute_input": "2024-10-07T00:27:28.032690Z",
     "iopub.status.busy": "2024-10-07T00:27:28.031965Z",
     "iopub.status.idle": "2024-10-07T00:27:28.037777Z",
     "shell.execute_reply": "2024-10-07T00:27:28.036958Z"
    },
    "papermill": {
     "duration": 0.033859,
     "end_time": "2024-10-07T00:27:28.039637",
     "exception": false,
     "start_time": "2024-10-07T00:27:28.005778",
     "status": "completed"
    },
    "tags": []
   },
   "outputs": [
    {
     "data": {
      "text/plain": [
       "array([[111,  30],\n",
       "       [ 17,  65]])"
      ]
     },
     "execution_count": 48,
     "metadata": {},
     "output_type": "execute_result"
    }
   ],
   "source": [
    "cnf_matrix"
   ]
  },
  {
   "cell_type": "code",
   "execution_count": null,
   "id": "3e89de3c",
   "metadata": {
    "papermill": {
     "duration": 0.024186,
     "end_time": "2024-10-07T00:27:28.088194",
     "exception": false,
     "start_time": "2024-10-07T00:27:28.064008",
     "status": "completed"
    },
    "tags": []
   },
   "outputs": [],
   "source": []
  },
  {
   "cell_type": "code",
   "execution_count": null,
   "id": "ef368c94",
   "metadata": {
    "papermill": {
     "duration": 0.024599,
     "end_time": "2024-10-07T00:27:28.137194",
     "exception": false,
     "start_time": "2024-10-07T00:27:28.112595",
     "status": "completed"
    },
    "tags": []
   },
   "outputs": [],
   "source": []
  },
  {
   "cell_type": "code",
   "execution_count": null,
   "id": "9eef1998",
   "metadata": {
    "papermill": {
     "duration": 0.024191,
     "end_time": "2024-10-07T00:27:28.185620",
     "exception": false,
     "start_time": "2024-10-07T00:27:28.161429",
     "status": "completed"
    },
    "tags": []
   },
   "outputs": [],
   "source": []
  },
  {
   "cell_type": "code",
   "execution_count": null,
   "id": "b9d8b234",
   "metadata": {
    "papermill": {
     "duration": 0.024185,
     "end_time": "2024-10-07T00:27:28.233936",
     "exception": false,
     "start_time": "2024-10-07T00:27:28.209751",
     "status": "completed"
    },
    "tags": []
   },
   "outputs": [],
   "source": []
  },
  {
   "cell_type": "code",
   "execution_count": null,
   "id": "0c48bcfc",
   "metadata": {
    "papermill": {
     "duration": 0.023958,
     "end_time": "2024-10-07T00:27:28.282137",
     "exception": false,
     "start_time": "2024-10-07T00:27:28.258179",
     "status": "completed"
    },
    "tags": []
   },
   "outputs": [],
   "source": []
  },
  {
   "cell_type": "code",
   "execution_count": null,
   "id": "4a0a1bb5",
   "metadata": {
    "papermill": {
     "duration": 0.024311,
     "end_time": "2024-10-07T00:27:28.331742",
     "exception": false,
     "start_time": "2024-10-07T00:27:28.307431",
     "status": "completed"
    },
    "tags": []
   },
   "outputs": [],
   "source": []
  },
  {
   "cell_type": "code",
   "execution_count": null,
   "id": "60214100",
   "metadata": {
    "papermill": {
     "duration": 0.024046,
     "end_time": "2024-10-07T00:27:28.380253",
     "exception": false,
     "start_time": "2024-10-07T00:27:28.356207",
     "status": "completed"
    },
    "tags": []
   },
   "outputs": [],
   "source": []
  },
  {
   "cell_type": "code",
   "execution_count": null,
   "id": "44977760",
   "metadata": {
    "papermill": {
     "duration": 0.024018,
     "end_time": "2024-10-07T00:27:28.428543",
     "exception": false,
     "start_time": "2024-10-07T00:27:28.404525",
     "status": "completed"
    },
    "tags": []
   },
   "outputs": [],
   "source": []
  },
  {
   "cell_type": "code",
   "execution_count": null,
   "id": "6c71bda1",
   "metadata": {
    "papermill": {
     "duration": 0.024121,
     "end_time": "2024-10-07T00:27:28.477349",
     "exception": false,
     "start_time": "2024-10-07T00:27:28.453228",
     "status": "completed"
    },
    "tags": []
   },
   "outputs": [],
   "source": []
  },
  {
   "cell_type": "code",
   "execution_count": null,
   "id": "7eaafb2a",
   "metadata": {
    "papermill": {
     "duration": 0.024192,
     "end_time": "2024-10-07T00:27:28.526974",
     "exception": false,
     "start_time": "2024-10-07T00:27:28.502782",
     "status": "completed"
    },
    "tags": []
   },
   "outputs": [],
   "source": []
  },
  {
   "cell_type": "code",
   "execution_count": null,
   "id": "48c111f1",
   "metadata": {
    "papermill": {
     "duration": 0.026523,
     "end_time": "2024-10-07T00:27:28.577667",
     "exception": false,
     "start_time": "2024-10-07T00:27:28.551144",
     "status": "completed"
    },
    "tags": []
   },
   "outputs": [],
   "source": []
  },
  {
   "cell_type": "code",
   "execution_count": null,
   "id": "7377b862",
   "metadata": {
    "papermill": {
     "duration": 0.026877,
     "end_time": "2024-10-07T00:27:28.631888",
     "exception": false,
     "start_time": "2024-10-07T00:27:28.605011",
     "status": "completed"
    },
    "tags": []
   },
   "outputs": [],
   "source": []
  },
  {
   "cell_type": "code",
   "execution_count": null,
   "id": "35327286",
   "metadata": {
    "papermill": {
     "duration": 0.026298,
     "end_time": "2024-10-07T00:27:28.684685",
     "exception": false,
     "start_time": "2024-10-07T00:27:28.658387",
     "status": "completed"
    },
    "tags": []
   },
   "outputs": [],
   "source": []
  }
 ],
 "metadata": {
  "kaggle": {
   "accelerator": "none",
   "dataSources": [],
   "dockerImageVersionId": 30732,
   "isGpuEnabled": false,
   "isInternetEnabled": true,
   "language": "python",
   "sourceType": "notebook"
  },
  "kernelspec": {
   "display_name": "Python 3",
   "language": "python",
   "name": "python3"
  },
  "language_info": {
   "codemirror_mode": {
    "name": "ipython",
    "version": 3
   },
   "file_extension": ".py",
   "mimetype": "text/x-python",
   "name": "python",
   "nbconvert_exporter": "python",
   "pygments_lexer": "ipython3",
   "version": "3.10.13"
  },
  "papermill": {
   "default_parameters": {},
   "duration": 13.777615,
   "end_time": "2024-10-07T00:27:29.230903",
   "environment_variables": {},
   "exception": null,
   "input_path": "__notebook__.ipynb",
   "output_path": "__notebook__.ipynb",
   "parameters": {},
   "start_time": "2024-10-07T00:27:15.453288",
   "version": "2.5.0"
  }
 },
 "nbformat": 4,
 "nbformat_minor": 5
}
