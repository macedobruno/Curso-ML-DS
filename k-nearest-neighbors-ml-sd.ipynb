{
 "cells": [
  {
   "cell_type": "code",
   "execution_count": 1,
   "id": "34cda09f",
   "metadata": {
    "_cell_guid": "b1076dfc-b9ad-4769-8c92-a6c4dae69d19",
    "_uuid": "8f2839f25d086af736a60e9eeb907d3b93b6e0e5",
    "execution": {
     "iopub.execute_input": "2024-10-07T00:44:26.304467Z",
     "iopub.status.busy": "2024-10-07T00:44:26.303597Z",
     "iopub.status.idle": "2024-10-07T00:44:27.072928Z",
     "shell.execute_reply": "2024-10-07T00:44:27.071887Z"
    },
    "papermill": {
     "duration": 0.789912,
     "end_time": "2024-10-07T00:44:27.075300",
     "exception": false,
     "start_time": "2024-10-07T00:44:26.285388",
     "status": "completed"
    },
    "tags": []
   },
   "outputs": [
    {
     "name": "stdout",
     "output_type": "stream",
     "text": [
      "/kaggle/input/telecusts-prediction-k-nearest-neighbors/__results__.html\n",
      "/kaggle/input/telecusts-prediction-k-nearest-neighbors/__resultx__.html\n",
      "/kaggle/input/telecusts-prediction-k-nearest-neighbors/__notebook__.ipynb\n",
      "/kaggle/input/telecusts-prediction-k-nearest-neighbors/__output__.json\n",
      "/kaggle/input/telecusts-prediction-k-nearest-neighbors/custom.css\n",
      "/kaggle/input/telecusts-prediction-k-nearest-neighbors/__results___files/__results___19_1.png\n",
      "/kaggle/input/telecusts-prediction-k-nearest-neighbors/__results___files/__results___49_0.png\n",
      "/kaggle/input/knn-telecust/teleCust1000t.csv\n"
     ]
    }
   ],
   "source": [
    "# This Python 3 environment comes with many helpful analytics libraries installed\n",
    "# It is defined by the kaggle/python Docker image: https://github.com/kaggle/docker-python\n",
    "# For example, here's several helpful packages to load\n",
    "\n",
    "import numpy as np # linear algebra\n",
    "import pandas as pd # data processing, CSV file I/O (e.g. pd.read_csv)\n",
    "\n",
    "# Input data files are available in the read-only \"../input/\" directory\n",
    "# For example, running this (by clicking run or pressing Shift+Enter) will list all files under the input directory\n",
    "\n",
    "import os\n",
    "for dirname, _, filenames in os.walk('/kaggle/input'):\n",
    "    for filename in filenames:\n",
    "        print(os.path.join(dirname, filename))\n",
    "\n",
    "# You can write up to 20GB to the current directory (/kaggle/working/) that gets preserved as output when you create a version using \"Save & Run All\" \n",
    "# You can also write temporary files to /kaggle/temp/, but they won't be saved outside of the current session"
   ]
  },
  {
   "cell_type": "markdown",
   "id": "b1feae4c",
   "metadata": {
    "papermill": {
     "duration": 0.015275,
     "end_time": "2024-10-07T00:44:27.104668",
     "exception": false,
     "start_time": "2024-10-07T00:44:27.089393",
     "status": "completed"
    },
    "tags": []
   },
   "source": [
    "# **Importing the Libraries**"
   ]
  },
  {
   "cell_type": "code",
   "execution_count": 2,
   "id": "255b057b",
   "metadata": {
    "execution": {
     "iopub.execute_input": "2024-10-07T00:44:27.141343Z",
     "iopub.status.busy": "2024-10-07T00:44:27.140852Z",
     "iopub.status.idle": "2024-10-07T00:44:28.298106Z",
     "shell.execute_reply": "2024-10-07T00:44:28.297239Z"
    },
    "papermill": {
     "duration": 1.178866,
     "end_time": "2024-10-07T00:44:28.300551",
     "exception": false,
     "start_time": "2024-10-07T00:44:27.121685",
     "status": "completed"
    },
    "tags": []
   },
   "outputs": [],
   "source": [
    "import pandas as pd\n",
    "import seaborn as sns\n",
    "import matplotlib.pyplot as plt\n",
    "%matplotlib inline\n",
    "import numpy as np\n",
    "import warnings\n",
    "warnings.filterwarnings(\"ignore\")"
   ]
  },
  {
   "cell_type": "markdown",
   "id": "3637cd7f",
   "metadata": {
    "papermill": {
     "duration": 0.014035,
     "end_time": "2024-10-07T00:44:28.330645",
     "exception": false,
     "start_time": "2024-10-07T00:44:28.316610",
     "status": "completed"
    },
    "tags": []
   },
   "source": [
    "# **Loading the Dataset**"
   ]
  },
  {
   "cell_type": "code",
   "execution_count": 3,
   "id": "1d02c840",
   "metadata": {
    "execution": {
     "iopub.execute_input": "2024-10-07T00:44:28.359413Z",
     "iopub.status.busy": "2024-10-07T00:44:28.358540Z",
     "iopub.status.idle": "2024-10-07T00:44:28.400332Z",
     "shell.execute_reply": "2024-10-07T00:44:28.399261Z"
    },
    "papermill": {
     "duration": 0.058725,
     "end_time": "2024-10-07T00:44:28.402650",
     "exception": false,
     "start_time": "2024-10-07T00:44:28.343925",
     "status": "completed"
    },
    "tags": []
   },
   "outputs": [
    {
     "data": {
      "text/html": [
       "<div>\n",
       "<style scoped>\n",
       "    .dataframe tbody tr th:only-of-type {\n",
       "        vertical-align: middle;\n",
       "    }\n",
       "\n",
       "    .dataframe tbody tr th {\n",
       "        vertical-align: top;\n",
       "    }\n",
       "\n",
       "    .dataframe thead th {\n",
       "        text-align: right;\n",
       "    }\n",
       "</style>\n",
       "<table border=\"1\" class=\"dataframe\">\n",
       "  <thead>\n",
       "    <tr style=\"text-align: right;\">\n",
       "      <th></th>\n",
       "      <th>region</th>\n",
       "      <th>tenure</th>\n",
       "      <th>age</th>\n",
       "      <th>marital</th>\n",
       "      <th>address</th>\n",
       "      <th>income</th>\n",
       "      <th>ed</th>\n",
       "      <th>employ</th>\n",
       "      <th>retire</th>\n",
       "      <th>gender</th>\n",
       "      <th>reside</th>\n",
       "      <th>custcat</th>\n",
       "    </tr>\n",
       "  </thead>\n",
       "  <tbody>\n",
       "    <tr>\n",
       "      <th>0</th>\n",
       "      <td>2</td>\n",
       "      <td>13</td>\n",
       "      <td>44</td>\n",
       "      <td>1</td>\n",
       "      <td>9</td>\n",
       "      <td>64.0</td>\n",
       "      <td>4</td>\n",
       "      <td>5</td>\n",
       "      <td>0.0</td>\n",
       "      <td>0</td>\n",
       "      <td>2</td>\n",
       "      <td>1</td>\n",
       "    </tr>\n",
       "    <tr>\n",
       "      <th>1</th>\n",
       "      <td>3</td>\n",
       "      <td>11</td>\n",
       "      <td>33</td>\n",
       "      <td>1</td>\n",
       "      <td>7</td>\n",
       "      <td>136.0</td>\n",
       "      <td>5</td>\n",
       "      <td>5</td>\n",
       "      <td>0.0</td>\n",
       "      <td>0</td>\n",
       "      <td>6</td>\n",
       "      <td>4</td>\n",
       "    </tr>\n",
       "    <tr>\n",
       "      <th>2</th>\n",
       "      <td>3</td>\n",
       "      <td>68</td>\n",
       "      <td>52</td>\n",
       "      <td>1</td>\n",
       "      <td>24</td>\n",
       "      <td>116.0</td>\n",
       "      <td>1</td>\n",
       "      <td>29</td>\n",
       "      <td>0.0</td>\n",
       "      <td>1</td>\n",
       "      <td>2</td>\n",
       "      <td>3</td>\n",
       "    </tr>\n",
       "    <tr>\n",
       "      <th>3</th>\n",
       "      <td>2</td>\n",
       "      <td>33</td>\n",
       "      <td>33</td>\n",
       "      <td>0</td>\n",
       "      <td>12</td>\n",
       "      <td>33.0</td>\n",
       "      <td>2</td>\n",
       "      <td>0</td>\n",
       "      <td>0.0</td>\n",
       "      <td>1</td>\n",
       "      <td>1</td>\n",
       "      <td>1</td>\n",
       "    </tr>\n",
       "    <tr>\n",
       "      <th>4</th>\n",
       "      <td>2</td>\n",
       "      <td>23</td>\n",
       "      <td>30</td>\n",
       "      <td>1</td>\n",
       "      <td>9</td>\n",
       "      <td>30.0</td>\n",
       "      <td>1</td>\n",
       "      <td>2</td>\n",
       "      <td>0.0</td>\n",
       "      <td>0</td>\n",
       "      <td>4</td>\n",
       "      <td>3</td>\n",
       "    </tr>\n",
       "  </tbody>\n",
       "</table>\n",
       "</div>"
      ],
      "text/plain": [
       "   region  tenure  age  marital  address  income  ed  employ  retire  gender  \\\n",
       "0       2      13   44        1        9    64.0   4       5     0.0       0   \n",
       "1       3      11   33        1        7   136.0   5       5     0.0       0   \n",
       "2       3      68   52        1       24   116.0   1      29     0.0       1   \n",
       "3       2      33   33        0       12    33.0   2       0     0.0       1   \n",
       "4       2      23   30        1        9    30.0   1       2     0.0       0   \n",
       "\n",
       "   reside  custcat  \n",
       "0       2        1  \n",
       "1       6        4  \n",
       "2       2        3  \n",
       "3       1        1  \n",
       "4       4        3  "
      ]
     },
     "execution_count": 3,
     "metadata": {},
     "output_type": "execute_result"
    }
   ],
   "source": [
    "df = pd.read_csv(\"/kaggle/input/knn-telecust/teleCust1000t.csv\")\n",
    "#\"/kaggle/input/telecusts-prediction-k-nearest-neighbors/teleCust.csv\"\n",
    "df.head()"
   ]
  },
  {
   "cell_type": "markdown",
   "id": "09535d99",
   "metadata": {
    "papermill": {
     "duration": 0.013275,
     "end_time": "2024-10-07T00:44:28.430421",
     "exception": false,
     "start_time": "2024-10-07T00:44:28.417146",
     "status": "completed"
    },
    "tags": []
   },
   "source": [
    "# **Getting to know the dataset**"
   ]
  },
  {
   "cell_type": "code",
   "execution_count": 4,
   "id": "16cf9177",
   "metadata": {
    "execution": {
     "iopub.execute_input": "2024-10-07T00:44:28.458897Z",
     "iopub.status.busy": "2024-10-07T00:44:28.458572Z",
     "iopub.status.idle": "2024-10-07T00:44:28.483746Z",
     "shell.execute_reply": "2024-10-07T00:44:28.480900Z"
    },
    "papermill": {
     "duration": 0.042106,
     "end_time": "2024-10-07T00:44:28.485893",
     "exception": false,
     "start_time": "2024-10-07T00:44:28.443787",
     "status": "completed"
    },
    "tags": []
   },
   "outputs": [
    {
     "name": "stdout",
     "output_type": "stream",
     "text": [
      "region\n",
      "region\n",
      "3    344\n",
      "2    334\n",
      "1    322\n",
      "Name: count, dtype: int64\n",
      "-------------------------------------\n",
      "tenure\n",
      "tenure\n",
      "72    31\n",
      "24    20\n",
      "48    20\n",
      "3     20\n",
      "5     19\n",
      "      ..\n",
      "47     7\n",
      "36     7\n",
      "2      7\n",
      "21     6\n",
      "63     6\n",
      "Name: count, Length: 72, dtype: int64\n",
      "-------------------------------------\n",
      "age\n",
      "age\n",
      "33    39\n",
      "39    35\n",
      "35    34\n",
      "34    32\n",
      "31    32\n",
      "37    31\n",
      "42    28\n",
      "40    28\n",
      "30    26\n",
      "52    25\n",
      "36    25\n",
      "46    24\n",
      "48    24\n",
      "27    24\n",
      "43    24\n",
      "41    24\n",
      "54    24\n",
      "45    24\n",
      "51    23\n",
      "50    23\n",
      "25    23\n",
      "28    22\n",
      "32    21\n",
      "47    21\n",
      "26    21\n",
      "55    21\n",
      "38    21\n",
      "44    20\n",
      "57    20\n",
      "24    20\n",
      "29    19\n",
      "53    19\n",
      "49    18\n",
      "23    16\n",
      "22    15\n",
      "59    14\n",
      "63    12\n",
      "60    11\n",
      "56    11\n",
      "61    11\n",
      "58    10\n",
      "64    10\n",
      "20    10\n",
      "62     9\n",
      "21     8\n",
      "66     7\n",
      "68     6\n",
      "69     6\n",
      "65     6\n",
      "67     5\n",
      "19     4\n",
      "76     3\n",
      "70     3\n",
      "75     2\n",
      "71     1\n",
      "72     1\n",
      "74     1\n",
      "77     1\n",
      "18     1\n",
      "73     1\n",
      "Name: count, dtype: int64\n",
      "-------------------------------------\n",
      "marital\n",
      "marital\n",
      "0    505\n",
      "1    495\n",
      "Name: count, dtype: int64\n",
      "-------------------------------------\n",
      "address\n",
      "address\n",
      "1     68\n",
      "2     66\n",
      "4     61\n",
      "3     61\n",
      "0     56\n",
      "7     53\n",
      "5     50\n",
      "9     41\n",
      "8     39\n",
      "10    38\n",
      "12    36\n",
      "6     36\n",
      "13    33\n",
      "19    29\n",
      "14    24\n",
      "15    24\n",
      "11    23\n",
      "17    22\n",
      "21    20\n",
      "20    20\n",
      "18    20\n",
      "27    16\n",
      "23    15\n",
      "22    15\n",
      "16    14\n",
      "24    12\n",
      "25    12\n",
      "26    12\n",
      "28    12\n",
      "30    11\n",
      "29     8\n",
      "31     6\n",
      "34     6\n",
      "38     5\n",
      "33     5\n",
      "32     5\n",
      "43     3\n",
      "44     3\n",
      "37     3\n",
      "39     3\n",
      "40     3\n",
      "36     2\n",
      "35     2\n",
      "41     1\n",
      "49     1\n",
      "45     1\n",
      "48     1\n",
      "42     1\n",
      "46     1\n",
      "55     1\n",
      "Name: count, dtype: int64\n",
      "-------------------------------------\n",
      "income\n",
      "income\n",
      "25.0     24\n",
      "26.0     22\n",
      "41.0     22\n",
      "33.0     20\n",
      "46.0     19\n",
      "         ..\n",
      "224.0     1\n",
      "460.0     1\n",
      "114.0     1\n",
      "95.0      1\n",
      "359.0     1\n",
      "Name: count, Length: 218, dtype: int64\n",
      "-------------------------------------\n",
      "ed\n",
      "ed\n",
      "2    287\n",
      "4    234\n",
      "3    209\n",
      "1    204\n",
      "5     66\n",
      "Name: count, dtype: int64\n",
      "-------------------------------------\n",
      "employ\n",
      "employ\n",
      "0     106\n",
      "1      66\n",
      "2      59\n",
      "5      54\n",
      "4      52\n",
      "3      50\n",
      "7      48\n",
      "6      44\n",
      "9      39\n",
      "8      38\n",
      "11     34\n",
      "12     32\n",
      "15     30\n",
      "10     30\n",
      "13     28\n",
      "21     22\n",
      "20     20\n",
      "18     20\n",
      "22     20\n",
      "19     19\n",
      "25     17\n",
      "16     17\n",
      "17     16\n",
      "24     14\n",
      "23     14\n",
      "14     13\n",
      "27     10\n",
      "29      9\n",
      "31      9\n",
      "35      9\n",
      "26      8\n",
      "30      8\n",
      "33      7\n",
      "37      5\n",
      "28      5\n",
      "34      4\n",
      "36      4\n",
      "40      3\n",
      "32      3\n",
      "43      3\n",
      "39      3\n",
      "41      2\n",
      "44      2\n",
      "45      2\n",
      "47      1\n",
      "38      1\n",
      "Name: count, dtype: int64\n",
      "-------------------------------------\n",
      "retire\n",
      "retire\n",
      "0.0    953\n",
      "1.0     47\n",
      "Name: count, dtype: int64\n",
      "-------------------------------------\n",
      "gender\n",
      "gender\n",
      "1    517\n",
      "0    483\n",
      "Name: count, dtype: int64\n",
      "-------------------------------------\n",
      "reside\n",
      "reside\n",
      "1    375\n",
      "2    272\n",
      "3    138\n",
      "4    120\n",
      "5     60\n",
      "6     29\n",
      "7      4\n",
      "8      2\n",
      "Name: count, dtype: int64\n",
      "-------------------------------------\n",
      "custcat\n",
      "custcat\n",
      "3    281\n",
      "1    266\n",
      "4    236\n",
      "2    217\n",
      "Name: count, dtype: int64\n",
      "-------------------------------------\n"
     ]
    }
   ],
   "source": [
    "for i in df.columns:\n",
    "    print(i)\n",
    "    print(df[i].value_counts())\n",
    "    print('-------------------------------------')"
   ]
  },
  {
   "cell_type": "code",
   "execution_count": 5,
   "id": "aec55082",
   "metadata": {
    "execution": {
     "iopub.execute_input": "2024-10-07T00:44:28.516405Z",
     "iopub.status.busy": "2024-10-07T00:44:28.516017Z",
     "iopub.status.idle": "2024-10-07T00:44:28.524937Z",
     "shell.execute_reply": "2024-10-07T00:44:28.524125Z"
    },
    "papermill": {
     "duration": 0.02631,
     "end_time": "2024-10-07T00:44:28.526843",
     "exception": false,
     "start_time": "2024-10-07T00:44:28.500533",
     "status": "completed"
    },
    "tags": []
   },
   "outputs": [],
   "source": [
    "df.drop([\"ed\", \"employ\"], axis = 1, inplace = True)"
   ]
  },
  {
   "cell_type": "code",
   "execution_count": 6,
   "id": "33e7b111",
   "metadata": {
    "execution": {
     "iopub.execute_input": "2024-10-07T00:44:28.555277Z",
     "iopub.status.busy": "2024-10-07T00:44:28.554976Z",
     "iopub.status.idle": "2024-10-07T00:44:28.567424Z",
     "shell.execute_reply": "2024-10-07T00:44:28.566562Z"
    },
    "papermill": {
     "duration": 0.029274,
     "end_time": "2024-10-07T00:44:28.569843",
     "exception": false,
     "start_time": "2024-10-07T00:44:28.540569",
     "status": "completed"
    },
    "tags": []
   },
   "outputs": [
    {
     "data": {
      "text/html": [
       "<div>\n",
       "<style scoped>\n",
       "    .dataframe tbody tr th:only-of-type {\n",
       "        vertical-align: middle;\n",
       "    }\n",
       "\n",
       "    .dataframe tbody tr th {\n",
       "        vertical-align: top;\n",
       "    }\n",
       "\n",
       "    .dataframe thead th {\n",
       "        text-align: right;\n",
       "    }\n",
       "</style>\n",
       "<table border=\"1\" class=\"dataframe\">\n",
       "  <thead>\n",
       "    <tr style=\"text-align: right;\">\n",
       "      <th></th>\n",
       "      <th>region</th>\n",
       "      <th>tenure</th>\n",
       "      <th>age</th>\n",
       "      <th>marital</th>\n",
       "      <th>address</th>\n",
       "      <th>income</th>\n",
       "      <th>retire</th>\n",
       "      <th>gender</th>\n",
       "      <th>reside</th>\n",
       "      <th>custcat</th>\n",
       "    </tr>\n",
       "  </thead>\n",
       "  <tbody>\n",
       "    <tr>\n",
       "      <th>0</th>\n",
       "      <td>2</td>\n",
       "      <td>13</td>\n",
       "      <td>44</td>\n",
       "      <td>1</td>\n",
       "      <td>9</td>\n",
       "      <td>64.0</td>\n",
       "      <td>0.0</td>\n",
       "      <td>0</td>\n",
       "      <td>2</td>\n",
       "      <td>1</td>\n",
       "    </tr>\n",
       "    <tr>\n",
       "      <th>1</th>\n",
       "      <td>3</td>\n",
       "      <td>11</td>\n",
       "      <td>33</td>\n",
       "      <td>1</td>\n",
       "      <td>7</td>\n",
       "      <td>136.0</td>\n",
       "      <td>0.0</td>\n",
       "      <td>0</td>\n",
       "      <td>6</td>\n",
       "      <td>4</td>\n",
       "    </tr>\n",
       "    <tr>\n",
       "      <th>2</th>\n",
       "      <td>3</td>\n",
       "      <td>68</td>\n",
       "      <td>52</td>\n",
       "      <td>1</td>\n",
       "      <td>24</td>\n",
       "      <td>116.0</td>\n",
       "      <td>0.0</td>\n",
       "      <td>1</td>\n",
       "      <td>2</td>\n",
       "      <td>3</td>\n",
       "    </tr>\n",
       "    <tr>\n",
       "      <th>3</th>\n",
       "      <td>2</td>\n",
       "      <td>33</td>\n",
       "      <td>33</td>\n",
       "      <td>0</td>\n",
       "      <td>12</td>\n",
       "      <td>33.0</td>\n",
       "      <td>0.0</td>\n",
       "      <td>1</td>\n",
       "      <td>1</td>\n",
       "      <td>1</td>\n",
       "    </tr>\n",
       "    <tr>\n",
       "      <th>4</th>\n",
       "      <td>2</td>\n",
       "      <td>23</td>\n",
       "      <td>30</td>\n",
       "      <td>1</td>\n",
       "      <td>9</td>\n",
       "      <td>30.0</td>\n",
       "      <td>0.0</td>\n",
       "      <td>0</td>\n",
       "      <td>4</td>\n",
       "      <td>3</td>\n",
       "    </tr>\n",
       "  </tbody>\n",
       "</table>\n",
       "</div>"
      ],
      "text/plain": [
       "   region  tenure  age  marital  address  income  retire  gender  reside  \\\n",
       "0       2      13   44        1        9    64.0     0.0       0       2   \n",
       "1       3      11   33        1        7   136.0     0.0       0       6   \n",
       "2       3      68   52        1       24   116.0     0.0       1       2   \n",
       "3       2      33   33        0       12    33.0     0.0       1       1   \n",
       "4       2      23   30        1        9    30.0     0.0       0       4   \n",
       "\n",
       "   custcat  \n",
       "0        1  \n",
       "1        4  \n",
       "2        3  \n",
       "3        1  \n",
       "4        3  "
      ]
     },
     "execution_count": 6,
     "metadata": {},
     "output_type": "execute_result"
    }
   ],
   "source": [
    "df.head()"
   ]
  },
  {
   "cell_type": "code",
   "execution_count": 7,
   "id": "758116e8",
   "metadata": {
    "execution": {
     "iopub.execute_input": "2024-10-07T00:44:28.599756Z",
     "iopub.status.busy": "2024-10-07T00:44:28.599069Z",
     "iopub.status.idle": "2024-10-07T00:44:28.613202Z",
     "shell.execute_reply": "2024-10-07T00:44:28.612410Z"
    },
    "papermill": {
     "duration": 0.031009,
     "end_time": "2024-10-07T00:44:28.615315",
     "exception": false,
     "start_time": "2024-10-07T00:44:28.584306",
     "status": "completed"
    },
    "tags": []
   },
   "outputs": [
    {
     "name": "stdout",
     "output_type": "stream",
     "text": [
      "<class 'pandas.core.frame.DataFrame'>\n",
      "RangeIndex: 1000 entries, 0 to 999\n",
      "Data columns (total 10 columns):\n",
      " #   Column   Non-Null Count  Dtype  \n",
      "---  ------   --------------  -----  \n",
      " 0   region   1000 non-null   int64  \n",
      " 1   tenure   1000 non-null   int64  \n",
      " 2   age      1000 non-null   int64  \n",
      " 3   marital  1000 non-null   int64  \n",
      " 4   address  1000 non-null   int64  \n",
      " 5   income   1000 non-null   float64\n",
      " 6   retire   1000 non-null   float64\n",
      " 7   gender   1000 non-null   int64  \n",
      " 8   reside   1000 non-null   int64  \n",
      " 9   custcat  1000 non-null   int64  \n",
      "dtypes: float64(2), int64(8)\n",
      "memory usage: 78.2 KB\n"
     ]
    }
   ],
   "source": [
    "df.info()"
   ]
  },
  {
   "cell_type": "markdown",
   "id": "61563995",
   "metadata": {
    "papermill": {
     "duration": 0.013772,
     "end_time": "2024-10-07T00:44:28.643191",
     "exception": false,
     "start_time": "2024-10-07T00:44:28.629419",
     "status": "completed"
    },
    "tags": []
   },
   "source": [
    "# **EDA**"
   ]
  },
  {
   "cell_type": "code",
   "execution_count": 8,
   "id": "e924925f",
   "metadata": {
    "execution": {
     "iopub.execute_input": "2024-10-07T00:44:28.672350Z",
     "iopub.status.busy": "2024-10-07T00:44:28.672016Z",
     "iopub.status.idle": "2024-10-07T00:44:29.442529Z",
     "shell.execute_reply": "2024-10-07T00:44:29.441647Z"
    },
    "papermill": {
     "duration": 0.787805,
     "end_time": "2024-10-07T00:44:29.444937",
     "exception": false,
     "start_time": "2024-10-07T00:44:28.657132",
     "status": "completed"
    },
    "tags": []
   },
   "outputs": [
    {
     "data": {
      "text/plain": [
       "<Axes: >"
      ]
     },
     "execution_count": 8,
     "metadata": {},
     "output_type": "execute_result"
    },
    {
     "data": {
      "image/png": "[encoded data removed]",
      "text/plain": [
       "<Figure size 1500x900 with 2 Axes>"
      ]
     },
     "metadata": {},
     "output_type": "display_data"
    }
   ],
   "source": [
    "plt.figure(figsize = (15, 9))\n",
    "sns.heatmap(df.corr(numeric_only = True), annot = True, linewidth = 0.5, cmap = \"Spectral\")"
   ]
  },
  {
   "cell_type": "code",
   "execution_count": 9,
   "id": "8e4d9a7d",
   "metadata": {
    "execution": {
     "iopub.execute_input": "2024-10-07T00:44:29.477678Z",
     "iopub.status.busy": "2024-10-07T00:44:29.477361Z",
     "iopub.status.idle": "2024-10-07T00:44:29.490308Z",
     "shell.execute_reply": "2024-10-07T00:44:29.489315Z"
    },
    "papermill": {
     "duration": 0.031553,
     "end_time": "2024-10-07T00:44:29.492389",
     "exception": false,
     "start_time": "2024-10-07T00:44:29.460836",
     "status": "completed"
    },
    "tags": []
   },
   "outputs": [
    {
     "data": {
      "text/html": [
       "<div>\n",
       "<style scoped>\n",
       "    .dataframe tbody tr th:only-of-type {\n",
       "        vertical-align: middle;\n",
       "    }\n",
       "\n",
       "    .dataframe tbody tr th {\n",
       "        vertical-align: top;\n",
       "    }\n",
       "\n",
       "    .dataframe thead th {\n",
       "        text-align: right;\n",
       "    }\n",
       "</style>\n",
       "<table border=\"1\" class=\"dataframe\">\n",
       "  <thead>\n",
       "    <tr style=\"text-align: right;\">\n",
       "      <th></th>\n",
       "      <th>region</th>\n",
       "      <th>tenure</th>\n",
       "      <th>age</th>\n",
       "      <th>marital</th>\n",
       "      <th>address</th>\n",
       "      <th>income</th>\n",
       "      <th>reside</th>\n",
       "      <th>custcat</th>\n",
       "    </tr>\n",
       "  </thead>\n",
       "  <tbody>\n",
       "    <tr>\n",
       "      <th>0</th>\n",
       "      <td>2</td>\n",
       "      <td>13</td>\n",
       "      <td>44</td>\n",
       "      <td>1</td>\n",
       "      <td>9</td>\n",
       "      <td>64.0</td>\n",
       "      <td>2</td>\n",
       "      <td>1</td>\n",
       "    </tr>\n",
       "    <tr>\n",
       "      <th>1</th>\n",
       "      <td>3</td>\n",
       "      <td>11</td>\n",
       "      <td>33</td>\n",
       "      <td>1</td>\n",
       "      <td>7</td>\n",
       "      <td>136.0</td>\n",
       "      <td>6</td>\n",
       "      <td>4</td>\n",
       "    </tr>\n",
       "    <tr>\n",
       "      <th>2</th>\n",
       "      <td>3</td>\n",
       "      <td>68</td>\n",
       "      <td>52</td>\n",
       "      <td>1</td>\n",
       "      <td>24</td>\n",
       "      <td>116.0</td>\n",
       "      <td>2</td>\n",
       "      <td>3</td>\n",
       "    </tr>\n",
       "    <tr>\n",
       "      <th>3</th>\n",
       "      <td>2</td>\n",
       "      <td>33</td>\n",
       "      <td>33</td>\n",
       "      <td>0</td>\n",
       "      <td>12</td>\n",
       "      <td>33.0</td>\n",
       "      <td>1</td>\n",
       "      <td>1</td>\n",
       "    </tr>\n",
       "    <tr>\n",
       "      <th>4</th>\n",
       "      <td>2</td>\n",
       "      <td>23</td>\n",
       "      <td>30</td>\n",
       "      <td>1</td>\n",
       "      <td>9</td>\n",
       "      <td>30.0</td>\n",
       "      <td>4</td>\n",
       "      <td>3</td>\n",
       "    </tr>\n",
       "  </tbody>\n",
       "</table>\n",
       "</div>"
      ],
      "text/plain": [
       "   region  tenure  age  marital  address  income  reside  custcat\n",
       "0       2      13   44        1        9    64.0       2        1\n",
       "1       3      11   33        1        7   136.0       6        4\n",
       "2       3      68   52        1       24   116.0       2        3\n",
       "3       2      33   33        0       12    33.0       1        1\n",
       "4       2      23   30        1        9    30.0       4        3"
      ]
     },
     "execution_count": 9,
     "metadata": {},
     "output_type": "execute_result"
    }
   ],
   "source": [
    "df.drop([\"retire\", \"gender\"], axis = 1, inplace = True)\n",
    "df.head()"
   ]
  },
  {
   "cell_type": "code",
   "execution_count": 10,
   "id": "809ace16",
   "metadata": {
    "execution": {
     "iopub.execute_input": "2024-10-07T00:44:29.525676Z",
     "iopub.status.busy": "2024-10-07T00:44:29.525357Z",
     "iopub.status.idle": "2024-10-07T00:44:29.531919Z",
     "shell.execute_reply": "2024-10-07T00:44:29.531170Z"
    },
    "papermill": {
     "duration": 0.025458,
     "end_time": "2024-10-07T00:44:29.533798",
     "exception": false,
     "start_time": "2024-10-07T00:44:29.508340",
     "status": "completed"
    },
    "tags": []
   },
   "outputs": [],
   "source": [
    "region = pd.get_dummies(df[\"region\"], drop_first = True, prefix = \"region\")\n",
    "reside = pd.get_dummies(df[\"reside\"], drop_first = True, prefix = \"reside\")"
   ]
  },
  {
   "cell_type": "code",
   "execution_count": 11,
   "id": "31beec85",
   "metadata": {
    "execution": {
     "iopub.execute_input": "2024-10-07T00:44:29.566852Z",
     "iopub.status.busy": "2024-10-07T00:44:29.566543Z",
     "iopub.status.idle": "2024-10-07T00:44:29.571652Z",
     "shell.execute_reply": "2024-10-07T00:44:29.570820Z"
    },
    "papermill": {
     "duration": 0.023771,
     "end_time": "2024-10-07T00:44:29.573529",
     "exception": false,
     "start_time": "2024-10-07T00:44:29.549758",
     "status": "completed"
    },
    "tags": []
   },
   "outputs": [],
   "source": [
    "df.drop([\"region\", \"reside\"], axis = 1, inplace = True)"
   ]
  },
  {
   "cell_type": "code",
   "execution_count": 12,
   "id": "5b89b2a3",
   "metadata": {
    "execution": {
     "iopub.execute_input": "2024-10-07T00:44:29.606390Z",
     "iopub.status.busy": "2024-10-07T00:44:29.605785Z",
     "iopub.status.idle": "2024-10-07T00:44:29.621770Z",
     "shell.execute_reply": "2024-10-07T00:44:29.620946Z"
    },
    "papermill": {
     "duration": 0.034531,
     "end_time": "2024-10-07T00:44:29.623816",
     "exception": false,
     "start_time": "2024-10-07T00:44:29.589285",
     "status": "completed"
    },
    "tags": []
   },
   "outputs": [
    {
     "data": {
      "text/html": [
       "<div>\n",
       "<style scoped>\n",
       "    .dataframe tbody tr th:only-of-type {\n",
       "        vertical-align: middle;\n",
       "    }\n",
       "\n",
       "    .dataframe tbody tr th {\n",
       "        vertical-align: top;\n",
       "    }\n",
       "\n",
       "    .dataframe thead th {\n",
       "        text-align: right;\n",
       "    }\n",
       "</style>\n",
       "<table border=\"1\" class=\"dataframe\">\n",
       "  <thead>\n",
       "    <tr style=\"text-align: right;\">\n",
       "      <th></th>\n",
       "      <th>tenure</th>\n",
       "      <th>age</th>\n",
       "      <th>marital</th>\n",
       "      <th>address</th>\n",
       "      <th>income</th>\n",
       "      <th>custcat</th>\n",
       "      <th>region_2</th>\n",
       "      <th>region_3</th>\n",
       "      <th>reside_2</th>\n",
       "      <th>reside_3</th>\n",
       "      <th>reside_4</th>\n",
       "      <th>reside_5</th>\n",
       "      <th>reside_6</th>\n",
       "      <th>reside_7</th>\n",
       "      <th>reside_8</th>\n",
       "    </tr>\n",
       "  </thead>\n",
       "  <tbody>\n",
       "    <tr>\n",
       "      <th>0</th>\n",
       "      <td>13</td>\n",
       "      <td>44</td>\n",
       "      <td>1</td>\n",
       "      <td>9</td>\n",
       "      <td>64.0</td>\n",
       "      <td>1</td>\n",
       "      <td>True</td>\n",
       "      <td>False</td>\n",
       "      <td>True</td>\n",
       "      <td>False</td>\n",
       "      <td>False</td>\n",
       "      <td>False</td>\n",
       "      <td>False</td>\n",
       "      <td>False</td>\n",
       "      <td>False</td>\n",
       "    </tr>\n",
       "    <tr>\n",
       "      <th>1</th>\n",
       "      <td>11</td>\n",
       "      <td>33</td>\n",
       "      <td>1</td>\n",
       "      <td>7</td>\n",
       "      <td>136.0</td>\n",
       "      <td>4</td>\n",
       "      <td>False</td>\n",
       "      <td>True</td>\n",
       "      <td>False</td>\n",
       "      <td>False</td>\n",
       "      <td>False</td>\n",
       "      <td>False</td>\n",
       "      <td>True</td>\n",
       "      <td>False</td>\n",
       "      <td>False</td>\n",
       "    </tr>\n",
       "    <tr>\n",
       "      <th>2</th>\n",
       "      <td>68</td>\n",
       "      <td>52</td>\n",
       "      <td>1</td>\n",
       "      <td>24</td>\n",
       "      <td>116.0</td>\n",
       "      <td>3</td>\n",
       "      <td>False</td>\n",
       "      <td>True</td>\n",
       "      <td>True</td>\n",
       "      <td>False</td>\n",
       "      <td>False</td>\n",
       "      <td>False</td>\n",
       "      <td>False</td>\n",
       "      <td>False</td>\n",
       "      <td>False</td>\n",
       "    </tr>\n",
       "    <tr>\n",
       "      <th>3</th>\n",
       "      <td>33</td>\n",
       "      <td>33</td>\n",
       "      <td>0</td>\n",
       "      <td>12</td>\n",
       "      <td>33.0</td>\n",
       "      <td>1</td>\n",
       "      <td>True</td>\n",
       "      <td>False</td>\n",
       "      <td>False</td>\n",
       "      <td>False</td>\n",
       "      <td>False</td>\n",
       "      <td>False</td>\n",
       "      <td>False</td>\n",
       "      <td>False</td>\n",
       "      <td>False</td>\n",
       "    </tr>\n",
       "    <tr>\n",
       "      <th>4</th>\n",
       "      <td>23</td>\n",
       "      <td>30</td>\n",
       "      <td>1</td>\n",
       "      <td>9</td>\n",
       "      <td>30.0</td>\n",
       "      <td>3</td>\n",
       "      <td>True</td>\n",
       "      <td>False</td>\n",
       "      <td>False</td>\n",
       "      <td>False</td>\n",
       "      <td>True</td>\n",
       "      <td>False</td>\n",
       "      <td>False</td>\n",
       "      <td>False</td>\n",
       "      <td>False</td>\n",
       "    </tr>\n",
       "  </tbody>\n",
       "</table>\n",
       "</div>"
      ],
      "text/plain": [
       "   tenure  age  marital  address  income  custcat  region_2  region_3  \\\n",
       "0      13   44        1        9    64.0        1      True     False   \n",
       "1      11   33        1        7   136.0        4     False      True   \n",
       "2      68   52        1       24   116.0        3     False      True   \n",
       "3      33   33        0       12    33.0        1      True     False   \n",
       "4      23   30        1        9    30.0        3      True     False   \n",
       "\n",
       "   reside_2  reside_3  reside_4  reside_5  reside_6  reside_7  reside_8  \n",
       "0      True     False     False     False     False     False     False  \n",
       "1     False     False     False     False      True     False     False  \n",
       "2      True     False     False     False     False     False     False  \n",
       "3     False     False     False     False     False     False     False  \n",
       "4     False     False      True     False     False     False     False  "
      ]
     },
     "execution_count": 12,
     "metadata": {},
     "output_type": "execute_result"
    }
   ],
   "source": [
    "df = pd.concat([df, region, reside], axis = 1)\n",
    "df.head()"
   ]
  },
  {
   "cell_type": "markdown",
   "id": "4f7ab8dd",
   "metadata": {
    "papermill": {
     "duration": 0.015625,
     "end_time": "2024-10-07T00:44:29.655961",
     "exception": false,
     "start_time": "2024-10-07T00:44:29.640336",
     "status": "completed"
    },
    "tags": []
   },
   "source": [
    "# **Standardization od variables**"
   ]
  },
  {
   "cell_type": "code",
   "execution_count": 13,
   "id": "eb4abf1a",
   "metadata": {
    "execution": {
     "iopub.execute_input": "2024-10-07T00:44:29.689508Z",
     "iopub.status.busy": "2024-10-07T00:44:29.688823Z",
     "iopub.status.idle": "2024-10-07T00:44:29.826143Z",
     "shell.execute_reply": "2024-10-07T00:44:29.825397Z"
    },
    "papermill": {
     "duration": 0.156753,
     "end_time": "2024-10-07T00:44:29.828522",
     "exception": false,
     "start_time": "2024-10-07T00:44:29.671769",
     "status": "completed"
    },
    "tags": []
   },
   "outputs": [],
   "source": [
    "from sklearn.preprocessing import StandardScaler"
   ]
  },
  {
   "cell_type": "code",
   "execution_count": 14,
   "id": "586e5bf9",
   "metadata": {
    "execution": {
     "iopub.execute_input": "2024-10-07T00:44:29.862401Z",
     "iopub.status.busy": "2024-10-07T00:44:29.861807Z",
     "iopub.status.idle": "2024-10-07T00:44:29.867055Z",
     "shell.execute_reply": "2024-10-07T00:44:29.866219Z"
    },
    "papermill": {
     "duration": 0.024131,
     "end_time": "2024-10-07T00:44:29.869000",
     "exception": false,
     "start_time": "2024-10-07T00:44:29.844869",
     "status": "completed"
    },
    "tags": []
   },
   "outputs": [],
   "source": [
    "scaled_variable = df[[\"tenure\", \"age\", \"address\", \"income\"]]"
   ]
  },
  {
   "cell_type": "code",
   "execution_count": 15,
   "id": "4146f963",
   "metadata": {
    "execution": {
     "iopub.execute_input": "2024-10-07T00:44:29.902720Z",
     "iopub.status.busy": "2024-10-07T00:44:29.902126Z",
     "iopub.status.idle": "2024-10-07T00:44:29.913797Z",
     "shell.execute_reply": "2024-10-07T00:44:29.912992Z"
    },
    "papermill": {
     "duration": 0.030889,
     "end_time": "2024-10-07T00:44:29.915894",
     "exception": false,
     "start_time": "2024-10-07T00:44:29.885005",
     "status": "completed"
    },
    "tags": []
   },
   "outputs": [
    {
     "data": {
      "text/html": [
       "<div>\n",
       "<style scoped>\n",
       "    .dataframe tbody tr th:only-of-type {\n",
       "        vertical-align: middle;\n",
       "    }\n",
       "\n",
       "    .dataframe tbody tr th {\n",
       "        vertical-align: top;\n",
       "    }\n",
       "\n",
       "    .dataframe thead th {\n",
       "        text-align: right;\n",
       "    }\n",
       "</style>\n",
       "<table border=\"1\" class=\"dataframe\">\n",
       "  <thead>\n",
       "    <tr style=\"text-align: right;\">\n",
       "      <th></th>\n",
       "      <th>tenure</th>\n",
       "      <th>age</th>\n",
       "      <th>address</th>\n",
       "      <th>income</th>\n",
       "    </tr>\n",
       "  </thead>\n",
       "  <tbody>\n",
       "    <tr>\n",
       "      <th>0</th>\n",
       "      <td>13</td>\n",
       "      <td>44</td>\n",
       "      <td>9</td>\n",
       "      <td>64.0</td>\n",
       "    </tr>\n",
       "    <tr>\n",
       "      <th>1</th>\n",
       "      <td>11</td>\n",
       "      <td>33</td>\n",
       "      <td>7</td>\n",
       "      <td>136.0</td>\n",
       "    </tr>\n",
       "    <tr>\n",
       "      <th>2</th>\n",
       "      <td>68</td>\n",
       "      <td>52</td>\n",
       "      <td>24</td>\n",
       "      <td>116.0</td>\n",
       "    </tr>\n",
       "    <tr>\n",
       "      <th>3</th>\n",
       "      <td>33</td>\n",
       "      <td>33</td>\n",
       "      <td>12</td>\n",
       "      <td>33.0</td>\n",
       "    </tr>\n",
       "    <tr>\n",
       "      <th>4</th>\n",
       "      <td>23</td>\n",
       "      <td>30</td>\n",
       "      <td>9</td>\n",
       "      <td>30.0</td>\n",
       "    </tr>\n",
       "    <tr>\n",
       "      <th>...</th>\n",
       "      <td>...</td>\n",
       "      <td>...</td>\n",
       "      <td>...</td>\n",
       "      <td>...</td>\n",
       "    </tr>\n",
       "    <tr>\n",
       "      <th>995</th>\n",
       "      <td>10</td>\n",
       "      <td>39</td>\n",
       "      <td>0</td>\n",
       "      <td>27.0</td>\n",
       "    </tr>\n",
       "    <tr>\n",
       "      <th>996</th>\n",
       "      <td>7</td>\n",
       "      <td>34</td>\n",
       "      <td>2</td>\n",
       "      <td>22.0</td>\n",
       "    </tr>\n",
       "    <tr>\n",
       "      <th>997</th>\n",
       "      <td>67</td>\n",
       "      <td>59</td>\n",
       "      <td>40</td>\n",
       "      <td>944.0</td>\n",
       "    </tr>\n",
       "    <tr>\n",
       "      <th>998</th>\n",
       "      <td>70</td>\n",
       "      <td>49</td>\n",
       "      <td>18</td>\n",
       "      <td>87.0</td>\n",
       "    </tr>\n",
       "    <tr>\n",
       "      <th>999</th>\n",
       "      <td>50</td>\n",
       "      <td>36</td>\n",
       "      <td>7</td>\n",
       "      <td>39.0</td>\n",
       "    </tr>\n",
       "  </tbody>\n",
       "</table>\n",
       "<p>1000 rows × 4 columns</p>\n",
       "</div>"
      ],
      "text/plain": [
       "     tenure  age  address  income\n",
       "0        13   44        9    64.0\n",
       "1        11   33        7   136.0\n",
       "2        68   52       24   116.0\n",
       "3        33   33       12    33.0\n",
       "4        23   30        9    30.0\n",
       "..      ...  ...      ...     ...\n",
       "995      10   39        0    27.0\n",
       "996       7   34        2    22.0\n",
       "997      67   59       40   944.0\n",
       "998      70   49       18    87.0\n",
       "999      50   36        7    39.0\n",
       "\n",
       "[1000 rows x 4 columns]"
      ]
     },
     "execution_count": 15,
     "metadata": {},
     "output_type": "execute_result"
    }
   ],
   "source": [
    "scaled_variable"
   ]
  },
  {
   "cell_type": "code",
   "execution_count": 16,
   "id": "b599812b",
   "metadata": {
    "execution": {
     "iopub.execute_input": "2024-10-07T00:44:29.950817Z",
     "iopub.status.busy": "2024-10-07T00:44:29.950105Z",
     "iopub.status.idle": "2024-10-07T00:44:29.954146Z",
     "shell.execute_reply": "2024-10-07T00:44:29.953325Z"
    },
    "papermill": {
     "duration": 0.023084,
     "end_time": "2024-10-07T00:44:29.956129",
     "exception": false,
     "start_time": "2024-10-07T00:44:29.933045",
     "status": "completed"
    },
    "tags": []
   },
   "outputs": [],
   "source": [
    "scaler = StandardScaler()"
   ]
  },
  {
   "cell_type": "code",
   "execution_count": 17,
   "id": "8f87d2f2",
   "metadata": {
    "execution": {
     "iopub.execute_input": "2024-10-07T00:44:30.034317Z",
     "iopub.status.busy": "2024-10-07T00:44:30.033717Z",
     "iopub.status.idle": "2024-10-07T00:44:30.043651Z",
     "shell.execute_reply": "2024-10-07T00:44:30.042760Z"
    },
    "papermill": {
     "duration": 0.073165,
     "end_time": "2024-10-07T00:44:30.045633",
     "exception": false,
     "start_time": "2024-10-07T00:44:29.972468",
     "status": "completed"
    },
    "tags": []
   },
   "outputs": [
    {
     "data": {
      "text/html": [
       "<style>#sk-container-id-1 {color: black;background-color: white;}#sk-container-id-1 pre{padding: 0;}#sk-container-id-1 div.sk-toggleable {background-color: white;}#sk-container-id-1 label.sk-toggleable__label {cursor: pointer;display: block;width: 100%;margin-bottom: 0;padding: 0.3em;box-sizing: border-box;text-align: center;}#sk-container-id-1 label.sk-toggleable__label-arrow:before {content: \"▸\";float: left;margin-right: 0.25em;color: #696969;}#sk-container-id-1 label.sk-toggleable__label-arrow:hover:before {color: black;}#sk-container-id-1 div.sk-estimator:hover label.sk-toggleable__label-arrow:before {color: black;}#sk-container-id-1 div.sk-toggleable__content {max-height: 0;max-width: 0;overflow: hidden;text-align: left;background-color: #f0f8ff;}#sk-container-id-1 div.sk-toggleable__content pre {margin: 0.2em;color: black;border-radius: 0.25em;background-color: #f0f8ff;}#sk-container-id-1 input.sk-toggleable__control:checked~div.sk-toggleable__content {max-height: 200px;max-width: 100%;overflow: auto;}#sk-container-id-1 input.sk-toggleable__control:checked~label.sk-toggleable__label-arrow:before {content: \"▾\";}#sk-container-id-1 div.sk-estimator input.sk-toggleable__control:checked~label.sk-toggleable__label {background-color: #d4ebff;}#sk-container-id-1 div.sk-label input.sk-toggleable__control:checked~label.sk-toggleable__label {background-color: #d4ebff;}#sk-container-id-1 input.sk-hidden--visually {border: 0;clip: rect(1px 1px 1px 1px);clip: rect(1px, 1px, 1px, 1px);height: 1px;margin: -1px;overflow: hidden;padding: 0;position: absolute;width: 1px;}#sk-container-id-1 div.sk-estimator {font-family: monospace;background-color: #f0f8ff;border: 1px dotted black;border-radius: 0.25em;box-sizing: border-box;margin-bottom: 0.5em;}#sk-container-id-1 div.sk-estimator:hover {background-color: #d4ebff;}#sk-container-id-1 div.sk-parallel-item::after {content: \"\";width: 100%;border-bottom: 1px solid gray;flex-grow: 1;}#sk-container-id-1 div.sk-label:hover label.sk-toggleable__label {background-color: #d4ebff;}#sk-container-id-1 div.sk-serial::before {content: \"\";position: absolute;border-left: 1px solid gray;box-sizing: border-box;top: 0;bottom: 0;left: 50%;z-index: 0;}#sk-container-id-1 div.sk-serial {display: flex;flex-direction: column;align-items: center;background-color: white;padding-right: 0.2em;padding-left: 0.2em;position: relative;}#sk-container-id-1 div.sk-item {position: relative;z-index: 1;}#sk-container-id-1 div.sk-parallel {display: flex;align-items: stretch;justify-content: center;background-color: white;position: relative;}#sk-container-id-1 div.sk-item::before, #sk-container-id-1 div.sk-parallel-item::before {content: \"\";position: absolute;border-left: 1px solid gray;box-sizing: border-box;top: 0;bottom: 0;left: 50%;z-index: -1;}#sk-container-id-1 div.sk-parallel-item {display: flex;flex-direction: column;z-index: 1;position: relative;background-color: white;}#sk-container-id-1 div.sk-parallel-item:first-child::after {align-self: flex-end;width: 50%;}#sk-container-id-1 div.sk-parallel-item:last-child::after {align-self: flex-start;width: 50%;}#sk-container-id-1 div.sk-parallel-item:only-child::after {width: 0;}#sk-container-id-1 div.sk-dashed-wrapped {border: 1px dashed gray;margin: 0 0.4em 0.5em 0.4em;box-sizing: border-box;padding-bottom: 0.4em;background-color: white;}#sk-container-id-1 div.sk-label label {font-family: monospace;font-weight: bold;display: inline-block;line-height: 1.2em;}#sk-container-id-1 div.sk-label-container {text-align: center;}#sk-container-id-1 div.sk-container {/* jupyter's `normalize.less` sets `[hidden] { display: none; }` but bootstrap.min.css set `[hidden] { display: none !important; }` so we also need the `!important` here to be able to override the default hidden behavior on the sphinx rendered scikit-learn.org. See: https://github.com/scikit-learn/scikit-learn/issues/21755 */display: inline-block !important;position: relative;}#sk-container-id-1 div.sk-text-repr-fallback {display: none;}</style><div id=\"sk-container-id-1\" class=\"sk-top-container\"><div class=\"sk-text-repr-fallback\"><pre>StandardScaler()</pre><b>In a Jupyter environment, please rerun this cell to show the HTML representation or trust the notebook. <br />On GitHub, the HTML representation is unable to render, please try loading this page with nbviewer.org.</b></div><div class=\"sk-container\" hidden><div class=\"sk-item\"><div class=\"sk-estimator sk-toggleable\"><input class=\"sk-toggleable__control sk-hidden--visually\" id=\"sk-estimator-id-1\" type=\"checkbox\" checked><label for=\"sk-estimator-id-1\" class=\"sk-toggleable__label sk-toggleable__label-arrow\">StandardScaler</label><div class=\"sk-toggleable__content\"><pre>StandardScaler()</pre></div></div></div></div></div>"
      ],
      "text/plain": [
       "StandardScaler()"
      ]
     },
     "execution_count": 17,
     "metadata": {},
     "output_type": "execute_result"
    }
   ],
   "source": [
    "scaler.fit(scaled_variable)"
   ]
  },
  {
   "cell_type": "code",
   "execution_count": 18,
   "id": "c3ab3f90",
   "metadata": {
    "execution": {
     "iopub.execute_input": "2024-10-07T00:44:30.081125Z",
     "iopub.status.busy": "2024-10-07T00:44:30.080806Z",
     "iopub.status.idle": "2024-10-07T00:44:30.088414Z",
     "shell.execute_reply": "2024-10-07T00:44:30.087532Z"
    },
    "papermill": {
     "duration": 0.027185,
     "end_time": "2024-10-07T00:44:30.090274",
     "exception": false,
     "start_time": "2024-10-07T00:44:30.063089",
     "status": "completed"
    },
    "tags": []
   },
   "outputs": [],
   "source": [
    "scaled_variable = scaler.fit_transform(scaled_variable)"
   ]
  },
  {
   "cell_type": "code",
   "execution_count": 19,
   "id": "9b17926a",
   "metadata": {
    "execution": {
     "iopub.execute_input": "2024-10-07T00:44:30.125564Z",
     "iopub.status.busy": "2024-10-07T00:44:30.124918Z",
     "iopub.status.idle": "2024-10-07T00:44:30.128770Z",
     "shell.execute_reply": "2024-10-07T00:44:30.127944Z"
    },
    "papermill": {
     "duration": 0.023872,
     "end_time": "2024-10-07T00:44:30.130833",
     "exception": false,
     "start_time": "2024-10-07T00:44:30.106961",
     "status": "completed"
    },
    "tags": []
   },
   "outputs": [],
   "source": [
    "#scaled_variable.head()"
   ]
  },
  {
   "cell_type": "code",
   "execution_count": 20,
   "id": "9561dda9",
   "metadata": {
    "execution": {
     "iopub.execute_input": "2024-10-07T00:44:30.166212Z",
     "iopub.status.busy": "2024-10-07T00:44:30.165598Z",
     "iopub.status.idle": "2024-10-07T00:44:30.176395Z",
     "shell.execute_reply": "2024-10-07T00:44:30.175436Z"
    },
    "papermill": {
     "duration": 0.03103,
     "end_time": "2024-10-07T00:44:30.178462",
     "exception": false,
     "start_time": "2024-10-07T00:44:30.147432",
     "status": "completed"
    },
    "tags": []
   },
   "outputs": [
    {
     "data": {
      "text/html": [
       "<div>\n",
       "<style scoped>\n",
       "    .dataframe tbody tr th:only-of-type {\n",
       "        vertical-align: middle;\n",
       "    }\n",
       "\n",
       "    .dataframe tbody tr th {\n",
       "        vertical-align: top;\n",
       "    }\n",
       "\n",
       "    .dataframe thead th {\n",
       "        text-align: right;\n",
       "    }\n",
       "</style>\n",
       "<table border=\"1\" class=\"dataframe\">\n",
       "  <thead>\n",
       "    <tr style=\"text-align: right;\">\n",
       "      <th></th>\n",
       "      <th>tenure</th>\n",
       "      <th>age</th>\n",
       "      <th>address</th>\n",
       "      <th>income</th>\n",
       "    </tr>\n",
       "  </thead>\n",
       "  <tbody>\n",
       "    <tr>\n",
       "      <th>0</th>\n",
       "      <td>-1.055125</td>\n",
       "      <td>0.184505</td>\n",
       "      <td>-0.253034</td>\n",
       "      <td>-0.126506</td>\n",
       "    </tr>\n",
       "    <tr>\n",
       "      <th>1</th>\n",
       "      <td>-1.148806</td>\n",
       "      <td>-0.691812</td>\n",
       "      <td>-0.451415</td>\n",
       "      <td>0.546450</td>\n",
       "    </tr>\n",
       "    <tr>\n",
       "      <th>2</th>\n",
       "      <td>1.521092</td>\n",
       "      <td>0.821826</td>\n",
       "      <td>1.234819</td>\n",
       "      <td>0.359517</td>\n",
       "    </tr>\n",
       "    <tr>\n",
       "      <th>3</th>\n",
       "      <td>-0.118319</td>\n",
       "      <td>-0.691812</td>\n",
       "      <td>0.044536</td>\n",
       "      <td>-0.416251</td>\n",
       "    </tr>\n",
       "    <tr>\n",
       "      <th>4</th>\n",
       "      <td>-0.586722</td>\n",
       "      <td>-0.930808</td>\n",
       "      <td>-0.253034</td>\n",
       "      <td>-0.444291</td>\n",
       "    </tr>\n",
       "  </tbody>\n",
       "</table>\n",
       "</div>"
      ],
      "text/plain": [
       "     tenure       age   address    income\n",
       "0 -1.055125  0.184505 -0.253034 -0.126506\n",
       "1 -1.148806 -0.691812 -0.451415  0.546450\n",
       "2  1.521092  0.821826  1.234819  0.359517\n",
       "3 -0.118319 -0.691812  0.044536 -0.416251\n",
       "4 -0.586722 -0.930808 -0.253034 -0.444291"
      ]
     },
     "execution_count": 20,
     "metadata": {},
     "output_type": "execute_result"
    }
   ],
   "source": [
    "df_scaled = pd.DataFrame(scaled_variable, columns = [\"tenure\", \"age\", \"address\", \"income\"])\n",
    "df_scaled.head()"
   ]
  },
  {
   "cell_type": "code",
   "execution_count": 21,
   "id": "380fc756",
   "metadata": {
    "execution": {
     "iopub.execute_input": "2024-10-07T00:44:30.215623Z",
     "iopub.status.busy": "2024-10-07T00:44:30.215316Z",
     "iopub.status.idle": "2024-10-07T00:44:30.230657Z",
     "shell.execute_reply": "2024-10-07T00:44:30.229812Z"
    },
    "papermill": {
     "duration": 0.03549,
     "end_time": "2024-10-07T00:44:30.232881",
     "exception": false,
     "start_time": "2024-10-07T00:44:30.197391",
     "status": "completed"
    },
    "tags": []
   },
   "outputs": [
    {
     "data": {
      "text/html": [
       "<div>\n",
       "<style scoped>\n",
       "    .dataframe tbody tr th:only-of-type {\n",
       "        vertical-align: middle;\n",
       "    }\n",
       "\n",
       "    .dataframe tbody tr th {\n",
       "        vertical-align: top;\n",
       "    }\n",
       "\n",
       "    .dataframe thead th {\n",
       "        text-align: right;\n",
       "    }\n",
       "</style>\n",
       "<table border=\"1\" class=\"dataframe\">\n",
       "  <thead>\n",
       "    <tr style=\"text-align: right;\">\n",
       "      <th></th>\n",
       "      <th>tenure</th>\n",
       "      <th>age</th>\n",
       "      <th>marital</th>\n",
       "      <th>address</th>\n",
       "      <th>income</th>\n",
       "      <th>custcat</th>\n",
       "      <th>region_2</th>\n",
       "      <th>region_3</th>\n",
       "      <th>reside_2</th>\n",
       "      <th>reside_3</th>\n",
       "      <th>reside_4</th>\n",
       "      <th>reside_5</th>\n",
       "      <th>reside_6</th>\n",
       "      <th>reside_7</th>\n",
       "      <th>reside_8</th>\n",
       "    </tr>\n",
       "  </thead>\n",
       "  <tbody>\n",
       "    <tr>\n",
       "      <th>0</th>\n",
       "      <td>13</td>\n",
       "      <td>44</td>\n",
       "      <td>1</td>\n",
       "      <td>9</td>\n",
       "      <td>64.0</td>\n",
       "      <td>1</td>\n",
       "      <td>True</td>\n",
       "      <td>False</td>\n",
       "      <td>True</td>\n",
       "      <td>False</td>\n",
       "      <td>False</td>\n",
       "      <td>False</td>\n",
       "      <td>False</td>\n",
       "      <td>False</td>\n",
       "      <td>False</td>\n",
       "    </tr>\n",
       "    <tr>\n",
       "      <th>1</th>\n",
       "      <td>11</td>\n",
       "      <td>33</td>\n",
       "      <td>1</td>\n",
       "      <td>7</td>\n",
       "      <td>136.0</td>\n",
       "      <td>4</td>\n",
       "      <td>False</td>\n",
       "      <td>True</td>\n",
       "      <td>False</td>\n",
       "      <td>False</td>\n",
       "      <td>False</td>\n",
       "      <td>False</td>\n",
       "      <td>True</td>\n",
       "      <td>False</td>\n",
       "      <td>False</td>\n",
       "    </tr>\n",
       "    <tr>\n",
       "      <th>2</th>\n",
       "      <td>68</td>\n",
       "      <td>52</td>\n",
       "      <td>1</td>\n",
       "      <td>24</td>\n",
       "      <td>116.0</td>\n",
       "      <td>3</td>\n",
       "      <td>False</td>\n",
       "      <td>True</td>\n",
       "      <td>True</td>\n",
       "      <td>False</td>\n",
       "      <td>False</td>\n",
       "      <td>False</td>\n",
       "      <td>False</td>\n",
       "      <td>False</td>\n",
       "      <td>False</td>\n",
       "    </tr>\n",
       "    <tr>\n",
       "      <th>3</th>\n",
       "      <td>33</td>\n",
       "      <td>33</td>\n",
       "      <td>0</td>\n",
       "      <td>12</td>\n",
       "      <td>33.0</td>\n",
       "      <td>1</td>\n",
       "      <td>True</td>\n",
       "      <td>False</td>\n",
       "      <td>False</td>\n",
       "      <td>False</td>\n",
       "      <td>False</td>\n",
       "      <td>False</td>\n",
       "      <td>False</td>\n",
       "      <td>False</td>\n",
       "      <td>False</td>\n",
       "    </tr>\n",
       "    <tr>\n",
       "      <th>4</th>\n",
       "      <td>23</td>\n",
       "      <td>30</td>\n",
       "      <td>1</td>\n",
       "      <td>9</td>\n",
       "      <td>30.0</td>\n",
       "      <td>3</td>\n",
       "      <td>True</td>\n",
       "      <td>False</td>\n",
       "      <td>False</td>\n",
       "      <td>False</td>\n",
       "      <td>True</td>\n",
       "      <td>False</td>\n",
       "      <td>False</td>\n",
       "      <td>False</td>\n",
       "      <td>False</td>\n",
       "    </tr>\n",
       "  </tbody>\n",
       "</table>\n",
       "</div>"
      ],
      "text/plain": [
       "   tenure  age  marital  address  income  custcat  region_2  region_3  \\\n",
       "0      13   44        1        9    64.0        1      True     False   \n",
       "1      11   33        1        7   136.0        4     False      True   \n",
       "2      68   52        1       24   116.0        3     False      True   \n",
       "3      33   33        0       12    33.0        1      True     False   \n",
       "4      23   30        1        9    30.0        3      True     False   \n",
       "\n",
       "   reside_2  reside_3  reside_4  reside_5  reside_6  reside_7  reside_8  \n",
       "0      True     False     False     False     False     False     False  \n",
       "1     False     False     False     False      True     False     False  \n",
       "2      True     False     False     False     False     False     False  \n",
       "3     False     False     False     False     False     False     False  \n",
       "4     False     False      True     False     False     False     False  "
      ]
     },
     "execution_count": 21,
     "metadata": {},
     "output_type": "execute_result"
    }
   ],
   "source": [
    "df.head()"
   ]
  },
  {
   "cell_type": "code",
   "execution_count": 22,
   "id": "5f095f50",
   "metadata": {
    "execution": {
     "iopub.execute_input": "2024-10-07T00:44:30.270032Z",
     "iopub.status.busy": "2024-10-07T00:44:30.269147Z",
     "iopub.status.idle": "2024-10-07T00:44:30.275435Z",
     "shell.execute_reply": "2024-10-07T00:44:30.274297Z"
    },
    "papermill": {
     "duration": 0.027213,
     "end_time": "2024-10-07T00:44:30.277619",
     "exception": false,
     "start_time": "2024-10-07T00:44:30.250406",
     "status": "completed"
    },
    "tags": []
   },
   "outputs": [],
   "source": [
    "df.drop([\"tenure\", \"age\", \"address\", \"income\"], axis = 1, inplace = True)"
   ]
  },
  {
   "cell_type": "code",
   "execution_count": 23,
   "id": "ac1b5218",
   "metadata": {
    "execution": {
     "iopub.execute_input": "2024-10-07T00:44:30.325631Z",
     "iopub.status.busy": "2024-10-07T00:44:30.325033Z",
     "iopub.status.idle": "2024-10-07T00:44:30.330331Z",
     "shell.execute_reply": "2024-10-07T00:44:30.329538Z"
    },
    "papermill": {
     "duration": 0.031801,
     "end_time": "2024-10-07T00:44:30.332300",
     "exception": false,
     "start_time": "2024-10-07T00:44:30.300499",
     "status": "completed"
    },
    "tags": []
   },
   "outputs": [],
   "source": [
    "df = pd.concat([df, df_scaled], axis = 1)"
   ]
  },
  {
   "cell_type": "code",
   "execution_count": 24,
   "id": "c9d47d40",
   "metadata": {
    "execution": {
     "iopub.execute_input": "2024-10-07T00:44:30.367946Z",
     "iopub.status.busy": "2024-10-07T00:44:30.367658Z",
     "iopub.status.idle": "2024-10-07T00:44:30.383738Z",
     "shell.execute_reply": "2024-10-07T00:44:30.382873Z"
    },
    "papermill": {
     "duration": 0.036062,
     "end_time": "2024-10-07T00:44:30.385669",
     "exception": false,
     "start_time": "2024-10-07T00:44:30.349607",
     "status": "completed"
    },
    "tags": []
   },
   "outputs": [
    {
     "data": {
      "text/html": [
       "<div>\n",
       "<style scoped>\n",
       "    .dataframe tbody tr th:only-of-type {\n",
       "        vertical-align: middle;\n",
       "    }\n",
       "\n",
       "    .dataframe tbody tr th {\n",
       "        vertical-align: top;\n",
       "    }\n",
       "\n",
       "    .dataframe thead th {\n",
       "        text-align: right;\n",
       "    }\n",
       "</style>\n",
       "<table border=\"1\" class=\"dataframe\">\n",
       "  <thead>\n",
       "    <tr style=\"text-align: right;\">\n",
       "      <th></th>\n",
       "      <th>marital</th>\n",
       "      <th>custcat</th>\n",
       "      <th>region_2</th>\n",
       "      <th>region_3</th>\n",
       "      <th>reside_2</th>\n",
       "      <th>reside_3</th>\n",
       "      <th>reside_4</th>\n",
       "      <th>reside_5</th>\n",
       "      <th>reside_6</th>\n",
       "      <th>reside_7</th>\n",
       "      <th>reside_8</th>\n",
       "      <th>tenure</th>\n",
       "      <th>age</th>\n",
       "      <th>address</th>\n",
       "      <th>income</th>\n",
       "    </tr>\n",
       "  </thead>\n",
       "  <tbody>\n",
       "    <tr>\n",
       "      <th>0</th>\n",
       "      <td>1</td>\n",
       "      <td>1</td>\n",
       "      <td>True</td>\n",
       "      <td>False</td>\n",
       "      <td>True</td>\n",
       "      <td>False</td>\n",
       "      <td>False</td>\n",
       "      <td>False</td>\n",
       "      <td>False</td>\n",
       "      <td>False</td>\n",
       "      <td>False</td>\n",
       "      <td>-1.055125</td>\n",
       "      <td>0.184505</td>\n",
       "      <td>-0.253034</td>\n",
       "      <td>-0.126506</td>\n",
       "    </tr>\n",
       "    <tr>\n",
       "      <th>1</th>\n",
       "      <td>1</td>\n",
       "      <td>4</td>\n",
       "      <td>False</td>\n",
       "      <td>True</td>\n",
       "      <td>False</td>\n",
       "      <td>False</td>\n",
       "      <td>False</td>\n",
       "      <td>False</td>\n",
       "      <td>True</td>\n",
       "      <td>False</td>\n",
       "      <td>False</td>\n",
       "      <td>-1.148806</td>\n",
       "      <td>-0.691812</td>\n",
       "      <td>-0.451415</td>\n",
       "      <td>0.546450</td>\n",
       "    </tr>\n",
       "    <tr>\n",
       "      <th>2</th>\n",
       "      <td>1</td>\n",
       "      <td>3</td>\n",
       "      <td>False</td>\n",
       "      <td>True</td>\n",
       "      <td>True</td>\n",
       "      <td>False</td>\n",
       "      <td>False</td>\n",
       "      <td>False</td>\n",
       "      <td>False</td>\n",
       "      <td>False</td>\n",
       "      <td>False</td>\n",
       "      <td>1.521092</td>\n",
       "      <td>0.821826</td>\n",
       "      <td>1.234819</td>\n",
       "      <td>0.359517</td>\n",
       "    </tr>\n",
       "    <tr>\n",
       "      <th>3</th>\n",
       "      <td>0</td>\n",
       "      <td>1</td>\n",
       "      <td>True</td>\n",
       "      <td>False</td>\n",
       "      <td>False</td>\n",
       "      <td>False</td>\n",
       "      <td>False</td>\n",
       "      <td>False</td>\n",
       "      <td>False</td>\n",
       "      <td>False</td>\n",
       "      <td>False</td>\n",
       "      <td>-0.118319</td>\n",
       "      <td>-0.691812</td>\n",
       "      <td>0.044536</td>\n",
       "      <td>-0.416251</td>\n",
       "    </tr>\n",
       "    <tr>\n",
       "      <th>4</th>\n",
       "      <td>1</td>\n",
       "      <td>3</td>\n",
       "      <td>True</td>\n",
       "      <td>False</td>\n",
       "      <td>False</td>\n",
       "      <td>False</td>\n",
       "      <td>True</td>\n",
       "      <td>False</td>\n",
       "      <td>False</td>\n",
       "      <td>False</td>\n",
       "      <td>False</td>\n",
       "      <td>-0.586722</td>\n",
       "      <td>-0.930808</td>\n",
       "      <td>-0.253034</td>\n",
       "      <td>-0.444291</td>\n",
       "    </tr>\n",
       "  </tbody>\n",
       "</table>\n",
       "</div>"
      ],
      "text/plain": [
       "   marital  custcat  region_2  region_3  reside_2  reside_3  reside_4  \\\n",
       "0        1        1      True     False      True     False     False   \n",
       "1        1        4     False      True     False     False     False   \n",
       "2        1        3     False      True      True     False     False   \n",
       "3        0        1      True     False     False     False     False   \n",
       "4        1        3      True     False     False     False      True   \n",
       "\n",
       "   reside_5  reside_6  reside_7  reside_8    tenure       age   address  \\\n",
       "0     False     False     False     False -1.055125  0.184505 -0.253034   \n",
       "1     False      True     False     False -1.148806 -0.691812 -0.451415   \n",
       "2     False     False     False     False  1.521092  0.821826  1.234819   \n",
       "3     False     False     False     False -0.118319 -0.691812  0.044536   \n",
       "4     False     False     False     False -0.586722 -0.930808 -0.253034   \n",
       "\n",
       "     income  \n",
       "0 -0.126506  \n",
       "1  0.546450  \n",
       "2  0.359517  \n",
       "3 -0.416251  \n",
       "4 -0.444291  "
      ]
     },
     "execution_count": 24,
     "metadata": {},
     "output_type": "execute_result"
    }
   ],
   "source": [
    "df.head()"
   ]
  },
  {
   "cell_type": "markdown",
   "id": "21c91af0",
   "metadata": {
    "papermill": {
     "duration": 0.01925,
     "end_time": "2024-10-07T00:44:30.426848",
     "exception": false,
     "start_time": "2024-10-07T00:44:30.407598",
     "status": "completed"
    },
    "tags": []
   },
   "source": [
    "# **KNN Modelling**"
   ]
  },
  {
   "cell_type": "code",
   "execution_count": 25,
   "id": "851383b1",
   "metadata": {
    "execution": {
     "iopub.execute_input": "2024-10-07T00:44:30.478623Z",
     "iopub.status.busy": "2024-10-07T00:44:30.478066Z",
     "iopub.status.idle": "2024-10-07T00:44:30.483885Z",
     "shell.execute_reply": "2024-10-07T00:44:30.483042Z"
    },
    "papermill": {
     "duration": 0.036525,
     "end_time": "2024-10-07T00:44:30.487906",
     "exception": false,
     "start_time": "2024-10-07T00:44:30.451381",
     "status": "completed"
    },
    "tags": []
   },
   "outputs": [],
   "source": [
    "X = df.drop([\"custcat\"], axis = 1)\n",
    "y = df[\"custcat\"]"
   ]
  },
  {
   "cell_type": "code",
   "execution_count": 26,
   "id": "f8ca9856",
   "metadata": {
    "execution": {
     "iopub.execute_input": "2024-10-07T00:44:30.531567Z",
     "iopub.status.busy": "2024-10-07T00:44:30.530911Z",
     "iopub.status.idle": "2024-10-07T00:44:30.627605Z",
     "shell.execute_reply": "2024-10-07T00:44:30.626805Z"
    },
    "papermill": {
     "duration": 0.118782,
     "end_time": "2024-10-07T00:44:30.629981",
     "exception": false,
     "start_time": "2024-10-07T00:44:30.511199",
     "status": "completed"
    },
    "tags": []
   },
   "outputs": [],
   "source": [
    "from sklearn.model_selection import train_test_split\n",
    "X_train, X_test, y_train, y_test = train_test_split(X, y, test_size = 0.2, random_state = 42)"
   ]
  },
  {
   "cell_type": "code",
   "execution_count": 27,
   "id": "ffde5128",
   "metadata": {
    "execution": {
     "iopub.execute_input": "2024-10-07T00:44:30.668343Z",
     "iopub.status.busy": "2024-10-07T00:44:30.667567Z",
     "iopub.status.idle": "2024-10-07T00:44:30.672466Z",
     "shell.execute_reply": "2024-10-07T00:44:30.671621Z"
    },
    "papermill": {
     "duration": 0.026221,
     "end_time": "2024-10-07T00:44:30.674953",
     "exception": false,
     "start_time": "2024-10-07T00:44:30.648732",
     "status": "completed"
    },
    "tags": []
   },
   "outputs": [
    {
     "name": "stdout",
     "output_type": "stream",
     "text": [
      "Train set: (800, 14) (800,)\n",
      "Test set: (200, 14) (200,)\n"
     ]
    }
   ],
   "source": [
    "print(\"Train set:\", X_train.shape, y_train.shape)\n",
    "print(\"Test set:\", X_test.shape, y_test.shape)"
   ]
  },
  {
   "cell_type": "code",
   "execution_count": 28,
   "id": "96a00720",
   "metadata": {
    "execution": {
     "iopub.execute_input": "2024-10-07T00:44:30.715296Z",
     "iopub.status.busy": "2024-10-07T00:44:30.714505Z",
     "iopub.status.idle": "2024-10-07T00:44:30.851013Z",
     "shell.execute_reply": "2024-10-07T00:44:30.850077Z"
    },
    "papermill": {
     "duration": 0.160776,
     "end_time": "2024-10-07T00:44:30.853506",
     "exception": false,
     "start_time": "2024-10-07T00:44:30.692730",
     "status": "completed"
    },
    "tags": []
   },
   "outputs": [],
   "source": [
    "from sklearn.neighbors import KNeighborsClassifier"
   ]
  },
  {
   "cell_type": "code",
   "execution_count": 29,
   "id": "3ae0bd3e",
   "metadata": {
    "execution": {
     "iopub.execute_input": "2024-10-07T00:44:30.890729Z",
     "iopub.status.busy": "2024-10-07T00:44:30.889957Z",
     "iopub.status.idle": "2024-10-07T00:44:30.900946Z",
     "shell.execute_reply": "2024-10-07T00:44:30.900057Z"
    },
    "papermill": {
     "duration": 0.031528,
     "end_time": "2024-10-07T00:44:30.902939",
     "exception": false,
     "start_time": "2024-10-07T00:44:30.871411",
     "status": "completed"
    },
    "tags": []
   },
   "outputs": [
    {
     "data": {
      "text/html": [
       "<style>#sk-container-id-2 {color: black;background-color: white;}#sk-container-id-2 pre{padding: 0;}#sk-container-id-2 div.sk-toggleable {background-color: white;}#sk-container-id-2 label.sk-toggleable__label {cursor: pointer;display: block;width: 100%;margin-bottom: 0;padding: 0.3em;box-sizing: border-box;text-align: center;}#sk-container-id-2 label.sk-toggleable__label-arrow:before {content: \"▸\";float: left;margin-right: 0.25em;color: #696969;}#sk-container-id-2 label.sk-toggleable__label-arrow:hover:before {color: black;}#sk-container-id-2 div.sk-estimator:hover label.sk-toggleable__label-arrow:before {color: black;}#sk-container-id-2 div.sk-toggleable__content {max-height: 0;max-width: 0;overflow: hidden;text-align: left;background-color: #f0f8ff;}#sk-container-id-2 div.sk-toggleable__content pre {margin: 0.2em;color: black;border-radius: 0.25em;background-color: #f0f8ff;}#sk-container-id-2 input.sk-toggleable__control:checked~div.sk-toggleable__content {max-height: 200px;max-width: 100%;overflow: auto;}#sk-container-id-2 input.sk-toggleable__control:checked~label.sk-toggleable__label-arrow:before {content: \"▾\";}#sk-container-id-2 div.sk-estimator input.sk-toggleable__control:checked~label.sk-toggleable__label {background-color: #d4ebff;}#sk-container-id-2 div.sk-label input.sk-toggleable__control:checked~label.sk-toggleable__label {background-color: #d4ebff;}#sk-container-id-2 input.sk-hidden--visually {border: 0;clip: rect(1px 1px 1px 1px);clip: rect(1px, 1px, 1px, 1px);height: 1px;margin: -1px;overflow: hidden;padding: 0;position: absolute;width: 1px;}#sk-container-id-2 div.sk-estimator {font-family: monospace;background-color: #f0f8ff;border: 1px dotted black;border-radius: 0.25em;box-sizing: border-box;margin-bottom: 0.5em;}#sk-container-id-2 div.sk-estimator:hover {background-color: #d4ebff;}#sk-container-id-2 div.sk-parallel-item::after {content: \"\";width: 100%;border-bottom: 1px solid gray;flex-grow: 1;}#sk-container-id-2 div.sk-label:hover label.sk-toggleable__label {background-color: #d4ebff;}#sk-container-id-2 div.sk-serial::before {content: \"\";position: absolute;border-left: 1px solid gray;box-sizing: border-box;top: 0;bottom: 0;left: 50%;z-index: 0;}#sk-container-id-2 div.sk-serial {display: flex;flex-direction: column;align-items: center;background-color: white;padding-right: 0.2em;padding-left: 0.2em;position: relative;}#sk-container-id-2 div.sk-item {position: relative;z-index: 1;}#sk-container-id-2 div.sk-parallel {display: flex;align-items: stretch;justify-content: center;background-color: white;position: relative;}#sk-container-id-2 div.sk-item::before, #sk-container-id-2 div.sk-parallel-item::before {content: \"\";position: absolute;border-left: 1px solid gray;box-sizing: border-box;top: 0;bottom: 0;left: 50%;z-index: -1;}#sk-container-id-2 div.sk-parallel-item {display: flex;flex-direction: column;z-index: 1;position: relative;background-color: white;}#sk-container-id-2 div.sk-parallel-item:first-child::after {align-self: flex-end;width: 50%;}#sk-container-id-2 div.sk-parallel-item:last-child::after {align-self: flex-start;width: 50%;}#sk-container-id-2 div.sk-parallel-item:only-child::after {width: 0;}#sk-container-id-2 div.sk-dashed-wrapped {border: 1px dashed gray;margin: 0 0.4em 0.5em 0.4em;box-sizing: border-box;padding-bottom: 0.4em;background-color: white;}#sk-container-id-2 div.sk-label label {font-family: monospace;font-weight: bold;display: inline-block;line-height: 1.2em;}#sk-container-id-2 div.sk-label-container {text-align: center;}#sk-container-id-2 div.sk-container {/* jupyter's `normalize.less` sets `[hidden] { display: none; }` but bootstrap.min.css set `[hidden] { display: none !important; }` so we also need the `!important` here to be able to override the default hidden behavior on the sphinx rendered scikit-learn.org. See: https://github.com/scikit-learn/scikit-learn/issues/21755 */display: inline-block !important;position: relative;}#sk-container-id-2 div.sk-text-repr-fallback {display: none;}</style><div id=\"sk-container-id-2\" class=\"sk-top-container\"><div class=\"sk-text-repr-fallback\"><pre>KNeighborsClassifier(n_neighbors=4)</pre><b>In a Jupyter environment, please rerun this cell to show the HTML representation or trust the notebook. <br />On GitHub, the HTML representation is unable to render, please try loading this page with nbviewer.org.</b></div><div class=\"sk-container\" hidden><div class=\"sk-item\"><div class=\"sk-estimator sk-toggleable\"><input class=\"sk-toggleable__control sk-hidden--visually\" id=\"sk-estimator-id-2\" type=\"checkbox\" checked><label for=\"sk-estimator-id-2\" class=\"sk-toggleable__label sk-toggleable__label-arrow\">KNeighborsClassifier</label><div class=\"sk-toggleable__content\"><pre>KNeighborsClassifier(n_neighbors=4)</pre></div></div></div></div></div>"
      ],
      "text/plain": [
       "KNeighborsClassifier(n_neighbors=4)"
      ]
     },
     "execution_count": 29,
     "metadata": {},
     "output_type": "execute_result"
    }
   ],
   "source": [
    "k = 4\n",
    "knn_model = KNeighborsClassifier(n_neighbors = k)\n",
    "knn_model.fit(X_train, y_train)\n",
    "knn_model"
   ]
  },
  {
   "cell_type": "code",
   "execution_count": 30,
   "id": "f26c7541",
   "metadata": {
    "execution": {
     "iopub.execute_input": "2024-10-07T00:44:30.940363Z",
     "iopub.status.busy": "2024-10-07T00:44:30.939626Z",
     "iopub.status.idle": "2024-10-07T00:44:30.960357Z",
     "shell.execute_reply": "2024-10-07T00:44:30.959322Z"
    },
    "papermill": {
     "duration": 0.041649,
     "end_time": "2024-10-07T00:44:30.962300",
     "exception": false,
     "start_time": "2024-10-07T00:44:30.920651",
     "status": "completed"
    },
    "tags": []
   },
   "outputs": [],
   "source": [
    "y_pred = knn_model.predict(X_test)"
   ]
  },
  {
   "cell_type": "code",
   "execution_count": 31,
   "id": "f20bfa9e",
   "metadata": {
    "execution": {
     "iopub.execute_input": "2024-10-07T00:44:31.000350Z",
     "iopub.status.busy": "2024-10-07T00:44:30.999598Z",
     "iopub.status.idle": "2024-10-07T00:44:31.005499Z",
     "shell.execute_reply": "2024-10-07T00:44:31.004647Z"
    },
    "papermill": {
     "duration": 0.027049,
     "end_time": "2024-10-07T00:44:31.007786",
     "exception": false,
     "start_time": "2024-10-07T00:44:30.980737",
     "status": "completed"
    },
    "tags": []
   },
   "outputs": [
    {
     "name": "stdout",
     "output_type": "stream",
     "text": [
      "Accuracy score: 0.325\n"
     ]
    }
   ],
   "source": [
    "from sklearn import metrics\n",
    "print(\"Accuracy score:\", metrics.accuracy_score(y_test, y_pred))"
   ]
  },
  {
   "cell_type": "code",
   "execution_count": 32,
   "id": "cf692548",
   "metadata": {
    "execution": {
     "iopub.execute_input": "2024-10-07T00:44:31.045083Z",
     "iopub.status.busy": "2024-10-07T00:44:31.044384Z",
     "iopub.status.idle": "2024-10-07T00:44:31.054987Z",
     "shell.execute_reply": "2024-10-07T00:44:31.054074Z"
    },
    "papermill": {
     "duration": 0.031702,
     "end_time": "2024-10-07T00:44:31.057120",
     "exception": false,
     "start_time": "2024-10-07T00:44:31.025418",
     "status": "completed"
    },
    "tags": []
   },
   "outputs": [
    {
     "data": {
      "text/html": [
       "<style>#sk-container-id-3 {color: black;background-color: white;}#sk-container-id-3 pre{padding: 0;}#sk-container-id-3 div.sk-toggleable {background-color: white;}#sk-container-id-3 label.sk-toggleable__label {cursor: pointer;display: block;width: 100%;margin-bottom: 0;padding: 0.3em;box-sizing: border-box;text-align: center;}#sk-container-id-3 label.sk-toggleable__label-arrow:before {content: \"▸\";float: left;margin-right: 0.25em;color: #696969;}#sk-container-id-3 label.sk-toggleable__label-arrow:hover:before {color: black;}#sk-container-id-3 div.sk-estimator:hover label.sk-toggleable__label-arrow:before {color: black;}#sk-container-id-3 div.sk-toggleable__content {max-height: 0;max-width: 0;overflow: hidden;text-align: left;background-color: #f0f8ff;}#sk-container-id-3 div.sk-toggleable__content pre {margin: 0.2em;color: black;border-radius: 0.25em;background-color: #f0f8ff;}#sk-container-id-3 input.sk-toggleable__control:checked~div.sk-toggleable__content {max-height: 200px;max-width: 100%;overflow: auto;}#sk-container-id-3 input.sk-toggleable__control:checked~label.sk-toggleable__label-arrow:before {content: \"▾\";}#sk-container-id-3 div.sk-estimator input.sk-toggleable__control:checked~label.sk-toggleable__label {background-color: #d4ebff;}#sk-container-id-3 div.sk-label input.sk-toggleable__control:checked~label.sk-toggleable__label {background-color: #d4ebff;}#sk-container-id-3 input.sk-hidden--visually {border: 0;clip: rect(1px 1px 1px 1px);clip: rect(1px, 1px, 1px, 1px);height: 1px;margin: -1px;overflow: hidden;padding: 0;position: absolute;width: 1px;}#sk-container-id-3 div.sk-estimator {font-family: monospace;background-color: #f0f8ff;border: 1px dotted black;border-radius: 0.25em;box-sizing: border-box;margin-bottom: 0.5em;}#sk-container-id-3 div.sk-estimator:hover {background-color: #d4ebff;}#sk-container-id-3 div.sk-parallel-item::after {content: \"\";width: 100%;border-bottom: 1px solid gray;flex-grow: 1;}#sk-container-id-3 div.sk-label:hover label.sk-toggleable__label {background-color: #d4ebff;}#sk-container-id-3 div.sk-serial::before {content: \"\";position: absolute;border-left: 1px solid gray;box-sizing: border-box;top: 0;bottom: 0;left: 50%;z-index: 0;}#sk-container-id-3 div.sk-serial {display: flex;flex-direction: column;align-items: center;background-color: white;padding-right: 0.2em;padding-left: 0.2em;position: relative;}#sk-container-id-3 div.sk-item {position: relative;z-index: 1;}#sk-container-id-3 div.sk-parallel {display: flex;align-items: stretch;justify-content: center;background-color: white;position: relative;}#sk-container-id-3 div.sk-item::before, #sk-container-id-3 div.sk-parallel-item::before {content: \"\";position: absolute;border-left: 1px solid gray;box-sizing: border-box;top: 0;bottom: 0;left: 50%;z-index: -1;}#sk-container-id-3 div.sk-parallel-item {display: flex;flex-direction: column;z-index: 1;position: relative;background-color: white;}#sk-container-id-3 div.sk-parallel-item:first-child::after {align-self: flex-end;width: 50%;}#sk-container-id-3 div.sk-parallel-item:last-child::after {align-self: flex-start;width: 50%;}#sk-container-id-3 div.sk-parallel-item:only-child::after {width: 0;}#sk-container-id-3 div.sk-dashed-wrapped {border: 1px dashed gray;margin: 0 0.4em 0.5em 0.4em;box-sizing: border-box;padding-bottom: 0.4em;background-color: white;}#sk-container-id-3 div.sk-label label {font-family: monospace;font-weight: bold;display: inline-block;line-height: 1.2em;}#sk-container-id-3 div.sk-label-container {text-align: center;}#sk-container-id-3 div.sk-container {/* jupyter's `normalize.less` sets `[hidden] { display: none; }` but bootstrap.min.css set `[hidden] { display: none !important; }` so we also need the `!important` here to be able to override the default hidden behavior on the sphinx rendered scikit-learn.org. See: https://github.com/scikit-learn/scikit-learn/issues/21755 */display: inline-block !important;position: relative;}#sk-container-id-3 div.sk-text-repr-fallback {display: none;}</style><div id=\"sk-container-id-3\" class=\"sk-top-container\"><div class=\"sk-text-repr-fallback\"><pre>KNeighborsClassifier(n_neighbors=6)</pre><b>In a Jupyter environment, please rerun this cell to show the HTML representation or trust the notebook. <br />On GitHub, the HTML representation is unable to render, please try loading this page with nbviewer.org.</b></div><div class=\"sk-container\" hidden><div class=\"sk-item\"><div class=\"sk-estimator sk-toggleable\"><input class=\"sk-toggleable__control sk-hidden--visually\" id=\"sk-estimator-id-3\" type=\"checkbox\" checked><label for=\"sk-estimator-id-3\" class=\"sk-toggleable__label sk-toggleable__label-arrow\">KNeighborsClassifier</label><div class=\"sk-toggleable__content\"><pre>KNeighborsClassifier(n_neighbors=6)</pre></div></div></div></div></div>"
      ],
      "text/plain": [
       "KNeighborsClassifier(n_neighbors=6)"
      ]
     },
     "execution_count": 32,
     "metadata": {},
     "output_type": "execute_result"
    }
   ],
   "source": [
    "k = 6\n",
    "knn_model2 = KNeighborsClassifier(n_neighbors = k)\n",
    "knn_model2.fit(X_train, y_train)\n",
    "knn_model2"
   ]
  },
  {
   "cell_type": "code",
   "execution_count": 33,
   "id": "8cf1f34b",
   "metadata": {
    "execution": {
     "iopub.execute_input": "2024-10-07T00:44:31.095617Z",
     "iopub.status.busy": "2024-10-07T00:44:31.095003Z",
     "iopub.status.idle": "2024-10-07T00:44:31.114968Z",
     "shell.execute_reply": "2024-10-07T00:44:31.114108Z"
    },
    "papermill": {
     "duration": 0.040753,
     "end_time": "2024-10-07T00:44:31.116993",
     "exception": false,
     "start_time": "2024-10-07T00:44:31.076240",
     "status": "completed"
    },
    "tags": []
   },
   "outputs": [],
   "source": [
    "y_pred = knn_model2.predict(X_test)"
   ]
  },
  {
   "cell_type": "code",
   "execution_count": 34,
   "id": "5cb4f94a",
   "metadata": {
    "execution": {
     "iopub.execute_input": "2024-10-07T00:44:31.154845Z",
     "iopub.status.busy": "2024-10-07T00:44:31.154517Z",
     "iopub.status.idle": "2024-10-07T00:44:31.160350Z",
     "shell.execute_reply": "2024-10-07T00:44:31.159378Z"
    },
    "papermill": {
     "duration": 0.027316,
     "end_time": "2024-10-07T00:44:31.162573",
     "exception": false,
     "start_time": "2024-10-07T00:44:31.135257",
     "status": "completed"
    },
    "tags": []
   },
   "outputs": [
    {
     "name": "stdout",
     "output_type": "stream",
     "text": [
      "Accuracy score: 0.335\n"
     ]
    }
   ],
   "source": [
    "print(\"Accuracy score:\", metrics.accuracy_score(y_test, y_pred))"
   ]
  },
  {
   "cell_type": "code",
   "execution_count": 35,
   "id": "f53ab26d",
   "metadata": {
    "execution": {
     "iopub.execute_input": "2024-10-07T00:44:31.200144Z",
     "iopub.status.busy": "2024-10-07T00:44:31.199842Z",
     "iopub.status.idle": "2024-10-07T00:44:31.224866Z",
     "shell.execute_reply": "2024-10-07T00:44:31.223940Z"
    },
    "papermill": {
     "duration": 0.046323,
     "end_time": "2024-10-07T00:44:31.226808",
     "exception": false,
     "start_time": "2024-10-07T00:44:31.180485",
     "status": "completed"
    },
    "tags": []
   },
   "outputs": [
    {
     "name": "stdout",
     "output_type": "stream",
     "text": [
      "Accuracy score: 0.35\n"
     ]
    }
   ],
   "source": [
    "k = 12\n",
    "knn_model3 = KNeighborsClassifier(n_neighbors = k)\n",
    "knn_model3.fit(X_train, y_train)\n",
    "knn_model3\n",
    "\n",
    "y_pred = knn_model3.predict(X_test)\n",
    "\n",
    "print(\"Accuracy score:\", metrics.accuracy_score(y_test, y_pred))"
   ]
  },
  {
   "cell_type": "code",
   "execution_count": 36,
   "id": "c3abeabb",
   "metadata": {
    "execution": {
     "iopub.execute_input": "2024-10-07T00:44:31.264597Z",
     "iopub.status.busy": "2024-10-07T00:44:31.264006Z",
     "iopub.status.idle": "2024-10-07T00:44:31.292528Z",
     "shell.execute_reply": "2024-10-07T00:44:31.291551Z"
    },
    "papermill": {
     "duration": 0.049849,
     "end_time": "2024-10-07T00:44:31.294770",
     "exception": false,
     "start_time": "2024-10-07T00:44:31.244921",
     "status": "completed"
    },
    "tags": []
   },
   "outputs": [
    {
     "name": "stdout",
     "output_type": "stream",
     "text": [
      "Accuracy score: 0.375\n"
     ]
    }
   ],
   "source": [
    "k = 72\n",
    "knn_model4 = KNeighborsClassifier(n_neighbors = k)\n",
    "knn_model4.fit(X_train, y_train)\n",
    "knn_model4\n",
    "\n",
    "y_pred = knn_model4.predict(X_test)\n",
    "\n",
    "print(\"Accuracy score:\", metrics.accuracy_score(y_test, y_pred))"
   ]
  },
  {
   "cell_type": "markdown",
   "id": "1ab6da35",
   "metadata": {
    "papermill": {
     "duration": 0.019198,
     "end_time": "2024-10-07T00:44:31.332747",
     "exception": false,
     "start_time": "2024-10-07T00:44:31.313549",
     "status": "completed"
    },
    "tags": []
   },
   "source": [
    "# **Hyperparameter Optimization**"
   ]
  },
  {
   "cell_type": "code",
   "execution_count": 37,
   "id": "a8828e40",
   "metadata": {
    "execution": {
     "iopub.execute_input": "2024-10-07T00:44:31.370931Z",
     "iopub.status.busy": "2024-10-07T00:44:31.370171Z",
     "iopub.status.idle": "2024-10-07T00:44:31.374466Z",
     "shell.execute_reply": "2024-10-07T00:44:31.373596Z"
    },
    "papermill": {
     "duration": 0.025467,
     "end_time": "2024-10-07T00:44:31.376329",
     "exception": false,
     "start_time": "2024-10-07T00:44:31.350862",
     "status": "completed"
    },
    "tags": []
   },
   "outputs": [],
   "source": [
    "from sklearn.model_selection import GridSearchCV"
   ]
  },
  {
   "cell_type": "code",
   "execution_count": 38,
   "id": "3a0e6a59",
   "metadata": {
    "execution": {
     "iopub.execute_input": "2024-10-07T00:44:31.414221Z",
     "iopub.status.busy": "2024-10-07T00:44:31.413555Z",
     "iopub.status.idle": "2024-10-07T00:44:31.417489Z",
     "shell.execute_reply": "2024-10-07T00:44:31.416636Z"
    },
    "papermill": {
     "duration": 0.02491,
     "end_time": "2024-10-07T00:44:31.419369",
     "exception": false,
     "start_time": "2024-10-07T00:44:31.394459",
     "status": "completed"
    },
    "tags": []
   },
   "outputs": [],
   "source": [
    "knn_model5 = KNeighborsClassifier()"
   ]
  },
  {
   "cell_type": "code",
   "execution_count": 39,
   "id": "baefb0da",
   "metadata": {
    "execution": {
     "iopub.execute_input": "2024-10-07T00:44:31.457037Z",
     "iopub.status.busy": "2024-10-07T00:44:31.456518Z",
     "iopub.status.idle": "2024-10-07T00:44:31.460528Z",
     "shell.execute_reply": "2024-10-07T00:44:31.459649Z"
    },
    "papermill": {
     "duration": 0.02501,
     "end_time": "2024-10-07T00:44:31.462387",
     "exception": false,
     "start_time": "2024-10-07T00:44:31.437377",
     "status": "completed"
    },
    "tags": []
   },
   "outputs": [],
   "source": [
    "knn_model5 = KNeighborsClassifier()"
   ]
  },
  {
   "cell_type": "code",
   "execution_count": 40,
   "id": "56599198",
   "metadata": {
    "execution": {
     "iopub.execute_input": "2024-10-07T00:44:31.500325Z",
     "iopub.status.busy": "2024-10-07T00:44:31.499762Z",
     "iopub.status.idle": "2024-10-07T00:44:31.504070Z",
     "shell.execute_reply": "2024-10-07T00:44:31.503295Z"
    },
    "papermill": {
     "duration": 0.025355,
     "end_time": "2024-10-07T00:44:31.506007",
     "exception": false,
     "start_time": "2024-10-07T00:44:31.480652",
     "status": "completed"
    },
    "tags": []
   },
   "outputs": [],
   "source": [
    "knn_params = {\"n_neighbors\" : np.arange(1,50),\n",
    "             \"metric\" : [\"ninkowski\", \"euclidean\", \"manhattan\"],\n",
    "             \"weights\": [\"uniform\", \"distance\"]}"
   ]
  },
  {
   "cell_type": "code",
   "execution_count": 41,
   "id": "acf993f6",
   "metadata": {
    "execution": {
     "iopub.execute_input": "2024-10-07T00:44:31.543986Z",
     "iopub.status.busy": "2024-10-07T00:44:31.543689Z",
     "iopub.status.idle": "2024-10-07T00:44:31.547803Z",
     "shell.execute_reply": "2024-10-07T00:44:31.546955Z"
    },
    "papermill": {
     "duration": 0.024842,
     "end_time": "2024-10-07T00:44:31.549718",
     "exception": false,
     "start_time": "2024-10-07T00:44:31.524876",
     "status": "completed"
    },
    "tags": []
   },
   "outputs": [],
   "source": [
    "knn_cv_model = GridSearchCV(estimator = knn_model5, param_grid = knn_params, cv = 10)"
   ]
  },
  {
   "cell_type": "code",
   "execution_count": 42,
   "id": "f71e403b",
   "metadata": {
    "execution": {
     "iopub.execute_input": "2024-10-07T00:44:31.587386Z",
     "iopub.status.busy": "2024-10-07T00:44:31.586807Z",
     "iopub.status.idle": "2024-10-07T00:44:51.605723Z",
     "shell.execute_reply": "2024-10-07T00:44:51.604788Z"
    },
    "papermill": {
     "duration": 20.040001,
     "end_time": "2024-10-07T00:44:51.607825",
     "exception": false,
     "start_time": "2024-10-07T00:44:31.567824",
     "status": "completed"
    },
    "tags": []
   },
   "outputs": [
    {
     "data": {
      "text/html": [
       "<style>#sk-container-id-4 {color: black;background-color: white;}#sk-container-id-4 pre{padding: 0;}#sk-container-id-4 div.sk-toggleable {background-color: white;}#sk-container-id-4 label.sk-toggleable__label {cursor: pointer;display: block;width: 100%;margin-bottom: 0;padding: 0.3em;box-sizing: border-box;text-align: center;}#sk-container-id-4 label.sk-toggleable__label-arrow:before {content: \"▸\";float: left;margin-right: 0.25em;color: #696969;}#sk-container-id-4 label.sk-toggleable__label-arrow:hover:before {color: black;}#sk-container-id-4 div.sk-estimator:hover label.sk-toggleable__label-arrow:before {color: black;}#sk-container-id-4 div.sk-toggleable__content {max-height: 0;max-width: 0;overflow: hidden;text-align: left;background-color: #f0f8ff;}#sk-container-id-4 div.sk-toggleable__content pre {margin: 0.2em;color: black;border-radius: 0.25em;background-color: #f0f8ff;}#sk-container-id-4 input.sk-toggleable__control:checked~div.sk-toggleable__content {max-height: 200px;max-width: 100%;overflow: auto;}#sk-container-id-4 input.sk-toggleable__control:checked~label.sk-toggleable__label-arrow:before {content: \"▾\";}#sk-container-id-4 div.sk-estimator input.sk-toggleable__control:checked~label.sk-toggleable__label {background-color: #d4ebff;}#sk-container-id-4 div.sk-label input.sk-toggleable__control:checked~label.sk-toggleable__label {background-color: #d4ebff;}#sk-container-id-4 input.sk-hidden--visually {border: 0;clip: rect(1px 1px 1px 1px);clip: rect(1px, 1px, 1px, 1px);height: 1px;margin: -1px;overflow: hidden;padding: 0;position: absolute;width: 1px;}#sk-container-id-4 div.sk-estimator {font-family: monospace;background-color: #f0f8ff;border: 1px dotted black;border-radius: 0.25em;box-sizing: border-box;margin-bottom: 0.5em;}#sk-container-id-4 div.sk-estimator:hover {background-color: #d4ebff;}#sk-container-id-4 div.sk-parallel-item::after {content: \"\";width: 100%;border-bottom: 1px solid gray;flex-grow: 1;}#sk-container-id-4 div.sk-label:hover label.sk-toggleable__label {background-color: #d4ebff;}#sk-container-id-4 div.sk-serial::before {content: \"\";position: absolute;border-left: 1px solid gray;box-sizing: border-box;top: 0;bottom: 0;left: 50%;z-index: 0;}#sk-container-id-4 div.sk-serial {display: flex;flex-direction: column;align-items: center;background-color: white;padding-right: 0.2em;padding-left: 0.2em;position: relative;}#sk-container-id-4 div.sk-item {position: relative;z-index: 1;}#sk-container-id-4 div.sk-parallel {display: flex;align-items: stretch;justify-content: center;background-color: white;position: relative;}#sk-container-id-4 div.sk-item::before, #sk-container-id-4 div.sk-parallel-item::before {content: \"\";position: absolute;border-left: 1px solid gray;box-sizing: border-box;top: 0;bottom: 0;left: 50%;z-index: -1;}#sk-container-id-4 div.sk-parallel-item {display: flex;flex-direction: column;z-index: 1;position: relative;background-color: white;}#sk-container-id-4 div.sk-parallel-item:first-child::after {align-self: flex-end;width: 50%;}#sk-container-id-4 div.sk-parallel-item:last-child::after {align-self: flex-start;width: 50%;}#sk-container-id-4 div.sk-parallel-item:only-child::after {width: 0;}#sk-container-id-4 div.sk-dashed-wrapped {border: 1px dashed gray;margin: 0 0.4em 0.5em 0.4em;box-sizing: border-box;padding-bottom: 0.4em;background-color: white;}#sk-container-id-4 div.sk-label label {font-family: monospace;font-weight: bold;display: inline-block;line-height: 1.2em;}#sk-container-id-4 div.sk-label-container {text-align: center;}#sk-container-id-4 div.sk-container {/* jupyter's `normalize.less` sets `[hidden] { display: none; }` but bootstrap.min.css set `[hidden] { display: none !important; }` so we also need the `!important` here to be able to override the default hidden behavior on the sphinx rendered scikit-learn.org. See: https://github.com/scikit-learn/scikit-learn/issues/21755 */display: inline-block !important;position: relative;}#sk-container-id-4 div.sk-text-repr-fallback {display: none;}</style><div id=\"sk-container-id-4\" class=\"sk-top-container\"><div class=\"sk-text-repr-fallback\"><pre>GridSearchCV(cv=10, estimator=KNeighborsClassifier(),\n",
       "             param_grid={&#x27;metric&#x27;: [&#x27;ninkowski&#x27;, &#x27;euclidean&#x27;, &#x27;manhattan&#x27;],\n",
       "                         &#x27;n_neighbors&#x27;: array([ 1,  2,  3,  4,  5,  6,  7,  8,  9, 10, 11, 12, 13, 14, 15, 16, 17,\n",
       "       18, 19, 20, 21, 22, 23, 24, 25, 26, 27, 28, 29, 30, 31, 32, 33, 34,\n",
       "       35, 36, 37, 38, 39, 40, 41, 42, 43, 44, 45, 46, 47, 48, 49]),\n",
       "                         &#x27;weights&#x27;: [&#x27;uniform&#x27;, &#x27;distance&#x27;]})</pre><b>In a Jupyter environment, please rerun this cell to show the HTML representation or trust the notebook. <br />On GitHub, the HTML representation is unable to render, please try loading this page with nbviewer.org.</b></div><div class=\"sk-container\" hidden><div class=\"sk-item sk-dashed-wrapped\"><div class=\"sk-label-container\"><div class=\"sk-label sk-toggleable\"><input class=\"sk-toggleable__control sk-hidden--visually\" id=\"sk-estimator-id-4\" type=\"checkbox\" ><label for=\"sk-estimator-id-4\" class=\"sk-toggleable__label sk-toggleable__label-arrow\">GridSearchCV</label><div class=\"sk-toggleable__content\"><pre>GridSearchCV(cv=10, estimator=KNeighborsClassifier(),\n",
       "             param_grid={&#x27;metric&#x27;: [&#x27;ninkowski&#x27;, &#x27;euclidean&#x27;, &#x27;manhattan&#x27;],\n",
       "                         &#x27;n_neighbors&#x27;: array([ 1,  2,  3,  4,  5,  6,  7,  8,  9, 10, 11, 12, 13, 14, 15, 16, 17,\n",
       "       18, 19, 20, 21, 22, 23, 24, 25, 26, 27, 28, 29, 30, 31, 32, 33, 34,\n",
       "       35, 36, 37, 38, 39, 40, 41, 42, 43, 44, 45, 46, 47, 48, 49]),\n",
       "                         &#x27;weights&#x27;: [&#x27;uniform&#x27;, &#x27;distance&#x27;]})</pre></div></div></div><div class=\"sk-parallel\"><div class=\"sk-parallel-item\"><div class=\"sk-item\"><div class=\"sk-label-container\"><div class=\"sk-label sk-toggleable\"><input class=\"sk-toggleable__control sk-hidden--visually\" id=\"sk-estimator-id-5\" type=\"checkbox\" ><label for=\"sk-estimator-id-5\" class=\"sk-toggleable__label sk-toggleable__label-arrow\">estimator: KNeighborsClassifier</label><div class=\"sk-toggleable__content\"><pre>KNeighborsClassifier()</pre></div></div></div><div class=\"sk-serial\"><div class=\"sk-item\"><div class=\"sk-estimator sk-toggleable\"><input class=\"sk-toggleable__control sk-hidden--visually\" id=\"sk-estimator-id-6\" type=\"checkbox\" ><label for=\"sk-estimator-id-6\" class=\"sk-toggleable__label sk-toggleable__label-arrow\">KNeighborsClassifier</label><div class=\"sk-toggleable__content\"><pre>KNeighborsClassifier()</pre></div></div></div></div></div></div></div></div></div></div>"
      ],
      "text/plain": [
       "GridSearchCV(cv=10, estimator=KNeighborsClassifier(),\n",
       "             param_grid={'metric': ['ninkowski', 'euclidean', 'manhattan'],\n",
       "                         'n_neighbors': array([ 1,  2,  3,  4,  5,  6,  7,  8,  9, 10, 11, 12, 13, 14, 15, 16, 17,\n",
       "       18, 19, 20, 21, 22, 23, 24, 25, 26, 27, 28, 29, 30, 31, 32, 33, 34,\n",
       "       35, 36, 37, 38, 39, 40, 41, 42, 43, 44, 45, 46, 47, 48, 49]),\n",
       "                         'weights': ['uniform', 'distance']})"
      ]
     },
     "execution_count": 42,
     "metadata": {},
     "output_type": "execute_result"
    }
   ],
   "source": [
    "knn_cv_model.fit(X_train, y_train)"
   ]
  },
  {
   "cell_type": "code",
   "execution_count": 43,
   "id": "05897dab",
   "metadata": {
    "execution": {
     "iopub.execute_input": "2024-10-07T00:44:51.646166Z",
     "iopub.status.busy": "2024-10-07T00:44:51.645898Z",
     "iopub.status.idle": "2024-10-07T00:44:51.651487Z",
     "shell.execute_reply": "2024-10-07T00:44:51.650579Z"
    },
    "papermill": {
     "duration": 0.026614,
     "end_time": "2024-10-07T00:44:51.653398",
     "exception": false,
     "start_time": "2024-10-07T00:44:51.626784",
     "status": "completed"
    },
    "tags": []
   },
   "outputs": [
    {
     "data": {
      "text/plain": [
       "{'metric': 'euclidean', 'n_neighbors': 15, 'weights': 'uniform'}"
      ]
     },
     "execution_count": 43,
     "metadata": {},
     "output_type": "execute_result"
    }
   ],
   "source": [
    "knn_cv_model.best_params_"
   ]
  },
  {
   "cell_type": "code",
   "execution_count": 44,
   "id": "3634794d",
   "metadata": {
    "execution": {
     "iopub.execute_input": "2024-10-07T00:44:51.690913Z",
     "iopub.status.busy": "2024-10-07T00:44:51.690673Z",
     "iopub.status.idle": "2024-10-07T00:44:51.694364Z",
     "shell.execute_reply": "2024-10-07T00:44:51.693567Z"
    },
    "papermill": {
     "duration": 0.024871,
     "end_time": "2024-10-07T00:44:51.696382",
     "exception": false,
     "start_time": "2024-10-07T00:44:51.671511",
     "status": "completed"
    },
    "tags": []
   },
   "outputs": [],
   "source": [
    "knn_tuned = KNeighborsClassifier(n_neighbors = 15)"
   ]
  },
  {
   "cell_type": "code",
   "execution_count": 45,
   "id": "79335b3e",
   "metadata": {
    "execution": {
     "iopub.execute_input": "2024-10-07T00:44:51.734149Z",
     "iopub.status.busy": "2024-10-07T00:44:51.733909Z",
     "iopub.status.idle": "2024-10-07T00:44:51.742966Z",
     "shell.execute_reply": "2024-10-07T00:44:51.742131Z"
    },
    "papermill": {
     "duration": 0.029991,
     "end_time": "2024-10-07T00:44:51.744863",
     "exception": false,
     "start_time": "2024-10-07T00:44:51.714872",
     "status": "completed"
    },
    "tags": []
   },
   "outputs": [
    {
     "data": {
      "text/html": [
       "<style>#sk-container-id-5 {color: black;background-color: white;}#sk-container-id-5 pre{padding: 0;}#sk-container-id-5 div.sk-toggleable {background-color: white;}#sk-container-id-5 label.sk-toggleable__label {cursor: pointer;display: block;width: 100%;margin-bottom: 0;padding: 0.3em;box-sizing: border-box;text-align: center;}#sk-container-id-5 label.sk-toggleable__label-arrow:before {content: \"▸\";float: left;margin-right: 0.25em;color: #696969;}#sk-container-id-5 label.sk-toggleable__label-arrow:hover:before {color: black;}#sk-container-id-5 div.sk-estimator:hover label.sk-toggleable__label-arrow:before {color: black;}#sk-container-id-5 div.sk-toggleable__content {max-height: 0;max-width: 0;overflow: hidden;text-align: left;background-color: #f0f8ff;}#sk-container-id-5 div.sk-toggleable__content pre {margin: 0.2em;color: black;border-radius: 0.25em;background-color: #f0f8ff;}#sk-container-id-5 input.sk-toggleable__control:checked~div.sk-toggleable__content {max-height: 200px;max-width: 100%;overflow: auto;}#sk-container-id-5 input.sk-toggleable__control:checked~label.sk-toggleable__label-arrow:before {content: \"▾\";}#sk-container-id-5 div.sk-estimator input.sk-toggleable__control:checked~label.sk-toggleable__label {background-color: #d4ebff;}#sk-container-id-5 div.sk-label input.sk-toggleable__control:checked~label.sk-toggleable__label {background-color: #d4ebff;}#sk-container-id-5 input.sk-hidden--visually {border: 0;clip: rect(1px 1px 1px 1px);clip: rect(1px, 1px, 1px, 1px);height: 1px;margin: -1px;overflow: hidden;padding: 0;position: absolute;width: 1px;}#sk-container-id-5 div.sk-estimator {font-family: monospace;background-color: #f0f8ff;border: 1px dotted black;border-radius: 0.25em;box-sizing: border-box;margin-bottom: 0.5em;}#sk-container-id-5 div.sk-estimator:hover {background-color: #d4ebff;}#sk-container-id-5 div.sk-parallel-item::after {content: \"\";width: 100%;border-bottom: 1px solid gray;flex-grow: 1;}#sk-container-id-5 div.sk-label:hover label.sk-toggleable__label {background-color: #d4ebff;}#sk-container-id-5 div.sk-serial::before {content: \"\";position: absolute;border-left: 1px solid gray;box-sizing: border-box;top: 0;bottom: 0;left: 50%;z-index: 0;}#sk-container-id-5 div.sk-serial {display: flex;flex-direction: column;align-items: center;background-color: white;padding-right: 0.2em;padding-left: 0.2em;position: relative;}#sk-container-id-5 div.sk-item {position: relative;z-index: 1;}#sk-container-id-5 div.sk-parallel {display: flex;align-items: stretch;justify-content: center;background-color: white;position: relative;}#sk-container-id-5 div.sk-item::before, #sk-container-id-5 div.sk-parallel-item::before {content: \"\";position: absolute;border-left: 1px solid gray;box-sizing: border-box;top: 0;bottom: 0;left: 50%;z-index: -1;}#sk-container-id-5 div.sk-parallel-item {display: flex;flex-direction: column;z-index: 1;position: relative;background-color: white;}#sk-container-id-5 div.sk-parallel-item:first-child::after {align-self: flex-end;width: 50%;}#sk-container-id-5 div.sk-parallel-item:last-child::after {align-self: flex-start;width: 50%;}#sk-container-id-5 div.sk-parallel-item:only-child::after {width: 0;}#sk-container-id-5 div.sk-dashed-wrapped {border: 1px dashed gray;margin: 0 0.4em 0.5em 0.4em;box-sizing: border-box;padding-bottom: 0.4em;background-color: white;}#sk-container-id-5 div.sk-label label {font-family: monospace;font-weight: bold;display: inline-block;line-height: 1.2em;}#sk-container-id-5 div.sk-label-container {text-align: center;}#sk-container-id-5 div.sk-container {/* jupyter's `normalize.less` sets `[hidden] { display: none; }` but bootstrap.min.css set `[hidden] { display: none !important; }` so we also need the `!important` here to be able to override the default hidden behavior on the sphinx rendered scikit-learn.org. See: https://github.com/scikit-learn/scikit-learn/issues/21755 */display: inline-block !important;position: relative;}#sk-container-id-5 div.sk-text-repr-fallback {display: none;}</style><div id=\"sk-container-id-5\" class=\"sk-top-container\"><div class=\"sk-text-repr-fallback\"><pre>KNeighborsClassifier(n_neighbors=15)</pre><b>In a Jupyter environment, please rerun this cell to show the HTML representation or trust the notebook. <br />On GitHub, the HTML representation is unable to render, please try loading this page with nbviewer.org.</b></div><div class=\"sk-container\" hidden><div class=\"sk-item\"><div class=\"sk-estimator sk-toggleable\"><input class=\"sk-toggleable__control sk-hidden--visually\" id=\"sk-estimator-id-7\" type=\"checkbox\" checked><label for=\"sk-estimator-id-7\" class=\"sk-toggleable__label sk-toggleable__label-arrow\">KNeighborsClassifier</label><div class=\"sk-toggleable__content\"><pre>KNeighborsClassifier(n_neighbors=15)</pre></div></div></div></div></div>"
      ],
      "text/plain": [
       "KNeighborsClassifier(n_neighbors=15)"
      ]
     },
     "execution_count": 45,
     "metadata": {},
     "output_type": "execute_result"
    }
   ],
   "source": [
    "knn_tuned.fit(X_train, y_train)"
   ]
  },
  {
   "cell_type": "code",
   "execution_count": 46,
   "id": "4d8f7382",
   "metadata": {
    "execution": {
     "iopub.execute_input": "2024-10-07T00:44:51.782840Z",
     "iopub.status.busy": "2024-10-07T00:44:51.782552Z",
     "iopub.status.idle": "2024-10-07T00:44:51.802459Z",
     "shell.execute_reply": "2024-10-07T00:44:51.801760Z"
    },
    "papermill": {
     "duration": 0.0411,
     "end_time": "2024-10-07T00:44:51.804359",
     "exception": false,
     "start_time": "2024-10-07T00:44:51.763259",
     "status": "completed"
    },
    "tags": []
   },
   "outputs": [],
   "source": [
    "y_pred = knn_tuned.predict(X_test)"
   ]
  },
  {
   "cell_type": "code",
   "execution_count": 47,
   "id": "a818dc4b",
   "metadata": {
    "execution": {
     "iopub.execute_input": "2024-10-07T00:44:51.842215Z",
     "iopub.status.busy": "2024-10-07T00:44:51.841920Z",
     "iopub.status.idle": "2024-10-07T00:44:51.847205Z",
     "shell.execute_reply": "2024-10-07T00:44:51.846418Z"
    },
    "papermill": {
     "duration": 0.026402,
     "end_time": "2024-10-07T00:44:51.849259",
     "exception": false,
     "start_time": "2024-10-07T00:44:51.822857",
     "status": "completed"
    },
    "tags": []
   },
   "outputs": [
    {
     "name": "stdout",
     "output_type": "stream",
     "text": [
      "Accuracy score: 0.35\n"
     ]
    }
   ],
   "source": [
    "print(\"Accuracy score:\", metrics.accuracy_score(y_test, y_pred))"
   ]
  }
 ],
 "metadata": {
  "kaggle": {
   "accelerator": "none",
   "dataSources": [
    {
     "datasetId": 5249131,
     "sourceId": 8742605,
     "sourceType": "datasetVersion"
    },
    {
     "sourceId": 52038264,
     "sourceType": "kernelVersion"
    }
   ],
   "dockerImageVersionId": 30732,
   "isGpuEnabled": false,
   "isInternetEnabled": true,
   "language": "python",
   "sourceType": "notebook"
  },
  "kernelspec": {
   "display_name": "Python 3",
   "language": "python",
   "name": "python3"
  },
  "language_info": {
   "codemirror_mode": {
    "name": "ipython",
    "version": 3
   },
   "file_extension": ".py",
   "mimetype": "text/x-python",
   "name": "python",
   "nbconvert_exporter": "python",
   "pygments_lexer": "ipython3",
   "version": "3.10.13"
  },
  "papermill": {
   "default_parameters": {},
   "duration": 28.807095,
   "end_time": "2024-10-07T00:44:52.286165",
   "environment_variables": {},
   "exception": null,
   "input_path": "__notebook__.ipynb",
   "output_path": "__notebook__.ipynb",
   "parameters": {},
   "start_time": "2024-10-07T00:44:23.479070",
   "version": "2.5.0"
  }
 },
 "nbformat": 4,
 "nbformat_minor": 5
}
