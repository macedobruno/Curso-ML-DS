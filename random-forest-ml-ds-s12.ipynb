{
 "cells": [
  {
   "cell_type": "code",
   "execution_count": 1,
   "id": "32ee31b8",
   "metadata": {
    "execution": {
     "iopub.execute_input": "2024-10-07T00:47:35.182800Z",
     "iopub.status.busy": "2024-10-07T00:47:35.182471Z",
     "iopub.status.idle": "2024-10-07T00:47:35.926583Z",
     "shell.execute_reply": "2024-10-07T00:47:35.925776Z"
    },
    "papermill": {
     "duration": 0.750017,
     "end_time": "2024-10-07T00:47:35.928806",
     "exception": false,
     "start_time": "2024-10-07T00:47:35.178789",
     "status": "completed"
    },
    "tags": []
   },
   "outputs": [],
   "source": [
    "# This Python 3 environment comes with many helpful analytics libraries installed\n",
    "# It is defined by the kaggle/python Docker image: https://github.com/kaggle/docker-python\n",
    "# For example, here's several helpful packages to load\n",
    "\n",
    "import numpy as np # linear algebra\n",
    "import pandas as pd # data processing, CSV file I/O (e.g. pd.read_csv)\n",
    "\n",
    "# Input data files are available in the read-only \"../input/\" directory\n",
    "# For example, running this (by clicking run or pressing Shift+Enter) will list all files under the input directory\n",
    "\n",
    "import os\n",
    "for dirname, _, filenames in os.walk('/kaggle/input'):\n",
    "    for filename in filenames:\n",
    "        print(os.path.join(dirname, filename))\n",
    "\n",
    "# You can write up to 20GB to the current directory (/kaggle/working/) that gets preserved as output when you create a version using \"Save & Run All\" \n",
    "# You can also write temporary files to /kaggle/temp/, but they won't be saved outside of the current session"
   ]
  },
  {
   "cell_type": "markdown",
   "id": "753c8353",
   "metadata": {
    "papermill": {
     "duration": 0.001737,
     "end_time": "2024-10-07T00:47:35.932707",
     "exception": false,
     "start_time": "2024-10-07T00:47:35.930970",
     "status": "completed"
    },
    "tags": []
   },
   "source": [
    "# Hiperparametros\n",
    "**Estimator**\n",
    "\n",
    "> Número de árvores que o algorítmo cria antes de calcular a média das previsões.\n",
    ">\n",
    "> Provavelmente o mais importante hiper parametro. \n",
    "> > Em geral uma árvore mais alta melhora o desempenho\n",
    "> >\n",
    "> > Mais estável e com menor custo computacional\n",
    "\n",
    "\n",
    "**Max_features**\n",
    "\n",
    "> Número máximo de tentativas que o algorítmo pode tentar em uma única árvore\n",
    ">\n",
    "> Número máximo de recursos\n",
    "\n",
    "**Min_sample_leaf**\n",
    "\n",
    "> Determina o número mínimo de folhas necessárias para splitar um nó interno\n",
    "\n",
    "\n",
    "\n",
    "\n",
    "\n",
    "# Vantagens/Desvantagens\n",
    "**Vantagens**\n",
    "\n",
    "> Pode ser usada tanto com Regressão (Linear Regression e Logistic Regression) quanto com classification tasks\n",
    ">\n",
    "> Considerado um algorítmo útil e fácil de usar por normalmente dar ótimos resultados com os hiperparametros default\n",
    ">\n",
    "> Poucos hiperparametros e fáceis de entender\n",
    "\n",
    "\n",
    "\n",
    "**Desvantagens**\n",
    "\n",
    "> Alguns casos podem ter resultar em lentidão e ser ineficiente em tempo real\n",
    "> \n",
    "> Pode ser treinado rapidamente mas pode dar resultados muito lentos depois de treinado\n",
    ">\n",
    "> Rápido suficiente para a maioria das aplicações, mas se a execução em tempo real for crucial, é melhor utilizar outras abordagens"
   ]
  },
  {
   "cell_type": "code",
   "execution_count": null,
   "id": "b4d37bf2",
   "metadata": {
    "papermill": {
     "duration": 0.001386,
     "end_time": "2024-10-07T00:47:35.935787",
     "exception": false,
     "start_time": "2024-10-07T00:47:35.934401",
     "status": "completed"
    },
    "tags": []
   },
   "outputs": [],
   "source": []
  }
 ],
 "metadata": {
  "kaggle": {
   "accelerator": "none",
   "dataSources": [],
   "dockerImageVersionId": 30732,
   "isGpuEnabled": false,
   "isInternetEnabled": true,
   "language": "python",
   "sourceType": "notebook"
  },
  "kernelspec": {
   "display_name": "Python 3",
   "language": "python",
   "name": "python3"
  },
  "language_info": {
   "codemirror_mode": {
    "name": "ipython",
    "version": 3
   },
   "file_extension": ".py",
   "mimetype": "text/x-python",
   "name": "python",
   "nbconvert_exporter": "python",
   "pygments_lexer": "ipython3",
   "version": "3.10.13"
  },
  "papermill": {
   "default_parameters": {},
   "duration": 3.896303,
   "end_time": "2024-10-07T00:47:36.254930",
   "environment_variables": {},
   "exception": null,
   "input_path": "__notebook__.ipynb",
   "output_path": "__notebook__.ipynb",
   "parameters": {},
   "start_time": "2024-10-07T00:47:32.358627",
   "version": "2.5.0"
  }
 },
 "nbformat": 4,
 "nbformat_minor": 5
}
