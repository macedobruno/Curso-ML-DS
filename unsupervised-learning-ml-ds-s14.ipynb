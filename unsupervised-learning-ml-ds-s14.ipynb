{
 "cells": [
  {
   "cell_type": "code",
   "execution_count": 1,
   "id": "23fd9f18",
   "metadata": {
    "execution": {
     "iopub.execute_input": "2024-10-07T00:47:12.158586Z",
     "iopub.status.busy": "2024-10-07T00:47:12.157719Z",
     "iopub.status.idle": "2024-10-07T00:47:12.804198Z",
     "shell.execute_reply": "2024-10-07T00:47:12.803346Z"
    },
    "jupyter": {
     "source_hidden": true
    },
    "papermill": {
     "duration": 0.655394,
     "end_time": "2024-10-07T00:47:12.806421",
     "exception": false,
     "start_time": "2024-10-07T00:47:12.151027",
     "status": "completed"
    },
    "tags": []
   },
   "outputs": [
    {
     "name": "stdout",
     "output_type": "stream",
     "text": [
      "/kaggle/input/arrests/Arrests.csv\n"
     ]
    }
   ],
   "source": [
    "# This Python 3 environment comes with many helpful analytics libraries installed\n",
    "# It is defined by the kaggle/python Docker image: https://github.com/kaggle/docker-python\n",
    "# For example, here's several helpful packages to load\n",
    "\n",
    "import numpy as np # linear algebra\n",
    "import pandas as pd # data processing, CSV file I/O (e.g. pd.read_csv)\n",
    "\n",
    "# Input data files are available in the read-only \"../input/\" directory\n",
    "# For example, running this (by clicking run or pressing Shift+Enter) will list all files under the input directory\n",
    "\n",
    "import os\n",
    "for dirname, _, filenames in os.walk('/kaggle/input'):\n",
    "    for filename in filenames:\n",
    "        print(os.path.join(dirname, filename))\n",
    "\n",
    "# You can write up to 20GB to the current directory (/kaggle/working/) that gets preserved as output when you create a version using \"Save & Run All\" \n",
    "# You can also write temporary files to /kaggle/temp/, but they won't be saved outside of the current session"
   ]
  },
  {
   "cell_type": "markdown",
   "id": "2fb3e373",
   "metadata": {
    "papermill": {
     "duration": 0.004217,
     "end_time": "2024-10-07T00:47:12.815830",
     "exception": false,
     "start_time": "2024-10-07T00:47:12.811613",
     "status": "completed"
    },
    "tags": []
   },
   "source": [
    "# **Unsupervised Learning**\n",
    "\n",
    "**Custering**\n",
    "\n",
    "> Técnica de mineração de dados para agrupar dados não identificados por similaridade ou diferença\n",
    "\n",
    "**Association**\n",
    "\n",
    "> Usa regras diferentes para encontrar relação entre variáveis em qualquer dataset fornecido\n",
    ">\n",
    "> Frequentemente usado em análise de compra e mecanismos de recomendação, por isso também é chamado de sistema de recomendação\n",
    "> > \"Clientes que compraram isso geralmente compram esse...\"\n",
    "\n",
    "**Dimensionality Reduction**\n",
    "\n",
    "> Técnica usada quando o número de funcionalidade ou dimensões do dataset é muito alto\n",
    "> > Reduz o número de entradas para o tamanho gerenciável mantendo a integridade dos dados\n",
    "\n",
    "\n",
    "**Supervised Learning (Aprendizado Supervisionado) é ideal para:**\n",
    "* Detecção de spam\n",
    "* Análise de sentimento\n",
    "* Previsão do tempo\n",
    "* Previsão de preços\n",
    "\n",
    "\n",
    "\n",
    "**Unsupervised Learning (Aprendizado Não Supervisionado) é ideal para:**\n",
    "* Mecanismo de recomendação\n",
    "* Personalidade de cliente\n",
    "* Imagens médica"
   ]
  },
  {
   "cell_type": "markdown",
   "id": "99b35d3e",
   "metadata": {
    "papermill": {
     "duration": 0.004253,
     "end_time": "2024-10-07T00:47:12.824297",
     "exception": false,
     "start_time": "2024-10-07T00:47:12.820044",
     "status": "completed"
    },
    "tags": []
   },
   "source": [
    "# **K-Means Clustering**\n",
    "\n",
    "* Determina o número de grupos e usa esse valor como parametro\n",
    " * Os valores de um grupo devem ser o mais similares\n",
    " * Os valores não devem ser totalmente iguais\n",
    " \n",
    "\n",
    "**Passos para entendimento**\n",
    "\n",
    "1. Determinar o centro do agrupamento\n",
    "2. Classificar amostras fora do centro de acordo com a distância\n",
    "3. Determinar o novo centro (mudar do centro antigo para o novo) de acordo com a classificação\n",
    "4. Repete os passos 2 e 3 até ser estável\n",
    "\n",
    "* Esse método determina o valor de K\n",
    " * A soma do quadrado da distancia dos pontos até o centro do grupo é calculada de acordo com cada valor de K\n",
    "\n",
    "\n",
    "**Muito usado em...**\n",
    "\n",
    "* Classificação de documentos\n",
    "* Localização de crimes\n",
    "* Análise de desempenho de jogadores\n",
    "* Segmentação de clientes\n",
    "* Cálculo de custo médio de clientes de seguro\n",
    "* Pesquisa de terremotos\n",
    "* Segmentação de venda (mais usado)"
   ]
  },
  {
   "cell_type": "markdown",
   "id": "b6b36ebe",
   "metadata": {
    "papermill": {
     "duration": 0.004205,
     "end_time": "2024-10-07T00:47:12.832645",
     "exception": false,
     "start_time": "2024-10-07T00:47:12.828440",
     "status": "completed"
    },
    "tags": []
   },
   "source": [
    "# **Importing the Libraries**"
   ]
  },
  {
   "cell_type": "code",
   "execution_count": 2,
   "id": "c540b45a",
   "metadata": {
    "execution": {
     "iopub.execute_input": "2024-10-07T00:47:12.842380Z",
     "iopub.status.busy": "2024-10-07T00:47:12.841965Z",
     "iopub.status.idle": "2024-10-07T00:47:14.070607Z",
     "shell.execute_reply": "2024-10-07T00:47:14.069829Z"
    },
    "papermill": {
     "duration": 1.2364,
     "end_time": "2024-10-07T00:47:14.073211",
     "exception": false,
     "start_time": "2024-10-07T00:47:12.836811",
     "status": "completed"
    },
    "tags": []
   },
   "outputs": [],
   "source": [
    "import numpy as np\n",
    "import pandas as pd\n",
    "import seaborn as sns\n",
    "import matplotlib.pyplot as plt\n",
    "import warnings\n",
    "warnings.filterwarnings(\"ignore\")"
   ]
  },
  {
   "cell_type": "code",
   "execution_count": 3,
   "id": "133d1fec",
   "metadata": {
    "execution": {
     "iopub.execute_input": "2024-10-07T00:47:14.084950Z",
     "iopub.status.busy": "2024-10-07T00:47:14.084290Z",
     "iopub.status.idle": "2024-10-07T00:47:14.112825Z",
     "shell.execute_reply": "2024-10-07T00:47:14.111854Z"
    },
    "papermill": {
     "duration": 0.035987,
     "end_time": "2024-10-07T00:47:14.114845",
     "exception": false,
     "start_time": "2024-10-07T00:47:14.078858",
     "status": "completed"
    },
    "tags": []
   },
   "outputs": [
    {
     "data": {
      "text/html": [
       "<div>\n",
       "<style scoped>\n",
       "    .dataframe tbody tr th:only-of-type {\n",
       "        vertical-align: middle;\n",
       "    }\n",
       "\n",
       "    .dataframe tbody tr th {\n",
       "        vertical-align: top;\n",
       "    }\n",
       "\n",
       "    .dataframe thead th {\n",
       "        text-align: right;\n",
       "    }\n",
       "</style>\n",
       "<table border=\"1\" class=\"dataframe\">\n",
       "  <thead>\n",
       "    <tr style=\"text-align: right;\">\n",
       "      <th></th>\n",
       "      <th>Unnamed: 0</th>\n",
       "      <th>Murder</th>\n",
       "      <th>Assault</th>\n",
       "      <th>UrbanPop</th>\n",
       "      <th>Rape</th>\n",
       "    </tr>\n",
       "  </thead>\n",
       "  <tbody>\n",
       "    <tr>\n",
       "      <th>0</th>\n",
       "      <td>Alabama</td>\n",
       "      <td>13.2</td>\n",
       "      <td>236</td>\n",
       "      <td>58</td>\n",
       "      <td>21.2</td>\n",
       "    </tr>\n",
       "    <tr>\n",
       "      <th>1</th>\n",
       "      <td>Alaska</td>\n",
       "      <td>10.0</td>\n",
       "      <td>263</td>\n",
       "      <td>48</td>\n",
       "      <td>44.5</td>\n",
       "    </tr>\n",
       "    <tr>\n",
       "      <th>2</th>\n",
       "      <td>Arizona</td>\n",
       "      <td>8.1</td>\n",
       "      <td>294</td>\n",
       "      <td>80</td>\n",
       "      <td>31.0</td>\n",
       "    </tr>\n",
       "    <tr>\n",
       "      <th>3</th>\n",
       "      <td>Arkansas</td>\n",
       "      <td>8.8</td>\n",
       "      <td>190</td>\n",
       "      <td>50</td>\n",
       "      <td>19.5</td>\n",
       "    </tr>\n",
       "    <tr>\n",
       "      <th>4</th>\n",
       "      <td>California</td>\n",
       "      <td>9.0</td>\n",
       "      <td>276</td>\n",
       "      <td>91</td>\n",
       "      <td>40.6</td>\n",
       "    </tr>\n",
       "  </tbody>\n",
       "</table>\n",
       "</div>"
      ],
      "text/plain": [
       "   Unnamed: 0  Murder  Assault  UrbanPop  Rape\n",
       "0     Alabama    13.2      236        58  21.2\n",
       "1      Alaska    10.0      263        48  44.5\n",
       "2     Arizona     8.1      294        80  31.0\n",
       "3    Arkansas     8.8      190        50  19.5\n",
       "4  California     9.0      276        91  40.6"
      ]
     },
     "execution_count": 3,
     "metadata": {},
     "output_type": "execute_result"
    }
   ],
   "source": [
    "df = pd.read_csv(\"/kaggle/input/arrests/Arrests.csv\")\n",
    "df.head()"
   ]
  },
  {
   "cell_type": "code",
   "execution_count": 4,
   "id": "60fd20d4",
   "metadata": {
    "execution": {
     "iopub.execute_input": "2024-10-07T00:47:14.125291Z",
     "iopub.status.busy": "2024-10-07T00:47:14.125007Z",
     "iopub.status.idle": "2024-10-07T00:47:14.138795Z",
     "shell.execute_reply": "2024-10-07T00:47:14.137952Z"
    },
    "papermill": {
     "duration": 0.021398,
     "end_time": "2024-10-07T00:47:14.140776",
     "exception": false,
     "start_time": "2024-10-07T00:47:14.119378",
     "status": "completed"
    },
    "tags": []
   },
   "outputs": [
    {
     "data": {
      "text/html": [
       "<div>\n",
       "<style scoped>\n",
       "    .dataframe tbody tr th:only-of-type {\n",
       "        vertical-align: middle;\n",
       "    }\n",
       "\n",
       "    .dataframe tbody tr th {\n",
       "        vertical-align: top;\n",
       "    }\n",
       "\n",
       "    .dataframe thead th {\n",
       "        text-align: right;\n",
       "    }\n",
       "</style>\n",
       "<table border=\"1\" class=\"dataframe\">\n",
       "  <thead>\n",
       "    <tr style=\"text-align: right;\">\n",
       "      <th></th>\n",
       "      <th>Murder</th>\n",
       "      <th>Assault</th>\n",
       "      <th>UrbanPop</th>\n",
       "      <th>Rape</th>\n",
       "    </tr>\n",
       "  </thead>\n",
       "  <tbody>\n",
       "    <tr>\n",
       "      <th>Alabama</th>\n",
       "      <td>13.2</td>\n",
       "      <td>236</td>\n",
       "      <td>58</td>\n",
       "      <td>21.2</td>\n",
       "    </tr>\n",
       "    <tr>\n",
       "      <th>Alaska</th>\n",
       "      <td>10.0</td>\n",
       "      <td>263</td>\n",
       "      <td>48</td>\n",
       "      <td>44.5</td>\n",
       "    </tr>\n",
       "    <tr>\n",
       "      <th>Arizona</th>\n",
       "      <td>8.1</td>\n",
       "      <td>294</td>\n",
       "      <td>80</td>\n",
       "      <td>31.0</td>\n",
       "    </tr>\n",
       "    <tr>\n",
       "      <th>Arkansas</th>\n",
       "      <td>8.8</td>\n",
       "      <td>190</td>\n",
       "      <td>50</td>\n",
       "      <td>19.5</td>\n",
       "    </tr>\n",
       "    <tr>\n",
       "      <th>California</th>\n",
       "      <td>9.0</td>\n",
       "      <td>276</td>\n",
       "      <td>91</td>\n",
       "      <td>40.6</td>\n",
       "    </tr>\n",
       "  </tbody>\n",
       "</table>\n",
       "</div>"
      ],
      "text/plain": [
       "            Murder  Assault  UrbanPop  Rape\n",
       "Alabama       13.2      236        58  21.2\n",
       "Alaska        10.0      263        48  44.5\n",
       "Arizona        8.1      294        80  31.0\n",
       "Arkansas       8.8      190        50  19.5\n",
       "California     9.0      276        91  40.6"
      ]
     },
     "execution_count": 4,
     "metadata": {},
     "output_type": "execute_result"
    }
   ],
   "source": [
    "df = pd.read_csv(\"/kaggle/input/arrests/Arrests.csv\", index_col = 0)\n",
    "df.head()"
   ]
  },
  {
   "cell_type": "markdown",
   "id": "14845919",
   "metadata": {
    "papermill": {
     "duration": 0.004383,
     "end_time": "2024-10-07T00:47:14.150104",
     "exception": false,
     "start_time": "2024-10-07T00:47:14.145721",
     "status": "completed"
    },
    "tags": []
   },
   "source": [
    "Murder - % de homicídios por 100.000 pessoas (13,2 = 13.200 de 100.000 casos são homicídios)\n",
    "\n",
    "Assault = Assaltos ocorridos a cada 100.000 ocorrências ()\n",
    "\n",
    "UrbanPop = % da população urbana\n",
    "\n",
    "Rape = Estupros cometidos a cada 100.000 casos"
   ]
  },
  {
   "cell_type": "markdown",
   "id": "ef4da710",
   "metadata": {
    "papermill": {
     "duration": 0.004389,
     "end_time": "2024-10-07T00:47:14.159266",
     "exception": false,
     "start_time": "2024-10-07T00:47:14.154877",
     "status": "completed"
    },
    "tags": []
   },
   "source": [
    "# **Getting to know the dataset**"
   ]
  },
  {
   "cell_type": "code",
   "execution_count": 5,
   "id": "df5b1eeb",
   "metadata": {
    "execution": {
     "iopub.execute_input": "2024-10-07T00:47:14.169818Z",
     "iopub.status.busy": "2024-10-07T00:47:14.169481Z",
     "iopub.status.idle": "2024-10-07T00:47:14.187639Z",
     "shell.execute_reply": "2024-10-07T00:47:14.186776Z"
    },
    "papermill": {
     "duration": 0.025585,
     "end_time": "2024-10-07T00:47:14.189710",
     "exception": false,
     "start_time": "2024-10-07T00:47:14.164125",
     "status": "completed"
    },
    "tags": []
   },
   "outputs": [
    {
     "name": "stdout",
     "output_type": "stream",
     "text": [
      "<class 'pandas.core.frame.DataFrame'>\n",
      "Index: 50 entries, Alabama to Wyoming\n",
      "Data columns (total 4 columns):\n",
      " #   Column    Non-Null Count  Dtype  \n",
      "---  ------    --------------  -----  \n",
      " 0   Murder    50 non-null     float64\n",
      " 1   Assault   50 non-null     int64  \n",
      " 2   UrbanPop  50 non-null     int64  \n",
      " 3   Rape      50 non-null     float64\n",
      "dtypes: float64(2), int64(2)\n",
      "memory usage: 2.0+ KB\n"
     ]
    }
   ],
   "source": [
    "df.info()"
   ]
  },
  {
   "cell_type": "code",
   "execution_count": 6,
   "id": "cf4f6220",
   "metadata": {
    "execution": {
     "iopub.execute_input": "2024-10-07T00:47:14.200953Z",
     "iopub.status.busy": "2024-10-07T00:47:14.200680Z",
     "iopub.status.idle": "2024-10-07T00:47:14.220378Z",
     "shell.execute_reply": "2024-10-07T00:47:14.219413Z"
    },
    "papermill": {
     "duration": 0.027338,
     "end_time": "2024-10-07T00:47:14.222440",
     "exception": false,
     "start_time": "2024-10-07T00:47:14.195102",
     "status": "completed"
    },
    "tags": []
   },
   "outputs": [
    {
     "data": {
      "text/html": [
       "<div>\n",
       "<style scoped>\n",
       "    .dataframe tbody tr th:only-of-type {\n",
       "        vertical-align: middle;\n",
       "    }\n",
       "\n",
       "    .dataframe tbody tr th {\n",
       "        vertical-align: top;\n",
       "    }\n",
       "\n",
       "    .dataframe thead th {\n",
       "        text-align: right;\n",
       "    }\n",
       "</style>\n",
       "<table border=\"1\" class=\"dataframe\">\n",
       "  <thead>\n",
       "    <tr style=\"text-align: right;\">\n",
       "      <th></th>\n",
       "      <th>Murder</th>\n",
       "      <th>Assault</th>\n",
       "      <th>UrbanPop</th>\n",
       "      <th>Rape</th>\n",
       "    </tr>\n",
       "  </thead>\n",
       "  <tbody>\n",
       "    <tr>\n",
       "      <th>count</th>\n",
       "      <td>50.00000</td>\n",
       "      <td>50.000000</td>\n",
       "      <td>50.000000</td>\n",
       "      <td>50.000000</td>\n",
       "    </tr>\n",
       "    <tr>\n",
       "      <th>mean</th>\n",
       "      <td>7.78800</td>\n",
       "      <td>170.760000</td>\n",
       "      <td>65.540000</td>\n",
       "      <td>21.232000</td>\n",
       "    </tr>\n",
       "    <tr>\n",
       "      <th>std</th>\n",
       "      <td>4.35551</td>\n",
       "      <td>83.337661</td>\n",
       "      <td>14.474763</td>\n",
       "      <td>9.366385</td>\n",
       "    </tr>\n",
       "    <tr>\n",
       "      <th>min</th>\n",
       "      <td>0.80000</td>\n",
       "      <td>45.000000</td>\n",
       "      <td>32.000000</td>\n",
       "      <td>7.300000</td>\n",
       "    </tr>\n",
       "    <tr>\n",
       "      <th>25%</th>\n",
       "      <td>4.07500</td>\n",
       "      <td>109.000000</td>\n",
       "      <td>54.500000</td>\n",
       "      <td>15.075000</td>\n",
       "    </tr>\n",
       "    <tr>\n",
       "      <th>50%</th>\n",
       "      <td>7.25000</td>\n",
       "      <td>159.000000</td>\n",
       "      <td>66.000000</td>\n",
       "      <td>20.100000</td>\n",
       "    </tr>\n",
       "    <tr>\n",
       "      <th>75%</th>\n",
       "      <td>11.25000</td>\n",
       "      <td>249.000000</td>\n",
       "      <td>77.750000</td>\n",
       "      <td>26.175000</td>\n",
       "    </tr>\n",
       "    <tr>\n",
       "      <th>max</th>\n",
       "      <td>17.40000</td>\n",
       "      <td>337.000000</td>\n",
       "      <td>91.000000</td>\n",
       "      <td>46.000000</td>\n",
       "    </tr>\n",
       "  </tbody>\n",
       "</table>\n",
       "</div>"
      ],
      "text/plain": [
       "         Murder     Assault   UrbanPop       Rape\n",
       "count  50.00000   50.000000  50.000000  50.000000\n",
       "mean    7.78800  170.760000  65.540000  21.232000\n",
       "std     4.35551   83.337661  14.474763   9.366385\n",
       "min     0.80000   45.000000  32.000000   7.300000\n",
       "25%     4.07500  109.000000  54.500000  15.075000\n",
       "50%     7.25000  159.000000  66.000000  20.100000\n",
       "75%    11.25000  249.000000  77.750000  26.175000\n",
       "max    17.40000  337.000000  91.000000  46.000000"
      ]
     },
     "execution_count": 6,
     "metadata": {},
     "output_type": "execute_result"
    }
   ],
   "source": [
    "df.describe()"
   ]
  },
  {
   "cell_type": "markdown",
   "id": "309e3ba8",
   "metadata": {
    "papermill": {
     "duration": 0.005022,
     "end_time": "2024-10-07T00:47:14.232583",
     "exception": false,
     "start_time": "2024-10-07T00:47:14.227561",
     "status": "completed"
    },
    "tags": []
   },
   "source": [
    "# **Hopkins Test**"
   ]
  },
  {
   "cell_type": "code",
   "execution_count": 7,
   "id": "acaad4bd",
   "metadata": {
    "execution": {
     "iopub.execute_input": "2024-10-07T00:47:14.243962Z",
     "iopub.status.busy": "2024-10-07T00:47:14.243455Z",
     "iopub.status.idle": "2024-10-07T00:47:14.247051Z",
     "shell.execute_reply": "2024-10-07T00:47:14.246227Z"
    },
    "papermill": {
     "duration": 0.011481,
     "end_time": "2024-10-07T00:47:14.248987",
     "exception": false,
     "start_time": "2024-10-07T00:47:14.237506",
     "status": "completed"
    },
    "tags": []
   },
   "outputs": [],
   "source": [
    "#!pip install pyclustertend"
   ]
  },
  {
   "cell_type": "code",
   "execution_count": 8,
   "id": "b685472f",
   "metadata": {
    "execution": {
     "iopub.execute_input": "2024-10-07T00:47:14.260621Z",
     "iopub.status.busy": "2024-10-07T00:47:14.260138Z",
     "iopub.status.idle": "2024-10-07T00:47:14.368296Z",
     "shell.execute_reply": "2024-10-07T00:47:14.367586Z"
    },
    "papermill": {
     "duration": 0.116212,
     "end_time": "2024-10-07T00:47:14.370780",
     "exception": false,
     "start_time": "2024-10-07T00:47:14.254568",
     "status": "completed"
    },
    "tags": []
   },
   "outputs": [],
   "source": [
    "#from pyclustering import hopkins\n",
    "from sklearn.preprocessing import scale"
   ]
  },
  {
   "cell_type": "code",
   "execution_count": 9,
   "id": "85cdc73d",
   "metadata": {
    "execution": {
     "iopub.execute_input": "2024-10-07T00:47:14.382549Z",
     "iopub.status.busy": "2024-10-07T00:47:14.382203Z",
     "iopub.status.idle": "2024-10-07T00:47:14.385973Z",
     "shell.execute_reply": "2024-10-07T00:47:14.385154Z"
    },
    "papermill": {
     "duration": 0.011636,
     "end_time": "2024-10-07T00:47:14.387887",
     "exception": false,
     "start_time": "2024-10-07T00:47:14.376251",
     "status": "completed"
    },
    "tags": []
   },
   "outputs": [],
   "source": [
    "#hopkins(scale(df), df.shape[0])"
   ]
  }
 ],
 "metadata": {
  "kaggle": {
   "accelerator": "nvidiaTeslaT4",
   "dataSources": [
    {
     "datasetId": 5323194,
     "sourceId": 8844323,
     "sourceType": "datasetVersion"
    }
   ],
   "isGpuEnabled": true,
   "isInternetEnabled": true,
   "language": "python",
   "sourceType": "notebook"
  },
  "kernelspec": {
   "display_name": "Python 3",
   "language": "python",
   "name": "python3"
  },
  "language_info": {
   "codemirror_mode": {
    "name": "ipython",
    "version": 3
   },
   "file_extension": ".py",
   "mimetype": "text/x-python",
   "name": "python",
   "nbconvert_exporter": "python",
   "pygments_lexer": "ipython3",
   "version": "3.10.14"
  },
  "papermill": {
   "default_parameters": {},
   "duration": 5.213596,
   "end_time": "2024-10-07T00:47:14.811248",
   "environment_variables": {},
   "exception": null,
   "input_path": "__notebook__.ipynb",
   "output_path": "__notebook__.ipynb",
   "parameters": {},
   "start_time": "2024-10-07T00:47:09.597652",
   "version": "2.6.0"
  }
 },
 "nbformat": 4,
 "nbformat_minor": 5
}
