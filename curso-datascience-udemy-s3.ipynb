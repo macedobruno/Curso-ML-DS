{
 "cells": [
  {
   "cell_type": "code",
   "execution_count": 1,
   "id": "a3ae5034",
   "metadata": {
    "_cell_guid": "b1076dfc-b9ad-4769-8c92-a6c4dae69d19",
    "_uuid": "8f2839f25d086af736a60e9eeb907d3b93b6e0e5",
    "execution": {
     "iopub.execute_input": "2024-10-07T00:22:38.151991Z",
     "iopub.status.busy": "2024-10-07T00:22:38.151663Z",
     "iopub.status.idle": "2024-10-07T00:22:38.969906Z",
     "shell.execute_reply": "2024-10-07T00:22:38.969145Z"
    },
    "jupyter": {
     "source_hidden": true
    },
    "papermill": {
     "duration": 0.827196,
     "end_time": "2024-10-07T00:22:38.972220",
     "exception": false,
     "start_time": "2024-10-07T00:22:38.145024",
     "status": "completed"
    },
    "tags": []
   },
   "outputs": [],
   "source": [
    "# This Python 3 environment comes with many helpful analytics libraries installed\n",
    "# It is defined by the kaggle/python Docker image: https://github.com/kaggle/docker-python\n",
    "# For example, here's several helpful packages to load\n",
    "\n",
    "import numpy as np # linear algebra\n",
    "import pandas as pd # data processing, CSV file I/O (e.g. pd.read_csv)\n",
    "\n",
    "# Input data files are available in the read-only \"../input/\" directory\n",
    "# For example, running this (by clicking run or pressing Shift+Enter) will list all files under the input directory\n",
    "\n",
    "import os\n",
    "for dirname, _, filenames in os.walk('/kaggle/input'):\n",
    "    for filename in filenames:\n",
    "        print(os.path.join(dirname, filename))\n",
    "\n",
    "# You can write up to 20GB to the current directory (/kaggle/working/) that gets preserved as output when you create a version using \"Save & Run All\" \n",
    "# You can also write temporary files to /kaggle/temp/, but they won't be saved outside of the current session"
   ]
  },
  {
   "cell_type": "markdown",
   "id": "40c2221c",
   "metadata": {
    "papermill": {
     "duration": 0.004241,
     "end_time": "2024-10-07T00:22:38.981348",
     "exception": false,
     "start_time": "2024-10-07T00:22:38.977107",
     "status": "completed"
    },
    "tags": []
   },
   "source": [
    "# Complete Machine Learning & Data Science with Python | A-Z\n",
    "\n",
    "1. *First Contact*\n",
    "2. *Installations for Python*\n",
    "3. Evaluation Metrics\n",
    "4. Supervised Learning\n",
    "5. Linear Regression Algorithm\n",
    "6. Bias Variance Tade-Off\n",
    "7. Logistic Regression Algorithm\n",
    "8. K-fold Cross-Validation\n",
    "9. K Nearest Neignbors Algorithm\n",
    "10. Hyperparameter Optimization\n",
    "11. Decision Tree Algorithm\n",
    "12. Random Forest Algorithm\n",
    "13. Support Vector Machine Algorithm\n",
    "14. Usupervised Learning\n",
    "15. K Means Clusterins Algorithm\n",
    "16. Hierarchical Clustering Algorithm\n",
    "17. Principal Conponent Analysis (PCA)\n",
    "18. Recommender System Algorithm\n",
    "19. Extra"
   ]
  },
  {
   "cell_type": "markdown",
   "id": "1dcb4709",
   "metadata": {
    "papermill": {
     "duration": 0.004141,
     "end_time": "2024-10-07T00:22:38.989835",
     "exception": false,
     "start_time": "2024-10-07T00:22:38.985694",
     "status": "completed"
    },
    "tags": []
   },
   "source": [
    "# Evaluation Metrics"
   ]
  },
  {
   "cell_type": "code",
   "execution_count": 2,
   "id": "36be2fc4",
   "metadata": {
    "collapsed": true,
    "execution": {
     "iopub.execute_input": "2024-10-07T00:22:38.999789Z",
     "iopub.status.busy": "2024-10-07T00:22:38.999442Z",
     "iopub.status.idle": "2024-10-07T00:23:13.541944Z",
     "shell.execute_reply": "2024-10-07T00:23:13.541136Z"
    },
    "jupyter": {
     "outputs_hidden": true
    },
    "papermill": {
     "duration": 34.550112,
     "end_time": "2024-10-07T00:23:13.544331",
     "exception": false,
     "start_time": "2024-10-07T00:22:38.994219",
     "status": "completed"
    },
    "tags": []
   },
   "outputs": [
    {
     "name": "stdout",
     "output_type": "stream",
     "text": [
      "Requirement already satisfied: scikit-learn in /opt/conda/lib/python3.10/site-packages (1.2.2)\r\n",
      "Requirement already satisfied: numpy>=1.17.3 in /opt/conda/lib/python3.10/site-packages (from scikit-learn) (1.26.4)\r\n",
      "Requirement already satisfied: scipy>=1.3.2 in /opt/conda/lib/python3.10/site-packages (from scikit-learn) (1.11.4)\r\n",
      "Requirement already satisfied: joblib>=1.1.1 in /opt/conda/lib/python3.10/site-packages (from scikit-learn) (1.4.2)\r\n",
      "Requirement already satisfied: threadpoolctl>=2.0.0 in /opt/conda/lib/python3.10/site-packages (from scikit-learn) (3.2.0)\r\n"
     ]
    }
   ],
   "source": [
    "!pip install scikit-learn\n",
    "#from sklearn.family import Model_Object\n",
    "from sklearn.linear_model import LinearRegression"
   ]
  },
  {
   "cell_type": "code",
   "execution_count": 3,
   "id": "23b35c56",
   "metadata": {
    "execution": {
     "iopub.execute_input": "2024-10-07T00:23:13.555321Z",
     "iopub.status.busy": "2024-10-07T00:23:13.554997Z",
     "iopub.status.idle": "2024-10-07T00:23:13.564295Z",
     "shell.execute_reply": "2024-10-07T00:23:13.563314Z"
    },
    "papermill": {
     "duration": 0.017031,
     "end_time": "2024-10-07T00:23:13.566271",
     "exception": false,
     "start_time": "2024-10-07T00:23:13.549240",
     "status": "completed"
    },
    "tags": []
   },
   "outputs": [
    {
     "data": {
      "text/html": [
       "<style>#sk-container-id-1 {color: black;background-color: white;}#sk-container-id-1 pre{padding: 0;}#sk-container-id-1 div.sk-toggleable {background-color: white;}#sk-container-id-1 label.sk-toggleable__label {cursor: pointer;display: block;width: 100%;margin-bottom: 0;padding: 0.3em;box-sizing: border-box;text-align: center;}#sk-container-id-1 label.sk-toggleable__label-arrow:before {content: \"▸\";float: left;margin-right: 0.25em;color: #696969;}#sk-container-id-1 label.sk-toggleable__label-arrow:hover:before {color: black;}#sk-container-id-1 div.sk-estimator:hover label.sk-toggleable__label-arrow:before {color: black;}#sk-container-id-1 div.sk-toggleable__content {max-height: 0;max-width: 0;overflow: hidden;text-align: left;background-color: #f0f8ff;}#sk-container-id-1 div.sk-toggleable__content pre {margin: 0.2em;color: black;border-radius: 0.25em;background-color: #f0f8ff;}#sk-container-id-1 input.sk-toggleable__control:checked~div.sk-toggleable__content {max-height: 200px;max-width: 100%;overflow: auto;}#sk-container-id-1 input.sk-toggleable__control:checked~label.sk-toggleable__label-arrow:before {content: \"▾\";}#sk-container-id-1 div.sk-estimator input.sk-toggleable__control:checked~label.sk-toggleable__label {background-color: #d4ebff;}#sk-container-id-1 div.sk-label input.sk-toggleable__control:checked~label.sk-toggleable__label {background-color: #d4ebff;}#sk-container-id-1 input.sk-hidden--visually {border: 0;clip: rect(1px 1px 1px 1px);clip: rect(1px, 1px, 1px, 1px);height: 1px;margin: -1px;overflow: hidden;padding: 0;position: absolute;width: 1px;}#sk-container-id-1 div.sk-estimator {font-family: monospace;background-color: #f0f8ff;border: 1px dotted black;border-radius: 0.25em;box-sizing: border-box;margin-bottom: 0.5em;}#sk-container-id-1 div.sk-estimator:hover {background-color: #d4ebff;}#sk-container-id-1 div.sk-parallel-item::after {content: \"\";width: 100%;border-bottom: 1px solid gray;flex-grow: 1;}#sk-container-id-1 div.sk-label:hover label.sk-toggleable__label {background-color: #d4ebff;}#sk-container-id-1 div.sk-serial::before {content: \"\";position: absolute;border-left: 1px solid gray;box-sizing: border-box;top: 0;bottom: 0;left: 50%;z-index: 0;}#sk-container-id-1 div.sk-serial {display: flex;flex-direction: column;align-items: center;background-color: white;padding-right: 0.2em;padding-left: 0.2em;position: relative;}#sk-container-id-1 div.sk-item {position: relative;z-index: 1;}#sk-container-id-1 div.sk-parallel {display: flex;align-items: stretch;justify-content: center;background-color: white;position: relative;}#sk-container-id-1 div.sk-item::before, #sk-container-id-1 div.sk-parallel-item::before {content: \"\";position: absolute;border-left: 1px solid gray;box-sizing: border-box;top: 0;bottom: 0;left: 50%;z-index: -1;}#sk-container-id-1 div.sk-parallel-item {display: flex;flex-direction: column;z-index: 1;position: relative;background-color: white;}#sk-container-id-1 div.sk-parallel-item:first-child::after {align-self: flex-end;width: 50%;}#sk-container-id-1 div.sk-parallel-item:last-child::after {align-self: flex-start;width: 50%;}#sk-container-id-1 div.sk-parallel-item:only-child::after {width: 0;}#sk-container-id-1 div.sk-dashed-wrapped {border: 1px dashed gray;margin: 0 0.4em 0.5em 0.4em;box-sizing: border-box;padding-bottom: 0.4em;background-color: white;}#sk-container-id-1 div.sk-label label {font-family: monospace;font-weight: bold;display: inline-block;line-height: 1.2em;}#sk-container-id-1 div.sk-label-container {text-align: center;}#sk-container-id-1 div.sk-container {/* jupyter's `normalize.less` sets `[hidden] { display: none; }` but bootstrap.min.css set `[hidden] { display: none !important; }` so we also need the `!important` here to be able to override the default hidden behavior on the sphinx rendered scikit-learn.org. See: https://github.com/scikit-learn/scikit-learn/issues/21755 */display: inline-block !important;position: relative;}#sk-container-id-1 div.sk-text-repr-fallback {display: none;}</style><div id=\"sk-container-id-1\" class=\"sk-top-container\"><div class=\"sk-text-repr-fallback\"><pre>LinearRegression(copy_X=False, fit_intercept=False, positive=True)</pre><b>In a Jupyter environment, please rerun this cell to show the HTML representation or trust the notebook. <br />On GitHub, the HTML representation is unable to render, please try loading this page with nbviewer.org.</b></div><div class=\"sk-container\" hidden><div class=\"sk-item\"><div class=\"sk-estimator sk-toggleable\"><input class=\"sk-toggleable__control sk-hidden--visually\" id=\"sk-estimator-id-1\" type=\"checkbox\" checked><label for=\"sk-estimator-id-1\" class=\"sk-toggleable__label sk-toggleable__label-arrow\">LinearRegression</label><div class=\"sk-toggleable__content\"><pre>LinearRegression(copy_X=False, fit_intercept=False, positive=True)</pre></div></div></div></div></div>"
      ],
      "text/plain": [
       "LinearRegression(copy_X=False, fit_intercept=False, positive=True)"
      ]
     },
     "execution_count": 3,
     "metadata": {},
     "output_type": "execute_result"
    }
   ],
   "source": [
    "example_model = LinearRegression()\n",
    "example_model\n",
    "\n",
    "new_example_model = LinearRegression(fit_intercept=False, positive=True, copy_X=False)\n",
    "new_example_model"
   ]
  },
  {
   "cell_type": "code",
   "execution_count": 4,
   "id": "f3552eff",
   "metadata": {
    "execution": {
     "iopub.execute_input": "2024-10-07T00:23:13.576999Z",
     "iopub.status.busy": "2024-10-07T00:23:13.576745Z",
     "iopub.status.idle": "2024-10-07T00:23:13.582973Z",
     "shell.execute_reply": "2024-10-07T00:23:13.582136Z"
    },
    "papermill": {
     "duration": 0.013693,
     "end_time": "2024-10-07T00:23:13.584777",
     "exception": false,
     "start_time": "2024-10-07T00:23:13.571084",
     "status": "completed"
    },
    "tags": []
   },
   "outputs": [
    {
     "data": {
      "text/plain": [
       "array([[ 0,  1,  2],\n",
       "       [ 3,  4,  5],\n",
       "       [ 6,  7,  8],\n",
       "       [ 9, 10, 11],\n",
       "       [12, 13, 14],\n",
       "       [15, 16, 17],\n",
       "       [18, 19, 20],\n",
       "       [21, 22, 23],\n",
       "       [24, 25, 26],\n",
       "       [27, 28, 29]])"
      ]
     },
     "execution_count": 4,
     "metadata": {},
     "output_type": "execute_result"
    }
   ],
   "source": [
    "import numpy as np\n",
    "\n",
    "X = np.arange(30).reshape((10,3))\n",
    "y = range(10)\n",
    "\n",
    "X # independent variable"
   ]
  },
  {
   "cell_type": "code",
   "execution_count": 5,
   "id": "053f1885",
   "metadata": {
    "execution": {
     "iopub.execute_input": "2024-10-07T00:23:13.595722Z",
     "iopub.status.busy": "2024-10-07T00:23:13.595428Z",
     "iopub.status.idle": "2024-10-07T00:23:13.600693Z",
     "shell.execute_reply": "2024-10-07T00:23:13.599926Z"
    },
    "papermill": {
     "duration": 0.012915,
     "end_time": "2024-10-07T00:23:13.602607",
     "exception": false,
     "start_time": "2024-10-07T00:23:13.589692",
     "status": "completed"
    },
    "tags": []
   },
   "outputs": [
    {
     "data": {
      "text/plain": [
       "range(0, 10)"
      ]
     },
     "execution_count": 5,
     "metadata": {},
     "output_type": "execute_result"
    }
   ],
   "source": [
    "y # dependent variable"
   ]
  },
  {
   "cell_type": "code",
   "execution_count": 6,
   "id": "01485b6e",
   "metadata": {
    "execution": {
     "iopub.execute_input": "2024-10-07T00:23:13.613632Z",
     "iopub.status.busy": "2024-10-07T00:23:13.613367Z",
     "iopub.status.idle": "2024-10-07T00:23:13.617058Z",
     "shell.execute_reply": "2024-10-07T00:23:13.616238Z"
    },
    "papermill": {
     "duration": 0.011227,
     "end_time": "2024-10-07T00:23:13.618894",
     "exception": false,
     "start_time": "2024-10-07T00:23:13.607667",
     "status": "completed"
    },
    "tags": []
   },
   "outputs": [],
   "source": [
    "from sklearn.model_selection import train_test_split"
   ]
  },
  {
   "cell_type": "code",
   "execution_count": 7,
   "id": "e1def5e5",
   "metadata": {
    "execution": {
     "iopub.execute_input": "2024-10-07T00:23:13.629901Z",
     "iopub.status.busy": "2024-10-07T00:23:13.629646Z",
     "iopub.status.idle": "2024-10-07T00:23:13.636763Z",
     "shell.execute_reply": "2024-10-07T00:23:13.636000Z"
    },
    "papermill": {
     "duration": 0.014663,
     "end_time": "2024-10-07T00:23:13.638529",
     "exception": false,
     "start_time": "2024-10-07T00:23:13.623866",
     "status": "completed"
    },
    "tags": []
   },
   "outputs": [],
   "source": [
    "X_train, X_test, y_train, y_test = train_test_split(X, y, test_size = 0.4)"
   ]
  },
  {
   "cell_type": "code",
   "execution_count": 8,
   "id": "c9b5f83a",
   "metadata": {
    "execution": {
     "iopub.execute_input": "2024-10-07T00:23:13.649429Z",
     "iopub.status.busy": "2024-10-07T00:23:13.649151Z",
     "iopub.status.idle": "2024-10-07T00:23:13.654333Z",
     "shell.execute_reply": "2024-10-07T00:23:13.653574Z"
    },
    "papermill": {
     "duration": 0.012801,
     "end_time": "2024-10-07T00:23:13.656299",
     "exception": false,
     "start_time": "2024-10-07T00:23:13.643498",
     "status": "completed"
    },
    "tags": []
   },
   "outputs": [
    {
     "data": {
      "text/plain": [
       "array([[12, 13, 14],\n",
       "       [24, 25, 26],\n",
       "       [ 3,  4,  5],\n",
       "       [27, 28, 29],\n",
       "       [ 6,  7,  8],\n",
       "       [18, 19, 20]])"
      ]
     },
     "execution_count": 8,
     "metadata": {},
     "output_type": "execute_result"
    }
   ],
   "source": [
    "X_train"
   ]
  },
  {
   "cell_type": "code",
   "execution_count": 9,
   "id": "0463215a",
   "metadata": {
    "execution": {
     "iopub.execute_input": "2024-10-07T00:23:13.667731Z",
     "iopub.status.busy": "2024-10-07T00:23:13.667474Z",
     "iopub.status.idle": "2024-10-07T00:23:13.672589Z",
     "shell.execute_reply": "2024-10-07T00:23:13.671721Z"
    },
    "papermill": {
     "duration": 0.012949,
     "end_time": "2024-10-07T00:23:13.674425",
     "exception": false,
     "start_time": "2024-10-07T00:23:13.661476",
     "status": "completed"
    },
    "tags": []
   },
   "outputs": [
    {
     "data": {
      "text/plain": [
       "array([[21, 22, 23],\n",
       "       [ 0,  1,  2],\n",
       "       [15, 16, 17],\n",
       "       [ 9, 10, 11]])"
      ]
     },
     "execution_count": 9,
     "metadata": {},
     "output_type": "execute_result"
    }
   ],
   "source": [
    "X_test"
   ]
  },
  {
   "cell_type": "code",
   "execution_count": 10,
   "id": "caff8cf3",
   "metadata": {
    "execution": {
     "iopub.execute_input": "2024-10-07T00:23:13.685875Z",
     "iopub.status.busy": "2024-10-07T00:23:13.685620Z",
     "iopub.status.idle": "2024-10-07T00:23:13.690693Z",
     "shell.execute_reply": "2024-10-07T00:23:13.689957Z"
    },
    "papermill": {
     "duration": 0.012988,
     "end_time": "2024-10-07T00:23:13.692603",
     "exception": false,
     "start_time": "2024-10-07T00:23:13.679615",
     "status": "completed"
    },
    "tags": []
   },
   "outputs": [
    {
     "data": {
      "text/plain": [
       "[4, 8, 1, 9, 2, 6]"
      ]
     },
     "execution_count": 10,
     "metadata": {},
     "output_type": "execute_result"
    }
   ],
   "source": [
    "y_train"
   ]
  },
  {
   "cell_type": "code",
   "execution_count": 11,
   "id": "549425b8",
   "metadata": {
    "execution": {
     "iopub.execute_input": "2024-10-07T00:23:13.705367Z",
     "iopub.status.busy": "2024-10-07T00:23:13.705083Z",
     "iopub.status.idle": "2024-10-07T00:23:13.710237Z",
     "shell.execute_reply": "2024-10-07T00:23:13.709340Z"
    },
    "papermill": {
     "duration": 0.014173,
     "end_time": "2024-10-07T00:23:13.712108",
     "exception": false,
     "start_time": "2024-10-07T00:23:13.697935",
     "status": "completed"
    },
    "tags": []
   },
   "outputs": [
    {
     "data": {
      "text/plain": [
       "[7, 0, 5, 3]"
      ]
     },
     "execution_count": 11,
     "metadata": {},
     "output_type": "execute_result"
    }
   ],
   "source": [
    "y_test"
   ]
  },
  {
   "cell_type": "code",
   "execution_count": 12,
   "id": "e65be6b7",
   "metadata": {
    "execution": {
     "iopub.execute_input": "2024-10-07T00:23:13.724081Z",
     "iopub.status.busy": "2024-10-07T00:23:13.723830Z",
     "iopub.status.idle": "2024-10-07T00:23:13.749013Z",
     "shell.execute_reply": "2024-10-07T00:23:13.748212Z"
    },
    "papermill": {
     "duration": 0.03332,
     "end_time": "2024-10-07T00:23:13.750899",
     "exception": false,
     "start_time": "2024-10-07T00:23:13.717579",
     "status": "completed"
    },
    "tags": []
   },
   "outputs": [
    {
     "data": {
      "text/html": [
       "<style>#sk-container-id-2 {color: black;background-color: white;}#sk-container-id-2 pre{padding: 0;}#sk-container-id-2 div.sk-toggleable {background-color: white;}#sk-container-id-2 label.sk-toggleable__label {cursor: pointer;display: block;width: 100%;margin-bottom: 0;padding: 0.3em;box-sizing: border-box;text-align: center;}#sk-container-id-2 label.sk-toggleable__label-arrow:before {content: \"▸\";float: left;margin-right: 0.25em;color: #696969;}#sk-container-id-2 label.sk-toggleable__label-arrow:hover:before {color: black;}#sk-container-id-2 div.sk-estimator:hover label.sk-toggleable__label-arrow:before {color: black;}#sk-container-id-2 div.sk-toggleable__content {max-height: 0;max-width: 0;overflow: hidden;text-align: left;background-color: #f0f8ff;}#sk-container-id-2 div.sk-toggleable__content pre {margin: 0.2em;color: black;border-radius: 0.25em;background-color: #f0f8ff;}#sk-container-id-2 input.sk-toggleable__control:checked~div.sk-toggleable__content {max-height: 200px;max-width: 100%;overflow: auto;}#sk-container-id-2 input.sk-toggleable__control:checked~label.sk-toggleable__label-arrow:before {content: \"▾\";}#sk-container-id-2 div.sk-estimator input.sk-toggleable__control:checked~label.sk-toggleable__label {background-color: #d4ebff;}#sk-container-id-2 div.sk-label input.sk-toggleable__control:checked~label.sk-toggleable__label {background-color: #d4ebff;}#sk-container-id-2 input.sk-hidden--visually {border: 0;clip: rect(1px 1px 1px 1px);clip: rect(1px, 1px, 1px, 1px);height: 1px;margin: -1px;overflow: hidden;padding: 0;position: absolute;width: 1px;}#sk-container-id-2 div.sk-estimator {font-family: monospace;background-color: #f0f8ff;border: 1px dotted black;border-radius: 0.25em;box-sizing: border-box;margin-bottom: 0.5em;}#sk-container-id-2 div.sk-estimator:hover {background-color: #d4ebff;}#sk-container-id-2 div.sk-parallel-item::after {content: \"\";width: 100%;border-bottom: 1px solid gray;flex-grow: 1;}#sk-container-id-2 div.sk-label:hover label.sk-toggleable__label {background-color: #d4ebff;}#sk-container-id-2 div.sk-serial::before {content: \"\";position: absolute;border-left: 1px solid gray;box-sizing: border-box;top: 0;bottom: 0;left: 50%;z-index: 0;}#sk-container-id-2 div.sk-serial {display: flex;flex-direction: column;align-items: center;background-color: white;padding-right: 0.2em;padding-left: 0.2em;position: relative;}#sk-container-id-2 div.sk-item {position: relative;z-index: 1;}#sk-container-id-2 div.sk-parallel {display: flex;align-items: stretch;justify-content: center;background-color: white;position: relative;}#sk-container-id-2 div.sk-item::before, #sk-container-id-2 div.sk-parallel-item::before {content: \"\";position: absolute;border-left: 1px solid gray;box-sizing: border-box;top: 0;bottom: 0;left: 50%;z-index: -1;}#sk-container-id-2 div.sk-parallel-item {display: flex;flex-direction: column;z-index: 1;position: relative;background-color: white;}#sk-container-id-2 div.sk-parallel-item:first-child::after {align-self: flex-end;width: 50%;}#sk-container-id-2 div.sk-parallel-item:last-child::after {align-self: flex-start;width: 50%;}#sk-container-id-2 div.sk-parallel-item:only-child::after {width: 0;}#sk-container-id-2 div.sk-dashed-wrapped {border: 1px dashed gray;margin: 0 0.4em 0.5em 0.4em;box-sizing: border-box;padding-bottom: 0.4em;background-color: white;}#sk-container-id-2 div.sk-label label {font-family: monospace;font-weight: bold;display: inline-block;line-height: 1.2em;}#sk-container-id-2 div.sk-label-container {text-align: center;}#sk-container-id-2 div.sk-container {/* jupyter's `normalize.less` sets `[hidden] { display: none; }` but bootstrap.min.css set `[hidden] { display: none !important; }` so we also need the `!important` here to be able to override the default hidden behavior on the sphinx rendered scikit-learn.org. See: https://github.com/scikit-learn/scikit-learn/issues/21755 */display: inline-block !important;position: relative;}#sk-container-id-2 div.sk-text-repr-fallback {display: none;}</style><div id=\"sk-container-id-2\" class=\"sk-top-container\"><div class=\"sk-text-repr-fallback\"><pre>LinearRegression()</pre><b>In a Jupyter environment, please rerun this cell to show the HTML representation or trust the notebook. <br />On GitHub, the HTML representation is unable to render, please try loading this page with nbviewer.org.</b></div><div class=\"sk-container\" hidden><div class=\"sk-item\"><div class=\"sk-estimator sk-toggleable\"><input class=\"sk-toggleable__control sk-hidden--visually\" id=\"sk-estimator-id-2\" type=\"checkbox\" checked><label for=\"sk-estimator-id-2\" class=\"sk-toggleable__label sk-toggleable__label-arrow\">LinearRegression</label><div class=\"sk-toggleable__content\"><pre>LinearRegression()</pre></div></div></div></div></div>"
      ],
      "text/plain": [
       "LinearRegression()"
      ]
     },
     "execution_count": 12,
     "metadata": {},
     "output_type": "execute_result"
    }
   ],
   "source": [
    "example_model.fit(X_train, y_train)"
   ]
  },
  {
   "cell_type": "code",
   "execution_count": 13,
   "id": "9482772a",
   "metadata": {
    "execution": {
     "iopub.execute_input": "2024-10-07T00:23:13.763503Z",
     "iopub.status.busy": "2024-10-07T00:23:13.763244Z",
     "iopub.status.idle": "2024-10-07T00:23:13.768877Z",
     "shell.execute_reply": "2024-10-07T00:23:13.768083Z"
    },
    "papermill": {
     "duration": 0.014063,
     "end_time": "2024-10-07T00:23:13.770732",
     "exception": false,
     "start_time": "2024-10-07T00:23:13.756669",
     "status": "completed"
    },
    "tags": []
   },
   "outputs": [
    {
     "data": {
      "text/plain": [
       "array([ 7.00000000e+00, -1.44328993e-15,  5.00000000e+00,  3.00000000e+00])"
      ]
     },
     "execution_count": 13,
     "metadata": {},
     "output_type": "execute_result"
    }
   ],
   "source": [
    "example_predictions = example_model.predict(X_test)\n",
    "example_predictions"
   ]
  }
 ],
 "metadata": {
  "kaggle": {
   "accelerator": "none",
   "dataSources": [],
   "dockerImageVersionId": 30732,
   "isGpuEnabled": false,
   "isInternetEnabled": false,
   "language": "python",
   "sourceType": "notebook"
  },
  "kernelspec": {
   "display_name": "Python 3",
   "language": "python",
   "name": "python3"
  },
  "language_info": {
   "codemirror_mode": {
    "name": "ipython",
    "version": 3
   },
   "file_extension": ".py",
   "mimetype": "text/x-python",
   "name": "python",
   "nbconvert_exporter": "python",
   "pygments_lexer": "ipython3",
   "version": "3.10.13"
  },
  "papermill": {
   "default_parameters": {},
   "duration": 38.930599,
   "end_time": "2024-10-07T00:23:14.195561",
   "environment_variables": {},
   "exception": null,
   "input_path": "__notebook__.ipynb",
   "output_path": "__notebook__.ipynb",
   "parameters": {},
   "start_time": "2024-10-07T00:22:35.264962",
   "version": "2.5.0"
  }
 },
 "nbformat": 4,
 "nbformat_minor": 5
}
